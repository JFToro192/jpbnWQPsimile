{
 "cells": [
  {
   "cell_type": "markdown",
   "id": "c33429a9-3e95-42a4-881c-2de005f2ed23",
   "metadata": {},
   "source": [
    "# Meteorological Data Download\n",
    "\n",
    "This notebook aims at accessing the reference meteorological data for the processing of the Water Quality Parameters (WQPs) maps. The data acquisition will be performed using the Socrata python API to request the data from the [Open Data Portal of Lombardy Region](https://www.dati.lombardia.it/)."
   ]
  },
  {
   "cell_type": "markdown",
   "id": "16bd80cc-0949-4a6e-95f2-1d50312fa00f",
   "metadata": {},
   "source": [
    "## 1. Define Workspace"
   ]
  },
  {
   "cell_type": "code",
   "execution_count": null,
   "id": "cb808f4e-c60f-40c8-95ac-e9fa8198bd8b",
   "metadata": {},
   "outputs": [],
   "source": [
    "# Config Libraries\n",
    "import os\n",
    "from dotenv import load_dotenv\n",
    "# API requests\n",
    "from sodapy import Socrata\n",
    "# Data Management\n",
    "import numpy as np\n",
    "import pandas as pd\n",
    "import geopandas as gpd\n",
    "# Plotting\n",
    "import matplotlib.pyplot as plt"
   ]
  },
  {
   "cell_type": "code",
   "execution_count": null,
   "id": "d8d27925-0ba2-411d-8e55-c6fcd823cd0b",
   "metadata": {},
   "outputs": [],
   "source": [
    "cwd = {\n",
    "    'wqp_path': './in/satellite_imagery/wqp_parameters',\n",
    "    'simile_lakes': './vector/simile_laghi'\n",
    "}    "
   ]
  },
  {
   "cell_type": "markdown",
   "id": "bd2d6a06-ecfc-466a-bb1c-550379c450dc",
   "metadata": {},
   "source": [
    "## 2. Setup Socrata Client\n",
    "\n",
    "For this step, it is necessary to create an account in the [Open Data Portal of Lombardy Region](https://www.dati.lombardia.it/login). Once your account is created, go to \"My profile\" section of your account to request the App Token to allow you requesting data from the catalog."
   ]
  },
  {
   "cell_type": "code",
   "execution_count": null,
   "id": "868342f5-0e61-408b-809f-227cb39894bc",
   "metadata": {},
   "outputs": [],
   "source": [
    "%%capture\n",
    "load_dotenv()"
   ]
  },
  {
   "cell_type": "markdown",
   "id": "1a00ba00-8ea5-4346-969f-4f835281c9ca",
   "metadata": {},
   "source": [
    "Fill in the `./notebooks/.env` file with your credentials accordingly to setup the client that will enable the requests to the catalog."
   ]
  },
  {
   "cell_type": "code",
   "execution_count": null,
   "id": "221e997b-4434-40e8-a1ec-4e49d8efdb95",
   "metadata": {},
   "outputs": [],
   "source": [
    "url = os.environ['SOCRATA_DATA_PROVIDER']\n",
    "user = os.environ['SOCRATA_USER']\n",
    "password = os.environ['SOCRATA_PASSWORD']\n",
    "token = os.environ['SOCRATA_APP_TOKEN']"
   ]
  },
  {
   "cell_type": "code",
   "execution_count": null,
   "id": "8c0e4f8c-8c53-4b4a-9faf-7183ebec5121",
   "metadata": {},
   "outputs": [],
   "source": [
    "client = Socrata(\n",
    "        url,\n",
    "        app_token = token,\n",
    "        username = user,\n",
    "        password = password,\n",
    "        timeout=100000\n",
    ")"
   ]
  },
  {
   "cell_type": "markdown",
   "id": "a1ec4713-7d5d-4f1b-9829-200a3773de4c",
   "metadata": {},
   "source": [
    "Each dataset can be requested using the Socrata API by means of an id. In this case, we will request the time series for the current past month of meteorological data.\n",
    "\n",
    "* Meteorological Stations Location: nf78-nj6b\n",
    "* Meteorological Stations Time Series: 647i-nhxk\n",
    "\n",
    "Notice that for the time series an additional parameters is included in the GET request. The parameter corresponds to a condition for the ID of the station of interest in Como Province (Tremezzo).\n",
    "\n",
    "**NOTE:** The time series are also accessible through a module request directly to [ARPA Lombardia](https://www.arpalombardia.it/Pages/Meteorologia/Richiesta-dati-misurati.aspx#)."
   ]
  },
  {
   "cell_type": "code",
   "execution_count": null,
   "id": "584041b0-e8b2-4678-88ee-dfc7cdfc2fcb",
   "metadata": {},
   "outputs": [],
   "source": [
    "meteoStations = client.get('nf78-nj6b')\n",
    "meteoData = client.get('647i-nhxk',IdSensore='14606', limit = 100000)"
   ]
  },
  {
   "cell_type": "code",
   "execution_count": null,
   "id": "477da4a3-887b-47be-a896-e909903b9e47",
   "metadata": {},
   "outputs": [],
   "source": [
    "# Pass data to dataframe\n",
    "df_SL = gpd.GeoDataFrame(meteoStations)\n",
    "gdf_SL = gpd.GeoDataFrame(df_SL, geometry=gpd.points_from_xy(df_SL.lat, df_SL.lng))\n",
    "df_TS = pd.DataFrame(meteoData)\n",
    "# Lakes shapes\n",
    "df_lakes = gpd.read_file(os.path.join(cwd['simile_lakes'],'simile_laghi.shp'))"
   ]
  },
  {
   "cell_type": "markdown",
   "id": "fb4d15c3-0dad-4a54-86de-6dfb58795635",
   "metadata": {},
   "source": [
    "## 3. Data Review"
   ]
  },
  {
   "cell_type": "markdown",
   "id": "d072e2ca-d2ca-45f8-b7c6-c6d74a160036",
   "metadata": {},
   "source": [
    "**IMPORTANT:** In case of need of data previous to the current month, you must update the initial archive by adding the corresponding year dataset through the method presented in the [Appendix]('Appendix') section"
   ]
  },
  {
   "cell_type": "code",
   "execution_count": null,
   "id": "10e2e202-b39a-4271-94b6-06f6bcce3cfd",
   "metadata": {},
   "outputs": [],
   "source": [
    "df_TS.head()"
   ]
  },
  {
   "cell_type": "code",
   "execution_count": null,
   "id": "f70c12cd-491c-441f-8c58-73b9e9f6aba1",
   "metadata": {},
   "outputs": [],
   "source": [
    "#The coulmns must be renamed to fit the existing data\n",
    "keysData = {\n",
    "    'idsensore':'IdSensore',\n",
    "    'data':'Data',\n",
    "    'valore':'Valore',\n",
    "    'idoperatore':'idOperatore',\n",
    "    'stato':'Stato',\n",
    "}\n",
    "df_TS.rename(columns = keysData, inplace = True)"
   ]
  },
  {
   "cell_type": "code",
   "execution_count": null,
   "id": "735f1218-dbaf-42b8-9c84-03e199272634",
   "metadata": {},
   "outputs": [],
   "source": [
    "df_TS.head()"
   ]
  },
  {
   "cell_type": "code",
   "execution_count": null,
   "id": "c7d8b249-1aef-417b-8b0f-8b8b5bdf8130",
   "metadata": {},
   "outputs": [],
   "source": [
    "df_TS[\"IdSensore\"] = df_TS['IdSensore'].astype('int')\n",
    "df_TS[\"Data\"] = pd.to_datetime(df_TS['Data'])\n",
    "df_TS[\"Valore\"] = df_TS['Valore'].astype('float')\n",
    "df_TS[\"idOperatore\"] = df_TS['idOperatore'].astype('int')\n",
    "df_TS[\"Stato\"] = df_TS['Stato'].astype('str')"
   ]
  },
  {
   "cell_type": "code",
   "execution_count": null,
   "id": "c30f5e8e-3589-4f01-b19a-418f18a43dce",
   "metadata": {},
   "outputs": [],
   "source": [
    "fig, ax = plt.subplots(figsize=(25, 5))\n",
    "df_TS.plot('Data','Valore', ax=ax)\n",
    "ax.grid()"
   ]
  },
  {
   "cell_type": "code",
   "execution_count": null,
   "id": "e952e44a-8b28-487b-a39a-1e936ffaa6f0",
   "metadata": {},
   "outputs": [],
   "source": [
    "print(f'Start Date: {min(df_TS.Data)}')\n",
    "print(f'End Date: {max(df_TS.Data)}')\n",
    "print(f'Min value: {min(df_TS.Valore)}')\n",
    "print(f'Max value: {max(df_TS.Valore)}')\n",
    "print(f'Mean value: {np.mean(df_TS.Valore)}')\n",
    "df_TS.head()"
   ]
  },
  {
   "cell_type": "markdown",
   "id": "e4e2d6dc-d8d6-4b38-be63-afce8792a31e",
   "metadata": {},
   "source": [
    "## 4. Update Temperature Records"
   ]
  },
  {
   "cell_type": "code",
   "execution_count": null,
   "id": "3b018291-cb0e-4955-a0d1-149570b57a5c",
   "metadata": {},
   "outputs": [],
   "source": [
    "df = pd.read_csv(os.path.join(cwd['wqp_path'],'meteoTemp.csv'))\n",
    "df[\"IdSensore\"] = df['IdSensore'].astype('int')\n",
    "df[\"Data\"] = pd.to_datetime(df['Data'])\n",
    "df[\"Valore\"] = df['Valore'].astype('float')\n",
    "df[\"idOperatore\"] = df['idOperatore'].astype('int')\n",
    "df[\"Stato\"] = df['Stato'].astype('str')\n",
    "max(df.Data)"
   ]
  },
  {
   "cell_type": "code",
   "execution_count": null,
   "id": "23c7b561-f36d-4696-8d3f-031296fa4bdf",
   "metadata": {},
   "outputs": [],
   "source": [
    "df[-5:]"
   ]
  },
  {
   "cell_type": "code",
   "execution_count": null,
   "id": "df32f260-7e47-4658-8869-3ee0664d7c40",
   "metadata": {},
   "outputs": [],
   "source": [
    "# Load available records\n",
    "df = pd.read_csv(os.path.join(cwd['wqp_path'],'meteoTemp.csv'))\n",
    "\n",
    "df[\"IdSensore\"] = df['IdSensore'].astype('int')\n",
    "df[\"Data\"] = pd.to_datetime(df['Data'], format=\"%d/%m/%Y %H:%M:%S\")\n",
    "# df[\"Data\"] = pd.to_datetime(df['Data'])\n",
    "df[\"Valore\"] = df['Valore'].astype('float')\n",
    "df[\"idOperatore\"] = df['idOperatore'].astype('int')\n",
    "df[\"Stato\"] = df['Stato'].astype('str')\n",
    "\n",
    "print(f'Currently the temperature file hosts {df.shape[0]} records')\n",
    "print(f'Start Date: {min(df.Data)} records')\n",
    "print(f'End Date: {max(df.Data)} records')"
   ]
  },
  {
   "cell_type": "code",
   "execution_count": null,
   "id": "ae1b1b96-5eb9-4e75-a737-af988fcfcf54",
   "metadata": {},
   "outputs": [],
   "source": [
    "# Update the dataframe with the recently retrieved dates for the current month\n",
    "df = pd.concat([df,df_TS])\n",
    "df = df.drop_duplicates() #Since a query over the date is not performed, we must make sure that there are no ducplicate records"
   ]
  },
  {
   "cell_type": "code",
   "execution_count": null,
   "id": "7d2ce115-3373-4027-9336-66486caa24f5",
   "metadata": {},
   "outputs": [],
   "source": [
    "print(f'The updated the temperature file hosts {df.shape[0]} records')\n",
    "print(f'Start Date: {min(df.Data)}')\n",
    "print(f'End Date: {max(df.Data)}')"
   ]
  },
  {
   "cell_type": "code",
   "execution_count": null,
   "id": "fc42d4fe-c807-4e48-907a-a64a13a4bbb8",
   "metadata": {},
   "outputs": [],
   "source": [
    "df[\"Data\"] = pd.to_datetime(df['Data'])\n",
    "df.to_csv(os.path.join(cwd['wqp_path'],'meteoTemp.csv'),index=False)"
   ]
  },
  {
   "cell_type": "markdown",
   "id": "fdb542d8-250e-482a-8fb5-bbce312da234",
   "metadata": {},
   "source": [
    "## 5. Temperature Acquisition Time\n",
    "\n",
    "Here, we present the temperature measurements of the selected sensor around the usual time of acquisition of the satellite images for the S3 A/B OLCI sensor."
   ]
  },
  {
   "cell_type": "code",
   "execution_count": null,
   "id": "c99edcba-8ce1-4e08-90bc-9e357fa12b3a",
   "metadata": {},
   "outputs": [],
   "source": [
    "# Load available records\n",
    "df = pd.read_csv(os.path.join(cwd['wqp_path'],'meteoTemp.csv'))\n",
    "df[\"IdSensore\"] = df['IdSensore'].astype('int')\n",
    "df[\"Data\"] = pd.to_datetime(df['Data'], format=\"%d-%m-%Y %H:%M\")\n",
    "# df[\"Data\"] = pd.to_datetime(df['Data'])\n",
    "df[\"Valore\"] = df['Valore'].astype('float')\n",
    "df[\"idOperatore\"] = df['idOperatore'].astype('int')\n",
    "df[\"Stato\"] = df['Stato'].astype('str')\n",
    "df = df.set_index('Data')"
   ]
  },
  {
   "cell_type": "markdown",
   "id": "b085c6f9-2aa7-47e0-b662-e2e022862d0c",
   "metadata": {},
   "source": [
    "Sentinel 3 A/B images are regularly retrieved around 10:00."
   ]
  },
  {
   "cell_type": "code",
   "execution_count": null,
   "id": "c22c31f5-f495-44b1-9f12-beddc918b1fe",
   "metadata": {},
   "outputs": [],
   "source": [
    "df_t = df[df.index.hour==10]"
   ]
  },
  {
   "cell_type": "code",
   "execution_count": null,
   "id": "c3e7ef92-dcc5-4915-ba18-8f3c783cbed3",
   "metadata": {},
   "outputs": [],
   "source": [
    "pv = pd.pivot_table(df_t, index=df_t.index.strftime('%m-%d'), columns=df_t.index.year,\n",
    "                    values='Valore')\n",
    "fig, ax = plt.subplots(figsize=(25, 5))\n",
    "pv.plot(ax=ax)\n",
    "ax.set_title('Temperature [°C] - Sensor ID: 14606 - Tremezzo, Como - 10h')\n",
    "ax.grid()"
   ]
  },
  {
   "cell_type": "markdown",
   "id": "b5592ad6-86e6-4bd7-ae9b-6f4b7d550b8e",
   "metadata": {
    "tags": []
   },
   "source": [
    "<h2 id='Appendix'>Appendix</h2>\n",
    "\n",
    "In this section, we will retrieve the historical data of the temperature time series. The data is not available through the API. However, it is possible to download the data as .csv file from the [Open Data Portal of the Lombardy Region](https://www.dati.lombardia.it/). Edit the following cells for retrieving the data prior to the current month."
   ]
  },
  {
   "cell_type": "code",
   "execution_count": null,
   "id": "06859aac-3c42-4c96-88d0-331383eebbbc",
   "metadata": {},
   "outputs": [],
   "source": [
    "# The API available data corresponds to the one of the current month.\n",
    "# For past data, it is necessary to download the yearly datasets.\n",
    "url_2019 = \"/download/wrhf-6ztd/application%2Fzip\"\n",
    "url_2020 = \"/download/erjn-istm/application%2Fzip\"\n",
    "url_2021 = \"/download/49n9-866s/application%2Fzip\"\n",
    "url_2022 = \"/download/mvvc-nmzv/application%2Fzip\""
   ]
  },
  {
   "cell_type": "code",
   "execution_count": null,
   "id": "17705887-28e8-4a90-a21b-be84bbe836ac",
   "metadata": {},
   "outputs": [],
   "source": [
    "# Compose the request for the years of interest and unzip the files.\n",
    "import zipfile\n",
    "import os\n",
    "import requests\n",
    "def downloadOldMeteo(url, out_path, file_name):\n",
    "    response = requests.get(url)\n",
    "    zip_name = out_path+file_name\n",
    "    open(zip_name, \"wb\").write(response.content)\n",
    "    with zipfile.ZipFile(zip_name, 'r') as zip_ref:\n",
    "        zip_ref.extractall(out_path)\n",
    "    os.remove(zip_name)"
   ]
  },
  {
   "cell_type": "code",
   "execution_count": null,
   "id": "d9700f30-2a10-43cc-a6c8-6ccd0fa1e76c",
   "metadata": {},
   "outputs": [],
   "source": [
    "# Execute the records download\n",
    "# downloadOldMeteo('https://'+os.environ['SOCRATA_DATA_PROVIDER']+url_2019,\"./meteo\",\"/2019.zip\")\n",
    "# downloadOldMeteo('https://'+os.environ['SOCRATA_DATA_PROVIDER']+url_2020,\"./meteo\",\"/2020.zip\")\n",
    "# downloadOldMeteo('https://'+os.environ['SOCRATA_DATA_PROVIDER']+url_2021,\"./meteo\",\"/2021.zip\")\n",
    "downloadOldMeteo('https://'+os.environ['SOCRATA_DATA_PROVIDER']+url_2022,\"./meteo\",\"/2022.zip\")"
   ]
  },
  {
   "cell_type": "code",
   "execution_count": null,
   "id": "f5583657-d086-419b-a183-334b592ed6af",
   "metadata": {},
   "outputs": [],
   "source": [
    "# Create list of dataframes with the historical records for the station of interest.\n",
    "# This step may take some time since each .csv file contains over 3e6 records for the whole meteorological network of sensors of ARPA Lombardia. \n",
    "l = []\n",
    "for root, dirs, files in os.walk('./meteo'):\n",
    "    for f in files:\n",
    "        if f.endswith('.csv'):\n",
    "            print(f)\n",
    "            df = pd.read_csv(os.path.join(root,f))\n",
    "            df = df[df['IdSensore']==14606]\n",
    "            l.append(df) \n",
    "df = pd.concat(l)\n",
    "df.to_csv(os.path.join(cwd['wqp_path'],'meteoTemp.csv'),index=False)"
   ]
  },
  {
   "cell_type": "code",
   "execution_count": null,
   "id": "f3b8367b-64a5-412d-b6ff-e55b495bbd33",
   "metadata": {},
   "outputs": [],
   "source": [
    "# df = pd.concat(l)\n",
    "df.to_csv(os.path.join(cwd['wqp_path'],'meteoTemp.csv'),index=False,encoding='utf-8')"
   ]
  },
  {
   "cell_type": "code",
   "execution_count": null,
   "id": "f7ffe8ee-25a0-4c26-9e44-5699051de008",
   "metadata": {},
   "outputs": [],
   "source": [
    "# Uncomment the following line if the historical meteo data has been aggregated previously\n",
    "df = pd.read_csv(os.path.join(cwd['wqp_path'],'meteoTemp.csv'))\n",
    "df[\"IdSensore\"] = df['IdSensore'].astype('int')\n",
    "df[\"Data\"] = pd.to_datetime(df['Data'], format='%d/%m/%Y %H:%M:%S')\n",
    "df[\"Valore\"] = df['Valore'].astype('float')\n",
    "df[\"Stato\"] = df['Stato'].astype('str')\n",
    "df[\"idOperatore\"] = df['idOperatore'].astype('int')"
   ]
  },
  {
   "cell_type": "code",
   "execution_count": null,
   "id": "0ea62265-c7b3-49be-aaf6-66cf210e1bef",
   "metadata": {},
   "outputs": [],
   "source": [
    "df = df.set_index('Data')"
   ]
  },
  {
   "cell_type": "code",
   "execution_count": null,
   "id": "ae9178e4-df31-433d-9ac6-c62c4523b7f6",
   "metadata": {},
   "outputs": [],
   "source": [
    "pv = pd.pivot_table(df, index=df.index.strftime('%m-%d'), columns=df.index.year,\n",
    "                    values='Valore')\n",
    "fig, ax = plt.subplots(figsize=(25, 10))\n",
    "pv.plot(ax=ax)\n",
    "ax.grid()"
   ]
  },
  {
   "cell_type": "code",
   "execution_count": null,
   "id": "f7bfb07b-f839-45c9-9fc7-ddefe31187d8",
   "metadata": {},
   "outputs": [],
   "source": [
    "fig, ax = plt.subplots(4,1,figsize=(20, 15), sharex='col')\n",
    "i = 0\n",
    "for year in list(df.index.year.unique()):\n",
    "    temp = []\n",
    "    df_y = df[df.index.year==year]\n",
    "    for month in np.linspace(1,12,12):\n",
    "        temp.append(list(df_y[df_y.index.month==month]['Valore']))\n",
    "    ax[i].boxplot(temp)\n",
    "    ax[i].set_title(f'{year}')\n",
    "    ax[i].set_ylabel(f'T [°C]')\n",
    "    ax[i].grid()\n",
    "    # df_y.boxplot(by=df_y.index.month,column=['Valore'], ax=ax[i], labels=)\n",
    "    i += 1"
   ]
  },
  {
   "cell_type": "code",
   "execution_count": null,
   "id": "ea10727f-1b04-4ce2-8671-5d79c8861796",
   "metadata": {},
   "outputs": [],
   "source": []
  }
 ],
 "metadata": {
  "kernelspec": {
   "display_name": "snapEnv (Python)",
   "language": "python",
   "name": "snapenv"
  },
  "language_info": {
   "codemirror_mode": {
    "name": "ipython",
    "version": 3
   },
   "file_extension": ".py",
   "mimetype": "text/x-python",
   "name": "python",
   "nbconvert_exporter": "python",
   "pygments_lexer": "ipython3",
   "version": "3.6.15"
  }
 },
 "nbformat": 4,
 "nbformat_minor": 5
}
