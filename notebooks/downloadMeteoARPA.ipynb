{
 "cells": [
  {
   "cell_type": "code",
   "execution_count": null,
   "id": "cb808f4e-c60f-40c8-95ac-e9fa8198bd8b",
   "metadata": {},
   "outputs": [],
   "source": [
    "# Setup Notebook\n",
    "import base64\n",
    "import os\n",
    "import ipywidgets as wg\n",
    "from IPython.display import display\n",
    "# API requests\n",
    "import json\n",
    "import requests\n",
    "from sodapy import Socrata"
   ]
  },
  {
   "cell_type": "code",
   "execution_count": null,
   "id": "6f7f3516-452f-47ee-964a-7228d2dcb452",
   "metadata": {},
   "outputs": [],
   "source": [
    "user = wg.Text (description = 'Socrata User Name')\n",
    "password = wg.Password(placeholder='Enter password',description='Socrata Password:')\n",
    "token = wg.Password(placeholder='Enter token',description='Socrata Token:')\n",
    "display (user, password, token)"
   ]
  },
  {
   "cell_type": "code",
   "execution_count": null,
   "id": "221e997b-4434-40e8-a1ec-4e49d8efdb95",
   "metadata": {},
   "outputs": [],
   "source": [
    "url = 'dati.lombardia.it'\n",
    "user = user.value\n",
    "password = password.value\n",
    "token = token.value"
   ]
  },
  {
   "cell_type": "code",
   "execution_count": null,
   "id": "7b2a2729-620b-4a7d-acc5-50f3686c5e02",
   "metadata": {},
   "outputs": [],
   "source": [
    "# Load Credentials from secret file\n",
    "with open('./setup/secrets.json', 'r') as f:\n",
    "  secrets_socrata = json.load(f)"
   ]
  },
  {
   "cell_type": "code",
   "execution_count": null,
   "id": "1de5fb0b-2c0a-4974-80e7-ca7a533c1b5b",
   "metadata": {},
   "outputs": [],
   "source": [
    "secrets_socrata"
   ]
  },
  {
   "cell_type": "code",
   "execution_count": null,
   "id": "8c0e4f8c-8c53-4b4a-9faf-7183ebec5121",
   "metadata": {},
   "outputs": [],
   "source": [
    "client = Socrata(\n",
    "        secrets_socrata['DATA_PROVIDER_URL'],\n",
    "        app_token = secrets_socrata['API_TOKEN_SOCRATA'],\n",
    "        # username = secrets_socrata['USER_NAME_SOCRATA'],\n",
    "        # password = secrets_socrata['USER_PWD_SOCRATA'],\n",
    "        timeout=10\n",
    "    )"
   ]
  },
  {
   "cell_type": "code",
   "execution_count": null,
   "id": "013e2010-05bf-4528-b50e-f48644d570b2",
   "metadata": {},
   "outputs": [],
   "source": [
    "datasetsList = client.datasets()"
   ]
  },
  {
   "cell_type": "code",
   "execution_count": null,
   "id": "5d1fd6af-4bd3-4cc0-95d9-ddba7dcb7bd6",
   "metadata": {},
   "outputs": [],
   "source": [
    "for d in datasetsList:\n",
    "    if d['resource']['name'] == 'Dati sensori meteo':\n",
    "        print(d)"
   ]
  },
  {
   "cell_type": "code",
   "execution_count": null,
   "id": "74048a09-548d-44a4-9246-ff621b4e3bae",
   "metadata": {},
   "outputs": [],
   "source": [
    "client.__dict__"
   ]
  },
  {
   "cell_type": "code",
   "execution_count": null,
   "id": "584041b0-e8b2-4678-88ee-dfc7cdfc2fcb",
   "metadata": {},
   "outputs": [],
   "source": [
    "meteoStations = client.get_metadata('647i-nhxk')"
   ]
  },
  {
   "cell_type": "code",
   "execution_count": null,
   "id": "477da4a3-887b-47be-a896-e909903b9e47",
   "metadata": {},
   "outputs": [],
   "source": []
  }
 ],
 "metadata": {
  "kernelspec": {
   "display_name": "snapEnv (Python)",
   "language": "python",
   "name": "snapenv"
  },
  "language_info": {
   "codemirror_mode": {
    "name": "ipython",
    "version": 3
   },
   "file_extension": ".py",
   "mimetype": "text/x-python",
   "name": "python",
   "nbconvert_exporter": "python",
   "pygments_lexer": "ipython3",
   "version": "3.6.15"
  }
 },
 "nbformat": 4,
 "nbformat_minor": 5
}
