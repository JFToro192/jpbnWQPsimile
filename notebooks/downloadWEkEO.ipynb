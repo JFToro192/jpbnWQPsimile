{
 "cells": [
  {
   "cell_type": "markdown",
   "id": "866c8723-86f5-450a-8e93-f5957640b76e",
   "metadata": {},
   "source": [
    "# Sentinel 3 - OLCI Data Download\n",
    "\n",
    "This notebook presents the tools for the data access and download of Sentinel-3 A/B data OLCI images using the WEkEO API."
   ]
  },
  {
   "cell_type": "markdown",
   "id": "ef74340c-4be9-434f-92a5-2d93e074fbd8",
   "metadata": {},
   "source": [
    "## 1. Define Workspace"
   ]
  },
  {
   "cell_type": "code",
   "execution_count": null,
   "id": "346d7855-e527-44d4-895c-2711ade034ce",
   "metadata": {},
   "outputs": [],
   "source": [
    "import base64\n",
    "import os\n",
    "import shutil\n",
    "from dotenv import load_dotenv\n",
    "load_dotenv()\n",
    "\n",
    "# API requests config\n",
    "import requests\n",
    "\n",
    "# Widgets and maps view\n",
    "# from __future__ import print_function\n",
    "from ipywidgets import interact, interactive, fixed, interact_manual\n",
    "import ipywidgets as wg\n",
    "# from IPython.display import display"
   ]
  },
  {
   "cell_type": "code",
   "execution_count": null,
   "id": "ac2e11a0-82b3-44c6-bb19-acae499d5888",
   "metadata": {},
   "outputs": [],
   "source": [
    "cwd = {\n",
    "    'S3_images': './in/satellite_imagery/S3',\n",
    "    'simile_lakes': './vector/simile_laghi'\n",
    "}   "
   ]
  },
  {
   "cell_type": "markdown",
   "id": "a6b9d291-5602-402a-87e9-401986f487cb",
   "metadata": {},
   "source": [
    "## 2. Setup HDA Client\n",
    "\n",
    "For setting up the credentials for the HDA API, you must edit the `./notebooks/.env` file with you WEkEO user. It is possible to create a user account in the [WEkEO](https://www.wekeo.eu/) platform by going to the **Register** option and complitening the form to create an account"
   ]
  },
  {
   "cell_type": "code",
   "execution_count": null,
   "id": "382a87f6-e7fb-46a8-9f9c-6bbd18a9f28e",
   "metadata": {},
   "outputs": [],
   "source": [
    "# Import the credentials from the configuration file in the notebooks directory\n",
    "url = os.environ['HDA_URL']\n",
    "user = os.environ['HDA_USER']\n",
    "password = os.environ['HDA_PASSWORD']"
   ]
  },
  {
   "cell_type": "code",
   "execution_count": null,
   "id": "43e78a6c-6957-466d-8f97-478060b71e83",
   "metadata": {},
   "outputs": [],
   "source": [
    "credentials = user+\": \"+password\n",
    "credentials_bytes = credentials.encode('ascii')\n",
    "base64_bytes = base64.b64encode(credentials_bytes)\n",
    "base64_credentials = base64_bytes.decode('ascii')"
   ]
  },
  {
   "cell_type": "markdown",
   "id": "12b336cf-e09e-46f3-94e6-cd6f443de84b",
   "metadata": {},
   "source": [
    "Create a string of a call to **GET** /gettoken to get a token. Execute it with os.popen in order to store output as variable"
   ]
  },
  {
   "cell_type": "code",
   "execution_count": null,
   "id": "94980af9-d423-46e4-b7b7-b92c0897a239",
   "metadata": {},
   "outputs": [],
   "source": [
    "header = {'authorization' : 'Basic '+base64_credentials}\n",
    "response = requests.get(url+'/gettoken', headers=header)\n",
    "response = response.json()"
   ]
  },
  {
   "cell_type": "markdown",
   "id": "8e256dbf-0c3f-4c46-893c-f37a48e958ff",
   "metadata": {},
   "source": [
    "Before data can be accessed, the Copernicus Terms and Conditions must be accepted. This needs to be done only once."
   ]
  },
  {
   "cell_type": "code",
   "execution_count": null,
   "id": "2c7d62ee-343c-4034-a11d-3ec2549a62d0",
   "metadata": {},
   "outputs": [],
   "source": [
    "header = {\n",
    "    'accept': 'application/json',\n",
    "    'authorization' : response['access_token']\n",
    "}\n",
    "requests.put(url+'/termsaccepted/Copernicus_General_License', headers=header)"
   ]
  },
  {
   "cell_type": "code",
   "execution_count": null,
   "id": "179ca1f1-578d-4471-848e-f7555eed772e",
   "metadata": {},
   "outputs": [],
   "source": [
    "parameters = 'url: '+url+'\\nuser: '+user+'\\npassword: '+password+'\\ntoken: '+response['access_token']"
   ]
  },
  {
   "cell_type": "code",
   "execution_count": null,
   "id": "87e5cb66-0b65-4d01-9403-760f69b0219a",
   "metadata": {},
   "outputs": [],
   "source": [
    "# Creation of the client .hdarc config file in the $HOME direcotry used by the hda API library. It is sufficient to run this step once.\n",
    "with open(os.path.join(os.environ['HOME'],'.hdarc'), 'w') as fp:\n",
    "    fp.write(parameters)"
   ]
  },
  {
   "cell_type": "markdown",
   "id": "71f0a1d5-415c-4b71-9fe1-cdfc8623d76a",
   "metadata": {},
   "source": [
    "## 3. Request Sentinel-3 A/B images\n",
    "\n",
    "In this section, we will review the parameters for the composition of a new request of the satellite images using the [hda API](https://www.wekeo.eu/docs/harmonised-data-access-api)."
   ]
  },
  {
   "cell_type": "code",
   "execution_count": null,
   "id": "54588c7b-0ff2-4721-972f-510b60c675d1",
   "metadata": {},
   "outputs": [],
   "source": [
    "from hda import Client"
   ]
  },
  {
   "cell_type": "code",
   "execution_count": null,
   "id": "96540103-8206-4357-a17b-ae464df36700",
   "metadata": {},
   "outputs": [],
   "source": [
    "#Avoid printing secrets\n",
    "c = Client()"
   ]
  },
  {
   "cell_type": "code",
   "execution_count": null,
   "id": "623578d8-850a-4438-8da8-97b44ee4ba6e",
   "metadata": {},
   "outputs": [],
   "source": [
    "# Import necessary libraries for the project\n",
    "\n",
    "# Data\n",
    "import pandas as pd\n",
    "import geopandas as gpd\n",
    "\n",
    "# Plotting\n",
    "import matplotlib.pyplot as plt\n",
    "from matplotlib_scalebar.scalebar import ScaleBar"
   ]
  },
  {
   "cell_type": "markdown",
   "id": "842c8b5b-2e21-42a9-882e-bf35828ce95e",
   "metadata": {},
   "source": [
    "Import the reference layer for determining the bound of the query. In this case, it corresponds to the lakes extent."
   ]
  },
  {
   "cell_type": "code",
   "execution_count": null,
   "id": "e60238a8-bee4-46e2-b33c-69a073edc48a",
   "metadata": {},
   "outputs": [],
   "source": [
    "gdf = gpd.read_file(os.path.join(cwd['simile_lakes'],'simile_laghi.shp'))"
   ]
  },
  {
   "cell_type": "code",
   "execution_count": null,
   "id": "170f2961-eb7d-4633-84c1-57e537e289df",
   "metadata": {},
   "outputs": [],
   "source": [
    "fig, ax = plt.subplots(figsize=(25, 5))\n",
    "# Plot lakes vector dataset\n",
    "gdf.plot(ax=ax)\n",
    "ax.grid()\n",
    "# Create scale bar\n",
    "scalebar = ScaleBar(0.001, \"km\", length_fraction=0.25)\n",
    "ax.add_artist(scalebar)"
   ]
  },
  {
   "cell_type": "code",
   "execution_count": null,
   "id": "ec84d8ef-9087-4fd1-9917-1c26c09b87e5",
   "metadata": {},
   "outputs": [],
   "source": [
    "# It is necessary to have the query coordinates in web mercator\n",
    "gdf = gdf.to_crs(\"EPSG:4326\")\n",
    "# Extract the information from the bounding box of the layer\n",
    "x_min = min(gdf.bounds['minx'])\n",
    "x_max = min(gdf.bounds['maxx'])\n",
    "y_min = min(gdf.bounds['miny'])\n",
    "y_max = min(gdf.bounds['maxy'])"
   ]
  },
  {
   "cell_type": "markdown",
   "id": "f834e2be-5b49-4dff-9c74-c3fb5224ab39",
   "metadata": {},
   "source": [
    "Define the dictionary with the parameters for the file to import. In this case, the image download refer to the *\"OLCI Level 1B Full Resolution - Sentinel-3\"* products available through the API. To find more information about the avaliable datasets in the platform you are welcome to visit the [WEkEO data viewer](https://www.wekeo.eu/data?view=viewer). Make sure to specify the dates of interest for the processing."
   ]
  },
  {
   "cell_type": "code",
   "execution_count": null,
   "id": "2972788f-b87b-49a9-b2bc-371388dd3778",
   "metadata": {
    "tags": []
   },
   "outputs": [],
   "source": [
    "query = {\n",
    "  \"datasetId\": \"EO:EUM:DAT:SENTINEL-3:OL_1_EFR___\",\n",
    "  \"boundingBoxValues\": [\n",
    "    {\n",
    "      \"name\": \"bbox\",\n",
    "      \"bbox\": [\n",
    "        x_min,\n",
    "        y_min,\n",
    "        x_max,\n",
    "        y_max\n",
    "      ]\n",
    "    }\n",
    "  ],\n",
    "  \"dateRangeSelectValues\": [\n",
    "    {\n",
    "      \"name\": \"position\",\n",
    "      \"start\": \"2022-09-07T00:00:00.000Z\",\n",
    "      \"end\": \"2022-09-19T00:00:00.000Z\"\n",
    "    }\n",
    "  ],\n",
    "  \"stringChoiceValues\": [\n",
    "    {\n",
    "      \"name\": \"platformname\",\n",
    "      \"value\": \"Sentinel-3\"\n",
    "    },\n",
    "    {\n",
    "      \"name\": \"producttype\",\n",
    "      \"value\": \"OL_1_EFR___\"\n",
    "    },\n",
    "    {\n",
    "      \"name\": \"timeliness\",\n",
    "      \"value\": \"Non Time Critical\"\n",
    "    }\n",
    "  ]\n",
    "}"
   ]
  },
  {
   "cell_type": "code",
   "execution_count": null,
   "id": "67f2bbef-f909-4791-a2e4-83543f5ee35f",
   "metadata": {},
   "outputs": [],
   "source": [
    "# The following line runs the query\n",
    "matches = c.search(query)\n",
    "\n",
    "# The following line prints the products returned by the query\n",
    "print(matches)"
   ]
  },
  {
   "cell_type": "code",
   "execution_count": null,
   "id": "9f1ad27f-aca8-4d0d-a348-542f29e8bb8c",
   "metadata": {},
   "outputs": [],
   "source": [
    "#The download starts. All the products found in the query are downloaded consecutively\n",
    "matches.download()"
   ]
  },
  {
   "cell_type": "code",
   "execution_count": null,
   "id": "f3f1de01-9847-4b27-aa1f-5a3e02928703",
   "metadata": {},
   "outputs": [],
   "source": [
    "for product in matches.__dict__['results']:\n",
    "    shutil.move(product['filename'], cwd['S3_images'])"
   ]
  },
  {
   "cell_type": "code",
   "execution_count": null,
   "id": "5b08f29d-28ae-4d35-9c87-9a67083a2079",
   "metadata": {},
   "outputs": [],
   "source": [
    "import zipfile\n",
    "for root, dirs, files in os.walk(cwd['S3_images']):\n",
    "    for zip_name in files:\n",
    "        with zipfile.ZipFile(os.path.join(root,zip_name), 'r') as zip_ref:\n",
    "            zip_ref.extractall(cwd['S3_images'])\n",
    "        os.remove(os.path.join(root,zip_name))"
   ]
  },
  {
   "cell_type": "code",
   "execution_count": null,
   "id": "76e09499-885e-4820-893d-76218b7006a4",
   "metadata": {},
   "outputs": [],
   "source": []
  }
 ],
 "metadata": {
  "kernelspec": {
   "display_name": "snapEnv (Python)",
   "language": "python",
   "name": "snapenv"
  },
  "language_info": {
   "codemirror_mode": {
    "name": "ipython",
    "version": 3
   },
   "file_extension": ".py",
   "mimetype": "text/x-python",
   "name": "python",
   "nbconvert_exporter": "python",
   "pygments_lexer": "ipython3",
   "version": "3.6.15"
  }
 },
 "nbformat": 4,
 "nbformat_minor": 5
}
