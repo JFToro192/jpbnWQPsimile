{
 "cells": [
  {
   "cell_type": "markdown",
   "id": "866c8723-86f5-450a-8e93-f5957640b76e",
   "metadata": {},
   "source": [
    "# Sentinel 3 - OLCI Data Download\n",
    "\n",
    "This notebook presents the tools for the data access and download of Sentinel-3 A/B data OLCI images using the WEkEO API."
   ]
  },
  {
   "cell_type": "markdown",
   "id": "ef74340c-4be9-434f-92a5-2d93e074fbd8",
   "metadata": {},
   "source": [
    "## 1. Define Workspace"
   ]
  },
  {
   "cell_type": "code",
   "execution_count": null,
   "id": "346d7855-e527-44d4-895c-2711ade034ce",
   "metadata": {},
   "outputs": [],
   "source": [
    "import base64\n",
    "\n",
    "import os\n",
    "import zipfile\n",
    "import shutil\n",
    "from dotenv import load_dotenv\n",
    "load_dotenv()\n",
    "\n",
    "# API requests config\n",
    "import requests\n",
    "\n",
    "# Widgets and maps view\n",
    "# from __future__ import print_function\n",
    "from ipywidgets import interact, interactive, fixed, interact_manual\n",
    "import ipywidgets as wg\n",
    "# from IPython.display import display"
   ]
  },
  {
   "cell_type": "code",
   "execution_count": null,
   "id": "ac2e11a0-82b3-44c6-bb19-acae499d5888",
   "metadata": {},
   "outputs": [],
   "source": [
    "cwd = {\n",
    "    'S3_images': './in/satellite_imagery/S3',\n",
    "    'EUMETSAT_images': './in/satellite_imagery/EUMETSAT',\n",
    "    'simile_lakes': './vector/simile_laghi'\n",
    "}   "
   ]
  },
  {
   "cell_type": "markdown",
   "id": "a6b9d291-5602-402a-87e9-401986f487cb",
   "metadata": {},
   "source": [
    "## 2. Setup HDA Client\n",
    "\n",
    "For setting up the credentials for the HDA API, you must edit the `./notebooks/.env` file with you WEkEO user. It is possible to create a user account in the [WEkEO](https://www.wekeo.eu/) platform by going to the **Register** option and complitening the form to create an account"
   ]
  },
  {
   "cell_type": "markdown",
   "id": "6d1d55e3-5812-4ac3-867e-c5af06237f89",
   "metadata": {},
   "source": [
    "**Warning:** The download of the satellite images using the API is limited on the availability of the server. In case there is no response from the server, it is possible retrieving the images from the [Copernicus Access Hub](https://scihub.copernicus.eu/dhus/#/home)."
   ]
  },
  {
   "cell_type": "code",
   "execution_count": null,
   "id": "382a87f6-e7fb-46a8-9f9c-6bbd18a9f28e",
   "metadata": {},
   "outputs": [],
   "source": [
    "# Import the credentials from the configuration file in the notebooks directory\n",
    "url = os.environ['HDA_URL']\n",
    "user = os.environ['HDA_USER']\n",
    "password = os.environ['HDA_PASSWORD']"
   ]
  },
  {
   "cell_type": "code",
   "execution_count": null,
   "id": "43e78a6c-6957-466d-8f97-478060b71e83",
   "metadata": {},
   "outputs": [],
   "source": [
    "credentials = user+\": \"+password\n",
    "credentials_bytes = credentials.encode('ascii')\n",
    "base64_bytes = base64.b64encode(credentials_bytes)\n",
    "base64_credentials = base64_bytes.decode('ascii')"
   ]
  },
  {
   "cell_type": "markdown",
   "id": "12b336cf-e09e-46f3-94e6-cd6f443de84b",
   "metadata": {},
   "source": [
    "Create a string of a call to **GET** /gettoken to get a token. Execute it with os.popen in order to store output as variable"
   ]
  },
  {
   "cell_type": "code",
   "execution_count": null,
   "id": "94980af9-d423-46e4-b7b7-b92c0897a239",
   "metadata": {},
   "outputs": [],
   "source": [
    "header = {'authorization' : 'Basic '+base64_credentials}\n",
    "response = requests.get(url+'/gettoken', headers=header)\n",
    "response = response.json()"
   ]
  },
  {
   "cell_type": "markdown",
   "id": "8e256dbf-0c3f-4c46-893c-f37a48e958ff",
   "metadata": {},
   "source": [
    "Before data can be accessed, the Copernicus Terms and Conditions must be accepted. This needs to be done only once."
   ]
  },
  {
   "cell_type": "code",
   "execution_count": null,
   "id": "2c7d62ee-343c-4034-a11d-3ec2549a62d0",
   "metadata": {
    "tags": []
   },
   "outputs": [],
   "source": [
    "header = {\n",
    "    'accept': 'application/json',\n",
    "    'authorization' : response['access_token']\n",
    "}\n",
    "requests.put(url+'/termsaccepted/Copernicus_General_License', headers=header)"
   ]
  },
  {
   "cell_type": "code",
   "execution_count": null,
   "id": "179ca1f1-578d-4471-848e-f7555eed772e",
   "metadata": {},
   "outputs": [],
   "source": [
    "parameters = 'url: '+url+'\\nuser: '+user+'\\npassword: '+password+'\\ntoken: '+response['access_token']"
   ]
  },
  {
   "cell_type": "code",
   "execution_count": null,
   "id": "87e5cb66-0b65-4d01-9403-760f69b0219a",
   "metadata": {},
   "outputs": [],
   "source": [
    "# Creation of the client .hdarc config file in the $HOME direcotry used by the hda API library. It is sufficient to run this step once.\n",
    "with open(os.path.join(os.environ['HOME'],'.hdarc'), 'w') as fp:\n",
    "    fp.write(parameters)"
   ]
  },
  {
   "cell_type": "markdown",
   "id": "71f0a1d5-415c-4b71-9fe1-cdfc8623d76a",
   "metadata": {},
   "source": [
    "## 3. Request Sentinel-3 A/B images\n",
    "\n",
    "In this section, we will review the parameters for the composition of a new request of the satellite images using the [hda API](https://www.wekeo.eu/docs/harmonised-data-access-api)."
   ]
  },
  {
   "cell_type": "code",
   "execution_count": null,
   "id": "54588c7b-0ff2-4721-972f-510b60c675d1",
   "metadata": {},
   "outputs": [],
   "source": [
    "from hda import Client"
   ]
  },
  {
   "cell_type": "code",
   "execution_count": null,
   "id": "96540103-8206-4357-a17b-ae464df36700",
   "metadata": {},
   "outputs": [],
   "source": [
    "#Avoid printing secrets\n",
    "c = Client()"
   ]
  },
  {
   "cell_type": "code",
   "execution_count": null,
   "id": "623578d8-850a-4438-8da8-97b44ee4ba6e",
   "metadata": {},
   "outputs": [],
   "source": [
    "# Import necessary libraries for the project\n",
    "\n",
    "# Data\n",
    "import pandas as pd\n",
    "import geopandas as gpd\n",
    "\n",
    "# Plotting\n",
    "import matplotlib.pyplot as plt\n",
    "from matplotlib_scalebar.scalebar import ScaleBar"
   ]
  },
  {
   "cell_type": "markdown",
   "id": "842c8b5b-2e21-42a9-882e-bf35828ce95e",
   "metadata": {},
   "source": [
    "Import the reference layer for determining the bound of the query. In this case, it corresponds to the lakes extent."
   ]
  },
  {
   "cell_type": "code",
   "execution_count": null,
   "id": "e60238a8-bee4-46e2-b33c-69a073edc48a",
   "metadata": {},
   "outputs": [],
   "source": [
    "gdf = gpd.read_file(os.path.join(cwd['simile_lakes'],'simile_laghi.shp'))"
   ]
  },
  {
   "cell_type": "code",
   "execution_count": null,
   "id": "170f2961-eb7d-4633-84c1-57e537e289df",
   "metadata": {},
   "outputs": [],
   "source": [
    "fig, ax = plt.subplots(figsize=(25, 5))\n",
    "# Plot lakes vector dataset\n",
    "gdf.plot(ax=ax)\n",
    "ax.grid()\n",
    "# Create scale bar\n",
    "scalebar = ScaleBar(0.001, \"km\", length_fraction=0.25)\n",
    "ax.add_artist(scalebar)"
   ]
  },
  {
   "cell_type": "code",
   "execution_count": null,
   "id": "ec84d8ef-9087-4fd1-9917-1c26c09b87e5",
   "metadata": {},
   "outputs": [],
   "source": [
    "# It is necessary to have the query coordinates in web mercator\n",
    "gdf = gdf.to_crs(\"EPSG:4326\")\n",
    "# Extract the information from the bounding box of the layer\n",
    "x_min = min(gdf.bounds['minx'])\n",
    "x_max = min(gdf.bounds['maxx'])\n",
    "y_min = min(gdf.bounds['miny'])\n",
    "y_max = min(gdf.bounds['maxy'])"
   ]
  },
  {
   "cell_type": "markdown",
   "id": "f834e2be-5b49-4dff-9c74-c3fb5224ab39",
   "metadata": {},
   "source": [
    "Define the dictionary with the parameters for the file to import. In this case, the image download refer to the *\"OLCI Level 1B Full Resolution - Sentinel-3\"* products available through the API. To find more information about the avaliable datasets in the platform you are welcome to visit the [WEkEO data viewer](https://www.wekeo.eu/data?view=viewer). Make sure to specify the dates of interest for the processing."
   ]
  },
  {
   "cell_type": "code",
   "execution_count": null,
   "id": "2972788f-b87b-49a9-b2bc-371388dd3778",
   "metadata": {
    "tags": []
   },
   "outputs": [],
   "source": [
    "query = {\n",
    "  \"datasetId\": \"EO:EUM:DAT:SENTINEL-3:OL_1_EFR___\",\n",
    "  \"boundingBoxValues\": [\n",
    "    {\n",
    "      \"name\": \"bbox\",\n",
    "      \"bbox\": [\n",
    "        x_min,\n",
    "        y_min,\n",
    "        x_max,\n",
    "        y_max\n",
    "      ]\n",
    "    }\n",
    "  ],\n",
    "  \"dateRangeSelectValues\": [\n",
    "    {\n",
    "      \"name\": \"position\",\n",
    "      \"start\": \"2022-12-16T00:00:00.000Z\",\n",
    "      \"end\": \"2022-12-31T00:00:00.000Z\"\n",
    "    }\n",
    "  ],\n",
    "  \"stringChoiceValues\": [\n",
    "    {\n",
    "      \"name\": \"platformname\",\n",
    "      \"value\": \"Sentinel-3A\"\n",
    "    },\n",
    "    {\n",
    "      \"name\": \"producttype\",\n",
    "      \"value\": \"OL_1_EFR___\"\n",
    "    },\n",
    "    {\n",
    "      \"name\": \"timeliness\",\n",
    "      \"value\": \"NT\"\n",
    "    }\n",
    "  ]\n",
    "}"
   ]
  },
  {
   "cell_type": "code",
   "execution_count": null,
   "id": "67f2bbef-f909-4791-a2e4-83543f5ee35f",
   "metadata": {},
   "outputs": [],
   "source": [
    "# The following line runs the query\n",
    "matches = c.search(query)\n",
    "\n",
    "# The following line prints the products returned by the query\n",
    "print(matches)"
   ]
  },
  {
   "cell_type": "code",
   "execution_count": null,
   "id": "9f1ad27f-aca8-4d0d-a348-542f29e8bb8c",
   "metadata": {},
   "outputs": [],
   "source": [
    "#The download starts. All the products found in the query are downloaded consecutively\n",
    "matches.download()"
   ]
  },
  {
   "cell_type": "code",
   "execution_count": null,
   "id": "f3f1de01-9847-4b27-aa1f-5a3e02928703",
   "metadata": {},
   "outputs": [],
   "source": [
    "for product in matches.__dict__['results']:\n",
    "    shutil.move(product['filename'], cwd['S3_images'])"
   ]
  },
  {
   "cell_type": "markdown",
   "id": "a2e3530d-60e7-4b5c-9031-cb54806d21a7",
   "metadata": {},
   "source": [
    "**Warning:** Make sure that the folder contains only the compressd filed with the satellite imagery to avoid running into an error."
   ]
  },
  {
   "cell_type": "code",
   "execution_count": null,
   "id": "1f60c552-67e9-4253-87b2-c6f6d37a01d4",
   "metadata": {},
   "outputs": [],
   "source": [
    "def extractZipFile(image_dir, file_path):\n",
    "    with zipfile.ZipFile(file_path, 'r') as zip_ref:\n",
    "        zip_ref.extractall(image_dir)\n",
    "        os.remove(file_path)"
   ]
  },
  {
   "cell_type": "code",
   "execution_count": null,
   "id": "5b08f29d-28ae-4d35-9c87-9a67083a2079",
   "metadata": {},
   "outputs": [],
   "source": [
    "for root, dirs, files in os.walk(cwd['S3_images']):\n",
    "    for zip_name in files:\n",
    "        file_path = os.path.join(root,zip_name)\n",
    "        # Exception required for products retrieved through the HDA API. The products download include the .SEN3 extension and not a compressed file format\n",
    "        if zip_name.endswith('.SEN3'):\n",
    "            print(f'Currently extracting: {zip_name}')\n",
    "            os.rename(os.path.join(cwd['S3_images'],zip_name),os.path.join(cwd['S3_images'],zip_name.split('.')[0]+'.zip'))\n",
    "            file_path = os.path.join(cwd['S3_images'],zip_name.split('.')[0]+'.zip')\n",
    "            extractZipFile(cwd['S3_images'], file_path)\n",
    "        elif zip_name.endswith('.zip'):\n",
    "            print(f'Currently extracting: {zip_name}')\n",
    "            extractZipFile(cwd['S3_images'], file_path)"
   ]
  },
  {
   "cell_type": "markdown",
   "id": "855b1d72-ac6f-4ce6-9cea-4767bdd757ca",
   "metadata": {},
   "source": [
    "# Download EUMETSAT"
   ]
  },
  {
   "cell_type": "code",
   "execution_count": null,
   "id": "88948444-18b0-4378-8803-4f6be59062db",
   "metadata": {},
   "outputs": [],
   "source": [
    "query = {\n",
    "  \"datasetId\": \"EO:EUM:DAT:SENTINEL-3:OL_2_WFR___\",\n",
    "  \"boundingBoxValues\": [\n",
    "    {\n",
    "      \"name\": \"bbox\",\n",
    "      \"bbox\": [\n",
    "        x_min,\n",
    "        y_min,\n",
    "        x_max,\n",
    "        y_max\n",
    "      ]\n",
    "    }\n",
    "  ],\n",
    "  \"dateRangeSelectValues\": [\n",
    "    {\n",
    "      \"name\": \"position\",\n",
    "      \"start\": \"2022-12-13T00:00:00.000Z\",\n",
    "      \"end\": \"2022-12-31T00:00:00.000Z\"\n",
    "    }\n",
    "  ],\n",
    "  \"stringChoiceValues\": [\n",
    "    {\n",
    "      \"name\": \"sat\",\n",
    "      \"value\": \"Sentinel-3B\"\n",
    "    },\n",
    "    {\n",
    "      \"name\": \"timeliness\",\n",
    "      \"value\": \"NT\"\n",
    "    },\n",
    "    {\n",
    "      \"name\": \"type\",\n",
    "      \"value\": \"OL_2_WFR___\"\n",
    "    }\n",
    "  ]\n",
    "}"
   ]
  },
  {
   "cell_type": "code",
   "execution_count": null,
   "id": "8a3e1591-08ea-4c93-a6a8-d4467bd7a822",
   "metadata": {},
   "outputs": [],
   "source": [
    "# The following line runs the query\n",
    "matches = c.search(query)\n",
    "\n",
    "# The following line prints the products returned by the query\n",
    "print(matches)"
   ]
  },
  {
   "cell_type": "code",
   "execution_count": null,
   "id": "aba63e51-c8f2-404d-a183-37f8c511813d",
   "metadata": {},
   "outputs": [],
   "source": [
    "#The download starts. All the products found in the query are downloaded consecutively\n",
    "matches.download()"
   ]
  },
  {
   "cell_type": "code",
   "execution_count": null,
   "id": "dd337ddb-4d7c-4e2d-9c5f-06fbbee4d528",
   "metadata": {},
   "outputs": [],
   "source": [
    "for product in matches.__dict__['results']:\n",
    "    shutil.move(product['filename'], cwd['EUMETSAT_images'])"
   ]
  },
  {
   "cell_type": "code",
   "execution_count": null,
   "id": "a4c0b9b9-d2dc-4a73-9534-71ffb5babe3f",
   "metadata": {},
   "outputs": [],
   "source": [
    "for root, dirs, files in os.walk(cwd['EUMETSAT_images']):\n",
    "    for zip_name in files:\n",
    "        file_path = os.path.join(root,zip_name)\n",
    "        print(f'Currently extracting: {zip_name}')\n",
    "        # Exception required for products retrieved through the HDA API. The products download include the .SEN3 extension and not a compressed file format\n",
    "        if zip_name.endswith('.SEN3'):\n",
    "            os.rename(os.path.join(cwd['EUMETSAT_images'],zip_name),os.path.join(cwd['EUMETSAT_images'],zip_name.split('.')[0]+'.zip'))\n",
    "            file_path = os.path.join(cwd['EUMETSAT_images'],zip_name.split('.')[0]+'.zip')\n",
    "            extractZipFile(cwd['EUMETSAT_images'], file_path)\n",
    "        elif zip_name.endswith('.zip'):\n",
    "            extractZipFile(cwd['EUMETSAT_images'], file_path)"
   ]
  },
  {
   "cell_type": "code",
   "execution_count": null,
   "id": "9a7862e6-30c0-4ae2-a334-c8638d3c039d",
   "metadata": {},
   "outputs": [],
   "source": []
  }
 ],
 "metadata": {
  "kernelspec": {
   "display_name": "snapEnv (Python)",
   "language": "python",
   "name": "snapenv"
  },
  "language_info": {
   "codemirror_mode": {
    "name": "ipython",
    "version": 3
   },
   "file_extension": ".py",
   "mimetype": "text/x-python",
   "name": "python",
   "nbconvert_exporter": "python",
   "pygments_lexer": "ipython3",
   "version": "3.6.15"
  },
  "vscode": {
   "interpreter": {
    "hash": "2083f749abe79a73b2e875f8f94e60d7a5a252ea6ab5c8bd42b8c1efbd65b428"
   }
  }
 },
 "nbformat": 4,
 "nbformat_minor": 5
}
