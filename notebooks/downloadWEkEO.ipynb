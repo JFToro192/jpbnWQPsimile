{
 "cells": [
  {
   "cell_type": "markdown",
   "id": "866c8723-86f5-450a-8e93-f5957640b76e",
   "metadata": {},
   "source": [
    "# Sentinel 3 - OLCI Data Download\n",
    "\n",
    "This notebook presents the tools for the data access and download of Sentinel-3 A/B data OLCI images using the WEkEO API."
   ]
  },
  {
   "cell_type": "markdown",
   "id": "ef74340c-4be9-434f-92a5-2d93e074fbd8",
   "metadata": {},
   "source": [
    "## 1. Define Workspace"
   ]
  },
  {
   "cell_type": "code",
   "execution_count": 1,
   "id": "346d7855-e527-44d4-895c-2711ade034ce",
   "metadata": {},
   "outputs": [],
   "source": [
    "import base64\n",
    "import os\n",
    "import zipfile\n",
    "import shutil\n",
    "from dotenv import load_dotenv\n",
    "load_dotenv()\n",
    "\n",
    "# API requests config\n",
    "import requests\n",
    "\n",
    "# Widgets and maps view\n",
    "# from __future__ import print_function\n",
    "from ipywidgets import interact, interactive, fixed, interact_manual\n",
    "import ipywidgets as wg\n",
    "# from IPython.display import display"
   ]
  },
  {
   "cell_type": "code",
   "execution_count": 2,
   "id": "ac2e11a0-82b3-44c6-bb19-acae499d5888",
   "metadata": {},
   "outputs": [],
   "source": [
    "cwd = {\n",
    "    'S3_images': './in/satellite_imagery/S3',\n",
    "    'EUMETSAT_images': './in/satellite_imagery/EUMETSAT',\n",
    "    'simile_lakes': './vector/simile_laghi'\n",
    "}   "
   ]
  },
  {
   "cell_type": "markdown",
   "id": "a6b9d291-5602-402a-87e9-401986f487cb",
   "metadata": {},
   "source": [
    "## 2. Setup HDA Client\n",
    "\n",
    "For setting up the credentials for the HDA API, you must edit the `./notebooks/.env` file with you WEkEO user. It is possible to create a user account in the [WEkEO](https://www.wekeo.eu/) platform by going to the **Register** option and complitening the form to create an account"
   ]
  },
  {
   "cell_type": "markdown",
   "id": "6d1d55e3-5812-4ac3-867e-c5af06237f89",
   "metadata": {},
   "source": [
    "**Warning:** The download of the satellite images using the API is limited on the availability of the server. In case there is no response from the server, it is possible retrieving the images from the [Copernicus Access Hub](https://scihub.copernicus.eu/dhus/#/home)."
   ]
  },
  {
   "cell_type": "code",
   "execution_count": 3,
   "id": "382a87f6-e7fb-46a8-9f9c-6bbd18a9f28e",
   "metadata": {},
   "outputs": [],
   "source": [
    "# Import the credentials from the configuration file in the notebooks directory\n",
    "url = os.environ['HDA_URL']\n",
    "user = os.environ['HDA_USER']\n",
    "password = os.environ['HDA_PASSWORD']"
   ]
  },
  {
   "cell_type": "code",
   "execution_count": 4,
   "id": "43e78a6c-6957-466d-8f97-478060b71e83",
   "metadata": {},
   "outputs": [],
   "source": [
    "credentials = user+\": \"+password\n",
    "credentials_bytes = credentials.encode('ascii')\n",
    "base64_bytes = base64.b64encode(credentials_bytes)\n",
    "base64_credentials = base64_bytes.decode('ascii')"
   ]
  },
  {
   "cell_type": "markdown",
   "id": "12b336cf-e09e-46f3-94e6-cd6f443de84b",
   "metadata": {},
   "source": [
    "Create a string of a call to **GET** /gettoken to get a token. Execute it with os.popen in order to store output as variable"
   ]
  },
  {
   "cell_type": "code",
   "execution_count": 5,
   "id": "94980af9-d423-46e4-b7b7-b92c0897a239",
   "metadata": {},
   "outputs": [],
   "source": [
    "header = {'authorization' : 'Basic '+base64_credentials}\n",
    "response = requests.get(url+'/gettoken', headers=header)\n",
    "response = response.json()"
   ]
  },
  {
   "cell_type": "markdown",
   "id": "8e256dbf-0c3f-4c46-893c-f37a48e958ff",
   "metadata": {},
   "source": [
    "Before data can be accessed, the Copernicus Terms and Conditions must be accepted. This needs to be done only once."
   ]
  },
  {
   "cell_type": "code",
   "execution_count": 6,
   "id": "2c7d62ee-343c-4034-a11d-3ec2549a62d0",
   "metadata": {},
   "outputs": [
    {
     "data": {
      "text/plain": [
       "<Response [200]>"
      ]
     },
     "execution_count": 6,
     "metadata": {},
     "output_type": "execute_result"
    }
   ],
   "source": [
    "header = {\n",
    "    'accept': 'application/json',\n",
    "    'authorization' : response['access_token']\n",
    "}\n",
    "requests.put(url+'/termsaccepted/Copernicus_General_License', headers=header)"
   ]
  },
  {
   "cell_type": "code",
   "execution_count": 7,
   "id": "179ca1f1-578d-4471-848e-f7555eed772e",
   "metadata": {},
   "outputs": [],
   "source": [
    "parameters = 'url: '+url+'\\nuser: '+user+'\\npassword: '+password+'\\ntoken: '+response['access_token']"
   ]
  },
  {
   "cell_type": "code",
   "execution_count": 8,
   "id": "87e5cb66-0b65-4d01-9403-760f69b0219a",
   "metadata": {},
   "outputs": [],
   "source": [
    "# Creation of the client .hdarc config file in the $HOME direcotry used by the hda API library. It is sufficient to run this step once.\n",
    "with open(os.path.join(os.environ['HOME'],'.hdarc'), 'w') as fp:\n",
    "    fp.write(parameters)"
   ]
  },
  {
   "cell_type": "markdown",
   "id": "71f0a1d5-415c-4b71-9fe1-cdfc8623d76a",
   "metadata": {},
   "source": [
    "## 3. Request Sentinel-3 A/B images\n",
    "\n",
    "In this section, we will review the parameters for the composition of a new request of the satellite images using the [hda API](https://www.wekeo.eu/docs/harmonised-data-access-api)."
   ]
  },
  {
   "cell_type": "code",
   "execution_count": 9,
   "id": "54588c7b-0ff2-4721-972f-510b60c675d1",
   "metadata": {},
   "outputs": [],
   "source": [
    "from hda import Client"
   ]
  },
  {
   "cell_type": "code",
   "execution_count": 10,
   "id": "96540103-8206-4357-a17b-ae464df36700",
   "metadata": {},
   "outputs": [],
   "source": [
    "#Avoid printing secrets\n",
    "c = Client()"
   ]
  },
  {
   "cell_type": "code",
   "execution_count": 11,
   "id": "623578d8-850a-4438-8da8-97b44ee4ba6e",
   "metadata": {},
   "outputs": [],
   "source": [
    "# Import necessary libraries for the project\n",
    "\n",
    "# Data\n",
    "import pandas as pd\n",
    "import geopandas as gpd\n",
    "\n",
    "# Plotting\n",
    "import matplotlib.pyplot as plt\n",
    "from matplotlib_scalebar.scalebar import ScaleBar"
   ]
  },
  {
   "cell_type": "markdown",
   "id": "842c8b5b-2e21-42a9-882e-bf35828ce95e",
   "metadata": {},
   "source": [
    "Import the reference layer for determining the bound of the query. In this case, it corresponds to the lakes extent."
   ]
  },
  {
   "cell_type": "code",
   "execution_count": 12,
   "id": "e60238a8-bee4-46e2-b33c-69a073edc48a",
   "metadata": {},
   "outputs": [],
   "source": [
    "gdf = gpd.read_file(os.path.join(cwd['simile_lakes'],'como_lugano_maggiore_varese.shp'))"
   ]
  },
  {
   "cell_type": "code",
   "execution_count": 13,
   "id": "170f2961-eb7d-4633-84c1-57e537e289df",
   "metadata": {},
   "outputs": [
    {
     "data": {
      "text/plain": [
       "<matplotlib_scalebar.scalebar.ScaleBar at 0x7f3625333a58>"
      ]
     },
     "execution_count": 13,
     "metadata": {},
     "output_type": "execute_result"
    },
    {
     "data": {
      "image/png": "[encoded data removed]",
      "text/plain": [
       "<Figure size 1800x360 with 1 Axes>"
      ]
     },
     "metadata": {
      "needs_background": "light"
     },
     "output_type": "display_data"
    }
   ],
   "source": [
    "fig, ax = plt.subplots(figsize=(25, 5))\n",
    "# Plot lakes vector dataset\n",
    "gdf.plot(ax=ax)\n",
    "ax.grid()\n",
    "# Create scale bar\n",
    "scalebar = ScaleBar(0.001, \"km\", length_fraction=0.25)\n",
    "ax.add_artist(scalebar)"
   ]
  },
  {
   "cell_type": "code",
   "execution_count": 14,
   "id": "ec84d8ef-9087-4fd1-9917-1c26c09b87e5",
   "metadata": {},
   "outputs": [],
   "source": [
    "# It is necessary to have the query coordinates in web mercator\n",
    "gdf = gdf.to_crs(\"EPSG:4326\")\n",
    "# Extract the information from the bounding box of the layer\n",
    "x_min = min(gdf.bounds['minx'])\n",
    "x_max = min(gdf.bounds['maxx'])\n",
    "y_min = min(gdf.bounds['miny'])\n",
    "y_max = min(gdf.bounds['maxy'])"
   ]
  },
  {
   "cell_type": "markdown",
   "id": "f834e2be-5b49-4dff-9c74-c3fb5224ab39",
   "metadata": {},
   "source": [
    "Define the dictionary with the parameters for the file to import. In this case, the image download refer to the *\"OLCI Level 1B Full Resolution - Sentinel-3\"* products available through the API. To find more information about the avaliable datasets in the platform you are welcome to visit the [WEkEO data viewer](https://www.wekeo.eu/data?view=viewer). Make sure to specify the dates of interest for the processing."
   ]
  },
  {
   "cell_type": "code",
   "execution_count": 15,
   "id": "2972788f-b87b-49a9-b2bc-371388dd3778",
   "metadata": {
    "tags": []
   },
   "outputs": [],
   "source": [
    "query = {\n",
    "  \"datasetId\": \"EO:EUM:DAT:SENTINEL-3:OL_1_EFR___\",\n",
    "  \"boundingBoxValues\": [\n",
    "    {\n",
    "      \"name\": \"bbox\",\n",
    "      \"bbox\": [\n",
    "        x_min,\n",
    "        y_min,\n",
    "        x_max,\n",
    "        y_max\n",
    "      ]\n",
    "    }\n",
    "  ],\n",
    "  \"dateRangeSelectValues\": [\n",
    "    {\n",
    "      \"name\": \"position\",\n",
    "      \"start\": \"2022-11-01T00:00:00.000Z\",\n",
    "      \"end\": \"2022-11-10T00:00:00.000Z\"\n",
    "    }\n",
    "  ],\n",
    "  \"stringChoiceValues\": [\n",
    "    {\n",
    "      \"name\": \"platformname\",\n",
    "      \"value\": \"Sentinel-3\"\n",
    "    },\n",
    "    {\n",
    "      \"name\": \"producttype\",\n",
    "      \"value\": \"OL_1_EFR___\"\n",
    "    },\n",
    "    {\n",
    "      \"name\": \"timeliness\",\n",
    "      \"value\": \"NT\"\n",
    "    }\n",
    "  ]\n",
    "}"
   ]
  },
  {
   "cell_type": "code",
   "execution_count": 16,
   "id": "67f2bbef-f909-4791-a2e4-83543f5ee35f",
   "metadata": {},
   "outputs": [
    {
     "name": "stdout",
     "output_type": "stream",
     "text": [
      "SearchResults[items=11,volume=6.7G,jobId=JlRyiajZSEa6Xzsk_EP2zW_J1TI]\n"
     ]
    }
   ],
   "source": [
    "# The following line runs the query\n",
    "matches = c.search(query)\n",
    "\n",
    "# The following line prints the products returned by the query\n",
    "print(matches)"
   ]
  },
  {
   "cell_type": "code",
   "execution_count": 17,
   "id": "9f1ad27f-aca8-4d0d-a348-542f29e8bb8c",
   "metadata": {},
   "outputs": [
    {
     "name": "stderr",
     "output_type": "stream",
     "text": [
      "2022-11-10 09:58:32,964 INFO Downloading https://wekeo-broker.apps.mercator.dpi.wekeo.eu/databroker/dataorder/download/CfsyWmriTxLIYpOplF4n4TL41tY to S3A_OL_1_EFR____20221108T095427_20221108T095727_20221109T152621_0180_092_022_2160_MAR_O_NT_002.SEN3 (631.3M)\n",
      "/root/miniconda3/envs/snapEnv/lib/python3.6/site-packages/urllib3/connectionpool.py:1052: InsecureRequestWarning: Unverified HTTPS request is being made to host 'wekeo-adapter-datastore-k8s.apps.eumetsat.dpi.wekeo.eu'. Adding certificate verification is strongly advised. See: https://urllib3.readthedocs.io/en/1.26.x/advanced-usage.html#ssl-warnings\n",
      "  InsecureRequestWarning,\n",
      "2022-11-10 10:01:48,017 WARNING Oops, downloaded 677843028 byte(s), was supposed to be 661956000 (extra 15887028)\n",
      "2022-11-10 10:01:48,018 INFO Download rate 3.2M/s\n",
      "2022-11-10 10:01:56,393 INFO Downloading https://wekeo-broker.apps.mercator.dpi.wekeo.eu/databroker/dataorder/download/3wTVfc_mdHJdtOffX3W1UNQQHBU to S3B_OL_1_EFR____20221108T091520_20221108T091820_20221109T125649_0179_072_264_2160_MAR_O_NT_002.SEN3 (611.8M)\n",
      "/root/miniconda3/envs/snapEnv/lib/python3.6/site-packages/urllib3/connectionpool.py:1052: InsecureRequestWarning: Unverified HTTPS request is being made to host 'wekeo-adapter-datastore-k8s.apps.eumetsat.dpi.wekeo.eu'. Adding certificate verification is strongly advised. See: https://urllib3.readthedocs.io/en/1.26.x/advanced-usage.html#ssl-warnings\n",
      "  InsecureRequestWarning,\n",
      "2022-11-10 10:05:02,942 WARNING Oops, downloaded 656904536 byte(s), was supposed to be 641508000 (extra 15396536)\n",
      "2022-11-10 10:05:02,943 INFO Download rate 3.3M/s\n",
      "2022-11-10 10:05:12,505 INFO Downloading https://wekeo-broker.apps.mercator.dpi.wekeo.eu/databroker/dataorder/download/m08uCiUHe4NxNNkaT9pqqHfHLWU to S3B_OL_1_EFR____20221107T094131_20221107T094431_20221108T143627_0179_072_250_2160_MAR_O_NT_002.SEN3 (606.2M)\n",
      "/root/miniconda3/envs/snapEnv/lib/python3.6/site-packages/urllib3/connectionpool.py:1052: InsecureRequestWarning: Unverified HTTPS request is being made to host 'wekeo-adapter-datastore-k8s.apps.eumetsat.dpi.wekeo.eu'. Adding certificate verification is strongly advised. See: https://urllib3.readthedocs.io/en/1.26.x/advanced-usage.html#ssl-warnings\n",
      "  InsecureRequestWarning,\n",
      "2022-11-10 10:08:23,959 WARNING Oops, downloaded 650893005 byte(s), was supposed to be 635637000 (extra 15256005)\n",
      "2022-11-10 10:08:23,960 INFO Download rate 3.2M/s\n",
      "2022-11-10 10:08:30,630 INFO Downloading https://wekeo-broker.apps.mercator.dpi.wekeo.eu/databroker/dataorder/download/F0S4CyPjp0WUnP6DRabs7PQDriQ to S3B_OL_1_EFR____20221106T100742_20221106T101042_20221107T151357_0179_072_236_2160_MAR_O_NT_002.SEN3 (608.4M)\n",
      "/root/miniconda3/envs/snapEnv/lib/python3.6/site-packages/urllib3/connectionpool.py:1052: InsecureRequestWarning: Unverified HTTPS request is being made to host 'wekeo-adapter-datastore-k8s.apps.eumetsat.dpi.wekeo.eu'. Adding certificate verification is strongly advised. See: https://urllib3.readthedocs.io/en/1.26.x/advanced-usage.html#ssl-warnings\n",
      "  InsecureRequestWarning,\n",
      "2022-11-10 10:11:37,626 WARNING Oops, downloaded 653228585 byte(s), was supposed to be 637918000 (extra 15310585)\n",
      "2022-11-10 10:11:37,627 INFO Download rate 3.3M/s\n",
      "2022-11-10 10:11:46,576 INFO Downloading https://wekeo-broker.apps.mercator.dpi.wekeo.eu/databroker/dataorder/download/FFc4bcY7rgu7xbPag-WQ25Es0ao to S3A_OL_1_EFR____20221105T093200_20221105T093500_20221106T141811_0179_091_364_2160_MAR_O_NT_002.SEN3 (633.3M)\n",
      "/root/miniconda3/envs/snapEnv/lib/python3.6/site-packages/urllib3/connectionpool.py:1052: InsecureRequestWarning: Unverified HTTPS request is being made to host 'wekeo-adapter-datastore-k8s.apps.eumetsat.dpi.wekeo.eu'. Adding certificate verification is strongly advised. See: https://urllib3.readthedocs.io/en/1.26.x/advanced-usage.html#ssl-warnings\n",
      "  InsecureRequestWarning,\n",
      "2022-11-10 10:15:01,068 WARNING Oops, downloaded 680013823 byte(s), was supposed to be 664075000 (extra 15938823)\n",
      "2022-11-10 10:15:01,068 INFO Download rate 3.3M/s\n",
      "2022-11-10 10:15:07,001 INFO Downloading https://wekeo-broker.apps.mercator.dpi.wekeo.eu/databroker/dataorder/download/poqyIHX_KWoAEl1hbT3yhqiBmPI to S3A_OL_1_EFR____20221104T095811_20221104T100111_20221105T153022_0179_091_350_2160_MAR_O_NT_002.SEN3 (647.6M)\n",
      "/root/miniconda3/envs/snapEnv/lib/python3.6/site-packages/urllib3/connectionpool.py:1052: InsecureRequestWarning: Unverified HTTPS request is being made to host 'wekeo-adapter-datastore-k8s.apps.eumetsat.dpi.wekeo.eu'. Adding certificate verification is strongly advised. See: https://urllib3.readthedocs.io/en/1.26.x/advanced-usage.html#ssl-warnings\n",
      "  InsecureRequestWarning,\n",
      "2022-11-10 10:17:01,625 ERROR Download incomplete, downloaded 382878947 byte(s) out of 679048000\n",
      "2022-11-10 10:17:01,626 WARNING Sleeping 10 seconds\n",
      "2022-11-10 10:17:11,640 WARNING Resuming download at byte 382878947\n",
      "/root/miniconda3/envs/snapEnv/lib/python3.6/site-packages/urllib3/connectionpool.py:1052: InsecureRequestWarning: Unverified HTTPS request is being made to host 'wekeo-adapter-datastore-k8s.apps.eumetsat.dpi.wekeo.eu'. Adding certificate verification is strongly advised. See: https://urllib3.readthedocs.io/en/1.26.x/advanced-usage.html#ssl-warnings\n",
      "  InsecureRequestWarning,\n",
      "2022-11-10 10:20:26,272 WARNING Oops, downloaded 1078224254 byte(s), was supposed to be 679048000 (extra 399176254)\n",
      "2022-11-10 10:20:26,273 INFO Download rate 2M/s\n",
      "2022-11-10 10:20:35,982 INFO Downloading https://wekeo-broker.apps.mercator.dpi.wekeo.eu/databroker/dataorder/download/2VMeSHRzt8-ObZJaH6b-5ZtfJMY to S3B_OL_1_EFR____20221104T091905_20221104T092205_20221105T145905_0180_072_207_2160_MAR_O_NT_002.SEN3 (627.2M)\n",
      "/root/miniconda3/envs/snapEnv/lib/python3.6/site-packages/urllib3/connectionpool.py:1052: InsecureRequestWarning: Unverified HTTPS request is being made to host 'wekeo-adapter-datastore-k8s.apps.eumetsat.dpi.wekeo.eu'. Adding certificate verification is strongly advised. See: https://urllib3.readthedocs.io/en/1.26.x/advanced-usage.html#ssl-warnings\n",
      "  InsecureRequestWarning,\n",
      "2022-11-10 10:23:58,153 WARNING Oops, downloaded 673475478 byte(s), was supposed to be 657690000 (extra 15785478)\n",
      "2022-11-10 10:23:58,155 INFO Download rate 3.1M/s\n",
      "2022-11-10 10:24:03,295 INFO Downloading https://wekeo-broker.apps.mercator.dpi.wekeo.eu/databroker/dataorder/download/U0-Pm0IKebUxKvZBq4SZYhfOA3E to S3B_OL_1_EFR____20221103T094515_20221103T094815_20221104T154434_0179_072_193_2160_MAR_O_NT_002.SEN3 (623M)\n",
      "/root/miniconda3/envs/snapEnv/lib/python3.6/site-packages/urllib3/connectionpool.py:1052: InsecureRequestWarning: Unverified HTTPS request is being made to host 'wekeo-adapter-datastore-k8s.apps.eumetsat.dpi.wekeo.eu'. Adding certificate verification is strongly advised. See: https://urllib3.readthedocs.io/en/1.26.x/advanced-usage.html#ssl-warnings\n",
      "  InsecureRequestWarning,\n",
      "2022-11-10 10:29:08,393 WARNING Oops, downloaded 668935851 byte(s), was supposed to be 653257000 (extra 15678851)\n",
      "2022-11-10 10:29:08,394 INFO Download rate 2M/s\n",
      "2022-11-10 10:31:14,156 INFO Downloading https://wekeo-broker.apps.mercator.dpi.wekeo.eu/databroker/dataorder/download/wdcOh3dBTLzrVhGzErYiRkIZ9ew to S3B_OL_1_EFR____20221102T101126_20221102T101426_20221103T143940_0179_072_179_2160_MAR_O_NT_002.SEN3 (607.1M)\n",
      "/root/miniconda3/envs/snapEnv/lib/python3.6/site-packages/urllib3/connectionpool.py:1052: InsecureRequestWarning: Unverified HTTPS request is being made to host 'wekeo-adapter-datastore-k8s.apps.eumetsat.dpi.wekeo.eu'. Adding certificate verification is strongly advised. See: https://urllib3.readthedocs.io/en/1.26.x/advanced-usage.html#ssl-warnings\n",
      "  InsecureRequestWarning,\n",
      "2022-11-10 10:31:15,731 ERROR Download incomplete, downloaded 296 byte(s) out of 636559000\n",
      "2022-11-10 10:31:15,731 WARNING Sleeping 10 seconds\n",
      "2022-11-10 10:31:25,745 WARNING Resuming download at byte 296\n",
      "/root/miniconda3/envs/snapEnv/lib/python3.6/site-packages/urllib3/connectionpool.py:1052: InsecureRequestWarning: Unverified HTTPS request is being made to host 'wekeo-adapter-datastore-k8s.apps.eumetsat.dpi.wekeo.eu'. Adding certificate verification is strongly advised. See: https://urllib3.readthedocs.io/en/1.26.x/advanced-usage.html#ssl-warnings\n",
      "  InsecureRequestWarning,\n",
      "2022-11-10 10:31:27,204 ERROR Download incomplete, downloaded 592 byte(s) out of 636559000\n",
      "2022-11-10 10:31:27,205 WARNING Sleeping 15.0 seconds\n",
      "2022-11-10 10:31:42,224 WARNING Resuming download at byte 592\n",
      "/root/miniconda3/envs/snapEnv/lib/python3.6/site-packages/urllib3/connectionpool.py:1052: InsecureRequestWarning: Unverified HTTPS request is being made to host 'wekeo-adapter-datastore-k8s.apps.eumetsat.dpi.wekeo.eu'. Adding certificate verification is strongly advised. See: https://urllib3.readthedocs.io/en/1.26.x/advanced-usage.html#ssl-warnings\n",
      "  InsecureRequestWarning,\n",
      "2022-11-10 10:35:23,832 WARNING Oops, downloaded 651837440 byte(s), was supposed to be 636559000 (extra 15278440)\n",
      "2022-11-10 10:35:23,832 INFO Download rate 2.4M/s\n",
      "2022-11-10 10:35:30,970 INFO Downloading https://wekeo-broker.apps.mercator.dpi.wekeo.eu/databroker/dataorder/download/jZkuuEC496-TD8j3iRKIETAkBSg to S3A_OL_1_EFR____20221102T090934_20221102T091234_20221103T143042_0179_091_321_2160_MAR_O_NT_002.SEN3 (635M)\n",
      "/root/miniconda3/envs/snapEnv/lib/python3.6/site-packages/urllib3/connectionpool.py:1052: InsecureRequestWarning: Unverified HTTPS request is being made to host 'wekeo-adapter-datastore-k8s.apps.eumetsat.dpi.wekeo.eu'. Adding certificate verification is strongly advised. See: https://urllib3.readthedocs.io/en/1.26.x/advanced-usage.html#ssl-warnings\n",
      "  InsecureRequestWarning,\n",
      "2022-11-10 10:39:04,016 WARNING Oops, downloaded 681874511 byte(s), was supposed to be 665893000 (extra 15981511)\n",
      "2022-11-10 10:39:04,017 INFO Download rate 3M/s\n",
      "2022-11-10 10:39:10,559 INFO Downloading https://wekeo-broker.apps.mercator.dpi.wekeo.eu/databroker/dataorder/download/nn7_WbQhVFWjMqZjAWMENCkWvkE to S3A_OL_1_EFR____20221101T093545_20221101T093845_20221102T145625_0179_091_307_2160_MAR_O_NT_002.SEN3 (623.8M)\n",
      "/root/miniconda3/envs/snapEnv/lib/python3.6/site-packages/urllib3/connectionpool.py:1052: InsecureRequestWarning: Unverified HTTPS request is being made to host 'wekeo-adapter-datastore-k8s.apps.eumetsat.dpi.wekeo.eu'. Adding certificate verification is strongly advised. See: https://urllib3.readthedocs.io/en/1.26.x/advanced-usage.html#ssl-warnings\n",
      "  InsecureRequestWarning,\n",
      "2022-11-10 10:42:33,145 WARNING Oops, downloaded 669827615 byte(s), was supposed to be 654128000 (extra 15699615)\n",
      "2022-11-10 10:42:33,146 INFO Download rate 3.1M/s\n"
     ]
    }
   ],
   "source": [
    "#The download starts. All the products found in the query are downloaded consecutively\n",
    "matches.download()"
   ]
  },
  {
   "cell_type": "code",
   "execution_count": 18,
   "id": "f3f1de01-9847-4b27-aa1f-5a3e02928703",
   "metadata": {},
   "outputs": [],
   "source": [
    "for product in matches.__dict__['results']:\n",
    "    shutil.move(product['filename'], cwd['S3_images'])"
   ]
  },
  {
   "cell_type": "markdown",
   "id": "a2e3530d-60e7-4b5c-9031-cb54806d21a7",
   "metadata": {},
   "source": [
    "**Warning:** Make sure that the folder contains only the compressd filed with the satellite imagery to avoid running into an error."
   ]
  },
  {
   "cell_type": "code",
   "execution_count": 19,
   "id": "1f60c552-67e9-4253-87b2-c6f6d37a01d4",
   "metadata": {},
   "outputs": [],
   "source": [
    "def extractZipFile(image_dir, file_path):\n",
    "    with zipfile.ZipFile(file_path, 'r') as zip_ref:\n",
    "        zip_ref.extractall(image_dir)\n",
    "        os.remove(file_path)"
   ]
  },
  {
   "cell_type": "code",
   "execution_count": 20,
   "id": "5b08f29d-28ae-4d35-9c87-9a67083a2079",
   "metadata": {},
   "outputs": [
    {
     "name": "stdout",
     "output_type": "stream",
     "text": [
      "Currently extracting: S3A_OL_1_EFR____20221101T093545_20221101T093845_20221102T145625_0179_091_307_2160_MAR_O_NT_002.SEN3\n",
      "Currently extracting: S3A_OL_1_EFR____20221102T090934_20221102T091234_20221103T143042_0179_091_321_2160_MAR_O_NT_002.SEN3\n",
      "Currently extracting: S3A_OL_1_EFR____20221104T095811_20221104T100111_20221105T153022_0179_091_350_2160_MAR_O_NT_002.SEN3\n",
      "Currently extracting: S3A_OL_1_EFR____20221105T093200_20221105T093500_20221106T141811_0179_091_364_2160_MAR_O_NT_002.SEN3\n",
      "Currently extracting: S3A_OL_1_EFR____20221108T095427_20221108T095727_20221109T152621_0180_092_022_2160_MAR_O_NT_002.SEN3\n",
      "Currently extracting: S3B_OL_1_EFR____20221102T101126_20221102T101426_20221103T143940_0179_072_179_2160_MAR_O_NT_002.SEN3\n",
      "Currently extracting: S3B_OL_1_EFR____20221103T094515_20221103T094815_20221104T154434_0179_072_193_2160_MAR_O_NT_002.SEN3\n",
      "Currently extracting: S3B_OL_1_EFR____20221104T091905_20221104T092205_20221105T145905_0180_072_207_2160_MAR_O_NT_002.SEN3\n",
      "Currently extracting: S3B_OL_1_EFR____20221106T100742_20221106T101042_20221107T151357_0179_072_236_2160_MAR_O_NT_002.SEN3\n",
      "Currently extracting: S3B_OL_1_EFR____20221107T094131_20221107T094431_20221108T143627_0179_072_250_2160_MAR_O_NT_002.SEN3\n",
      "Currently extracting: S3B_OL_1_EFR____20221108T091520_20221108T091820_20221109T125649_0179_072_264_2160_MAR_O_NT_002.SEN3\n"
     ]
    }
   ],
   "source": [
    "for root, dirs, files in os.walk(cwd['S3_images']):\n",
    "    for zip_name in files:\n",
    "        file_path = os.path.join(root,zip_name)\n",
    "        print(f'Currently extracting: {zip_name}')\n",
    "        # Exception required for products retrieved through the HDA API. The products download include the .SEN3 extension and not a compressed file format\n",
    "        if zip_name.endswith('.SEN3'):\n",
    "            os.rename(os.path.join(cwd['S3_images'],zip_name),os.path.join(cwd['S3_images'],zip_name.split('.')[0]+'.zip'))\n",
    "            file_path = os.path.join(cwd['S3_images'],zip_name.split('.')[0]+'.zip')\n",
    "            extractZipFile(cwd['S3_images'], file_path)\n",
    "        elif zip_name.endswith('.zip'):\n",
    "            extractZipFile(cwd['S3_images'], file_path)"
   ]
  },
  {
   "cell_type": "markdown",
   "id": "855b1d72-ac6f-4ce6-9cea-4767bdd757ca",
   "metadata": {},
   "source": [
    "# Download EUMETSAT"
   ]
  },
  {
   "cell_type": "code",
   "execution_count": 17,
   "id": "88948444-18b0-4378-8803-4f6be59062db",
   "metadata": {},
   "outputs": [],
   "source": [
    "query = {\n",
    "  \"datasetId\": \"EO:EUM:DAT:SENTINEL-3:OL_2_WFR___\",\n",
    "  \"boundingBoxValues\": [\n",
    "    {\n",
    "      \"name\": \"bbox\",\n",
    "      \"bbox\": [\n",
    "        x_min,\n",
    "        y_min,\n",
    "        x_max,\n",
    "        y_max\n",
    "      ]\n",
    "    }\n",
    "  ],\n",
    "  \"dateRangeSelectValues\": [\n",
    "    {\n",
    "      \"name\": \"position\",\n",
    "      \"start\": \"2022-10-01T00:00:00.000Z\",\n",
    "      \"end\": \"2022-10-17T23:59:59.999Z\"\n",
    "    }\n",
    "  ],\n",
    "  \"stringChoiceValues\": [\n",
    "    {\n",
    "      \"name\": \"sat\",\n",
    "      \"value\": \"Sentinel-3A\"\n",
    "    },\n",
    "    {\n",
    "      \"name\": \"timeliness\",\n",
    "      \"value\": \"NT\"\n",
    "    },\n",
    "    {\n",
    "      \"name\": \"type\",\n",
    "      \"value\": \"OL_2_WFR___\"\n",
    "    }\n",
    "  ]\n",
    "}"
   ]
  },
  {
   "cell_type": "code",
   "execution_count": 18,
   "id": "8a3e1591-08ea-4c93-a6a8-d4467bd7a822",
   "metadata": {},
   "outputs": [
    {
     "name": "stdout",
     "output_type": "stream",
     "text": [
      "SearchResults[items=11,volume=1.9G,jobId=YCM2UAGZzxIVwZ7Ie3uvO9Ur2cs]\n"
     ]
    }
   ],
   "source": [
    "# The following line runs the query\n",
    "matches = c.search(query)\n",
    "\n",
    "# The following line prints the products returned by the query\n",
    "print(matches)"
   ]
  },
  {
   "cell_type": "code",
   "execution_count": 19,
   "id": "aba63e51-c8f2-404d-a183-37f8c511813d",
   "metadata": {},
   "outputs": [
    {
     "name": "stderr",
     "output_type": "stream",
     "text": [
      "2022-10-18 10:06:30,573 INFO Downloading https://wekeo-broker.apps.mercator.dpi.wekeo.eu/databroker/dataorder/download/g4Ayu3PzVgqUQeMJxBHNLb2Bcc4 to S3A_OL_2_WFR____20221016T095044_20221016T095344_20221017T214616_0179_091_079_2160_MAR_O_NT_003.SEN3 (213.3M)\n",
      "/root/miniconda3/envs/snapEnv/lib/python3.6/site-packages/urllib3/connectionpool.py:1052: InsecureRequestWarning: Unverified HTTPS request is being made to host 'wekeo-adapter-datastore-k8s.apps.eumetsat.dpi.wekeo.eu'. Adding certificate verification is strongly advised. See: https://urllib3.readthedocs.io/en/1.26.x/advanced-usage.html#ssl-warnings\n",
      "  InsecureRequestWarning,\n",
      "2022-10-18 10:07:17,915 WARNING Oops, downloaded 229048681 byte(s), was supposed to be 223680000 (extra 5368681)\n",
      "2022-10-18 10:07:17,915 INFO Download rate 4.5M/s\n",
      "2022-10-18 10:07:25,305 INFO Downloading https://wekeo-broker.apps.mercator.dpi.wekeo.eu/databroker/dataorder/download/jqHfnYFdlH7TpKIyUulHPl49ecE to S3A_OL_2_WFR____20221015T101655_20221015T101955_20221016T215641_0179_091_065_2160_MAR_O_NT_003.SEN3 (201.4M)\n",
      "/root/miniconda3/envs/snapEnv/lib/python3.6/site-packages/urllib3/connectionpool.py:1052: InsecureRequestWarning: Unverified HTTPS request is being made to host 'wekeo-adapter-datastore-k8s.apps.eumetsat.dpi.wekeo.eu'. Adding certificate verification is strongly advised. See: https://urllib3.readthedocs.io/en/1.26.x/advanced-usage.html#ssl-warnings\n",
      "  InsecureRequestWarning,\n",
      "2022-10-18 10:08:10,728 WARNING Oops, downloaded 216248826 byte(s), was supposed to be 211180000 (extra 5068826)\n",
      "2022-10-18 10:08:10,729 INFO Download rate 4.4M/s\n",
      "2022-10-18 10:08:16,191 INFO Downloading https://wekeo-broker.apps.mercator.dpi.wekeo.eu/databroker/dataorder/download/P0EY9JAPMZxpQHv2AITJi6U9EC4 to S3A_OL_2_WFR____20221013T092817_20221013T093117_20221014T213930_0179_091_036_2160_MAR_O_NT_003.SEN3 (153.8M)\n",
      "/root/miniconda3/envs/snapEnv/lib/python3.6/site-packages/urllib3/connectionpool.py:1052: InsecureRequestWarning: Unverified HTTPS request is being made to host 'wekeo-adapter-datastore-k8s.apps.eumetsat.dpi.wekeo.eu'. Adding certificate verification is strongly advised. See: https://urllib3.readthedocs.io/en/1.26.x/advanced-usage.html#ssl-warnings\n",
      "  InsecureRequestWarning,\n",
      "2022-10-18 10:08:51,304 WARNING Oops, downloaded 165136082 byte(s), was supposed to be 161265000 (extra 3871082)\n",
      "2022-10-18 10:08:51,305 INFO Download rate 4.4M/s\n",
      "2022-10-18 10:08:57,010 INFO Downloading https://wekeo-broker.apps.mercator.dpi.wekeo.eu/databroker/dataorder/download/ZAOAESZMmkU96gDhTV_ERIxzWfo to S3A_OL_2_WFR____20221012T095428_20221012T095728_20221013T204951_0179_091_022_2160_MAR_O_NT_003.SEN3 (145.2M)\n",
      "/root/miniconda3/envs/snapEnv/lib/python3.6/site-packages/urllib3/connectionpool.py:1052: InsecureRequestWarning: Unverified HTTPS request is being made to host 'wekeo-adapter-datastore-k8s.apps.eumetsat.dpi.wekeo.eu'. Adding certificate verification is strongly advised. See: https://urllib3.readthedocs.io/en/1.26.x/advanced-usage.html#ssl-warnings\n",
      "  InsecureRequestWarning,\n",
      "2022-10-18 10:09:32,204 WARNING Oops, downloaded 155873413 byte(s), was supposed to be 152220000 (extra 3653413)\n",
      "2022-10-18 10:09:32,205 INFO Download rate 4.1M/s\n",
      "2022-10-18 10:09:38,577 INFO Downloading https://wekeo-broker.apps.mercator.dpi.wekeo.eu/databroker/dataorder/download/O6FtIdygx85BoJGhZ-oOjOGA2C4 to S3A_OL_2_WFR____20221009T093201_20221009T093501_20221010T204210_0179_090_364_2160_MAR_O_NT_003.SEN3 (166.8M)\n",
      "/root/miniconda3/envs/snapEnv/lib/python3.6/site-packages/urllib3/connectionpool.py:1052: InsecureRequestWarning: Unverified HTTPS request is being made to host 'wekeo-adapter-datastore-k8s.apps.eumetsat.dpi.wekeo.eu'. Adding certificate verification is strongly advised. See: https://urllib3.readthedocs.io/en/1.26.x/advanced-usage.html#ssl-warnings\n",
      "  InsecureRequestWarning,\n",
      "2022-10-18 10:10:16,875 WARNING Oops, downloaded 179130820 byte(s), was supposed to be 174932000 (extra 4198820)\n",
      "2022-10-18 10:10:16,875 INFO Download rate 4.4M/s\n",
      "2022-10-18 10:10:23,799 INFO Downloading https://wekeo-broker.apps.mercator.dpi.wekeo.eu/databroker/dataorder/download/xpHWJgFJCsCx1KTgf0pgKKoIing to S3A_OL_2_WFR____20221008T095812_20221008T100112_20221009T220617_0179_090_350_2160_MAR_O_NT_003.SEN3 (193.4M)\n",
      "/root/miniconda3/envs/snapEnv/lib/python3.6/site-packages/urllib3/connectionpool.py:1052: InsecureRequestWarning: Unverified HTTPS request is being made to host 'wekeo-adapter-datastore-k8s.apps.eumetsat.dpi.wekeo.eu'. Adding certificate verification is strongly advised. See: https://urllib3.readthedocs.io/en/1.26.x/advanced-usage.html#ssl-warnings\n",
      "  InsecureRequestWarning,\n",
      "2022-10-18 10:11:06,741 WARNING Oops, downloaded 207634548 byte(s), was supposed to be 202768000 (extra 4866548)\n",
      "2022-10-18 10:11:06,742 INFO Download rate 4.5M/s\n",
      "2022-10-18 10:11:15,099 INFO Downloading https://wekeo-broker.apps.mercator.dpi.wekeo.eu/databroker/dataorder/download/Yf8xAYTWhq4eskAORvItaX97A9w to S3A_OL_2_WFR____20221006T090934_20221006T091234_20221007T210348_0179_090_321_2160_MAR_O_NT_003.SEN3 (135.4M)\n",
      "/root/miniconda3/envs/snapEnv/lib/python3.6/site-packages/urllib3/connectionpool.py:1052: InsecureRequestWarning: Unverified HTTPS request is being made to host 'wekeo-adapter-datastore-k8s.apps.eumetsat.dpi.wekeo.eu'. Adding certificate verification is strongly advised. See: https://urllib3.readthedocs.io/en/1.26.x/advanced-usage.html#ssl-warnings\n",
      "  InsecureRequestWarning,\n",
      "2022-10-18 10:11:47,041 WARNING Oops, downloaded 145345575 byte(s), was supposed to be 141939000 (extra 3406575)\n",
      "2022-10-18 10:11:47,042 INFO Download rate 4.2M/s\n",
      "2022-10-18 10:11:52,119 INFO Downloading https://wekeo-broker.apps.mercator.dpi.wekeo.eu/databroker/dataorder/download/6SskJPpntZTXVTpANR-Yt6WP0XE to S3A_OL_2_WFR____20221005T093545_20221005T093845_20221006T214716_0179_090_307_2160_MAR_O_NT_003.SEN3 (211M)\n",
      "/root/miniconda3/envs/snapEnv/lib/python3.6/site-packages/urllib3/connectionpool.py:1052: InsecureRequestWarning: Unverified HTTPS request is being made to host 'wekeo-adapter-datastore-k8s.apps.eumetsat.dpi.wekeo.eu'. Adding certificate verification is strongly advised. See: https://urllib3.readthedocs.io/en/1.26.x/advanced-usage.html#ssl-warnings\n",
      "  InsecureRequestWarning,\n",
      "2022-10-18 10:12:42,635 WARNING Oops, downloaded 226601649 byte(s), was supposed to be 221290000 (extra 5311649)\n",
      "2022-10-18 10:12:42,636 INFO Download rate 4.2M/s\n",
      "2022-10-18 10:12:49,427 INFO Downloading https://wekeo-broker.apps.mercator.dpi.wekeo.eu/databroker/dataorder/download/fZsISJivj2eLBCyVLa5eyF2AumU to S3A_OL_2_WFR____20221004T100156_20221004T100456_20221005T223128_0179_090_293_2160_MAR_O_NT_003.SEN3 (200M)\n",
      "/root/miniconda3/envs/snapEnv/lib/python3.6/site-packages/urllib3/connectionpool.py:1052: InsecureRequestWarning: Unverified HTTPS request is being made to host 'wekeo-adapter-datastore-k8s.apps.eumetsat.dpi.wekeo.eu'. Adding certificate verification is strongly advised. See: https://urllib3.readthedocs.io/en/1.26.x/advanced-usage.html#ssl-warnings\n",
      "  InsecureRequestWarning,\n",
      "2022-10-18 10:13:35,246 WARNING Oops, downloaded 214750132 byte(s), was supposed to be 209716000 (extra 5034132)\n",
      "2022-10-18 10:13:35,246 INFO Download rate 4.4M/s\n",
      "2022-10-18 10:13:41,791 INFO Downloading https://wekeo-broker.apps.mercator.dpi.wekeo.eu/databroker/dataorder/download/wmFTLAgED2KXKNrGYBKzsrbLTR0 to S3A_OL_2_WFR____20221002T091319_20221002T091619_20221003T203700_0179_090_264_2160_MAR_O_NT_003.SEN3 (166.6M)\n",
      "/root/miniconda3/envs/snapEnv/lib/python3.6/site-packages/urllib3/connectionpool.py:1052: InsecureRequestWarning: Unverified HTTPS request is being made to host 'wekeo-adapter-datastore-k8s.apps.eumetsat.dpi.wekeo.eu'. Adding certificate verification is strongly advised. See: https://urllib3.readthedocs.io/en/1.26.x/advanced-usage.html#ssl-warnings\n",
      "  InsecureRequestWarning,\n",
      "2022-10-18 10:14:20,461 WARNING Oops, downloaded 178871977 byte(s), was supposed to be 174679000 (extra 4192977)\n",
      "2022-10-18 10:14:20,462 INFO Download rate 4.3M/s\n",
      "2022-10-18 10:14:27,013 INFO Downloading https://wekeo-broker.apps.mercator.dpi.wekeo.eu/databroker/dataorder/download/JyKLa1DrNbJZlj5Gwb4SrBRMUrE to S3A_OL_2_WFR____20221001T093930_20221001T094230_20221002T212323_0179_090_250_2160_MAR_O_NT_003.SEN3 (189.5M)\n",
      "/root/miniconda3/envs/snapEnv/lib/python3.6/site-packages/urllib3/connectionpool.py:1052: InsecureRequestWarning: Unverified HTTPS request is being made to host 'wekeo-adapter-datastore-k8s.apps.eumetsat.dpi.wekeo.eu'. Adding certificate verification is strongly advised. See: https://urllib3.readthedocs.io/en/1.26.x/advanced-usage.html#ssl-warnings\n",
      "  InsecureRequestWarning,\n",
      "2022-10-18 10:15:09,625 WARNING Oops, downloaded 203466391 byte(s), was supposed to be 198697000 (extra 4769391)\n",
      "2022-10-18 10:15:09,625 INFO Download rate 4.4M/s\n"
     ]
    }
   ],
   "source": [
    "#The download starts. All the products found in the query are downloaded consecutively\n",
    "matches.download()"
   ]
  },
  {
   "cell_type": "code",
   "execution_count": 20,
   "id": "dd337ddb-4d7c-4e2d-9c5f-06fbbee4d528",
   "metadata": {},
   "outputs": [],
   "source": [
    "for product in matches.__dict__['results']:\n",
    "    shutil.move(product['filename'], cwd['EUMETSAT_images'])"
   ]
  },
  {
   "cell_type": "code",
   "execution_count": 23,
   "id": "a4c0b9b9-d2dc-4a73-9534-71ffb5babe3f",
   "metadata": {},
   "outputs": [
    {
     "name": "stdout",
     "output_type": "stream",
     "text": [
      "Currently extracting: S3A_OL_2_WFR____20221002T091319_20221002T091619_20221003T203700_0179_090_264_2160_MAR_O_NT_003.zip\n",
      "Currently extracting: S3A_OL_2_WFR____20221004T100156_20221004T100456_20221005T223128_0179_090_293_2160_MAR_O_NT_003.SEN3\n",
      "Currently extracting: S3A_OL_2_WFR____20221005T093545_20221005T093845_20221006T214716_0179_090_307_2160_MAR_O_NT_003.SEN3\n",
      "Currently extracting: S3A_OL_2_WFR____20221006T090934_20221006T091234_20221007T210348_0179_090_321_2160_MAR_O_NT_003.SEN3\n",
      "Currently extracting: S3A_OL_2_WFR____20221008T095812_20221008T100112_20221009T220617_0179_090_350_2160_MAR_O_NT_003.SEN3\n",
      "Currently extracting: S3A_OL_2_WFR____20221009T093201_20221009T093501_20221010T204210_0179_090_364_2160_MAR_O_NT_003.SEN3\n",
      "Currently extracting: S3A_OL_2_WFR____20221012T095428_20221012T095728_20221013T204951_0179_091_022_2160_MAR_O_NT_003.SEN3\n",
      "Currently extracting: S3A_OL_2_WFR____20221013T092817_20221013T093117_20221014T213930_0179_091_036_2160_MAR_O_NT_003.SEN3\n",
      "Currently extracting: S3A_OL_2_WFR____20221015T101655_20221015T101955_20221016T215641_0179_091_065_2160_MAR_O_NT_003.SEN3\n",
      "Currently extracting: S3A_OL_2_WFR____20221016T095044_20221016T095344_20221017T214616_0179_091_079_2160_MAR_O_NT_003.SEN3\n"
     ]
    }
   ],
   "source": [
    "for root, dirs, files in os.walk(cwd['EUMETSAT_images']):\n",
    "    for zip_name in files:\n",
    "        file_path = os.path.join(root,zip_name)\n",
    "        print(f'Currently extracting: {zip_name}')\n",
    "        # Exception required for products retrieved through the HDA API. The products download include the .SEN3 extension and not a compressed file format\n",
    "        if zip_name.endswith('.SEN3'):\n",
    "            os.rename(os.path.join(cwd['EUMETSAT_images'],zip_name),os.path.join(cwd['EUMETSAT_images'],zip_name.split('.')[0]+'.zip'))\n",
    "            file_path = os.path.join(cwd['EUMETSAT_images'],zip_name.split('.')[0]+'.zip')\n",
    "            extractZipFile(cwd['EUMETSAT_images'], file_path)\n",
    "        elif zip_name.endswith('.zip'):\n",
    "            extractZipFile(cwd['EUMETSAT_images'], file_path)"
   ]
  },
  {
   "cell_type": "code",
   "execution_count": null,
   "id": "9a7862e6-30c0-4ae2-a334-c8638d3c039d",
   "metadata": {},
   "outputs": [],
   "source": []
  }
 ],
 "metadata": {
  "kernelspec": {
   "display_name": "snapEnv (Python)",
   "language": "python",
   "name": "snapenv"
  },
  "language_info": {
   "codemirror_mode": {
    "name": "ipython",
    "version": 3
   },
   "file_extension": ".py",
   "mimetype": "text/x-python",
   "name": "python",
   "nbconvert_exporter": "python",
   "pygments_lexer": "ipython3",
   "version": "3.6.15"
  },
  "vscode": {
   "interpreter": {
    "hash": "2083f749abe79a73b2e875f8f94e60d7a5a252ea6ab5c8bd42b8c1efbd65b428"
   }
  }
 },
 "nbformat": 4,
 "nbformat_minor": 5
}
