{
 "cells": [
  {
   "cell_type": "code",
   "execution_count": 9,
   "id": "346d7855-e527-44d4-895c-2711ade034ce",
   "metadata": {},
   "outputs": [],
   "source": [
    "import base64\n",
    "import os\n",
    "import ipywidgets as wg\n",
    "from IPython.display import display"
   ]
  },
  {
   "cell_type": "code",
   "execution_count": 10,
   "id": "524a24e2-9d0f-4229-949e-5f1399229dcf",
   "metadata": {},
   "outputs": [
    {
     "data": {
      "text/plain": [
       "True"
      ]
     },
     "execution_count": 10,
     "metadata": {},
     "output_type": "execute_result"
    }
   ],
   "source": [
    "from dotenv import load_dotenv\n",
    "load_dotenv()"
   ]
  },
  {
   "cell_type": "code",
   "execution_count": 11,
   "id": "382a87f6-e7fb-46a8-9f9c-6bbd18a9f28e",
   "metadata": {},
   "outputs": [],
   "source": [
    "url = os.environ['HDA_URL']\n",
    "user = os.environ['HDA_USER']\n",
    "password = os.environ['HDA_PASSWORD']"
   ]
  },
  {
   "cell_type": "code",
   "execution_count": 12,
   "id": "de595be5-9fad-48c8-89a5-ac526c70a106",
   "metadata": {},
   "outputs": [],
   "source": [
    "parameters = 'url: '+url+'\\nuser: '+user+'\\npassword: '+password"
   ]
  },
  {
   "cell_type": "code",
   "execution_count": 13,
   "id": "87e5cb66-0b65-4d01-9403-760f69b0219a",
   "metadata": {},
   "outputs": [],
   "source": [
    "with open(os.path.join(os.environ['HOME'],'.hdarc'), 'w') as fp:\n",
    "    fp.write(parameters)"
   ]
  },
  {
   "cell_type": "code",
   "execution_count": 14,
   "id": "59160251-5811-4755-9d0b-a82a266c249a",
   "metadata": {},
   "outputs": [],
   "source": [
    "from hda import Client"
   ]
  },
  {
   "cell_type": "code",
   "execution_count": 27,
   "id": "96540103-8206-4357-a17b-ae464df36700",
   "metadata": {},
   "outputs": [],
   "source": [
    "%%capture\n",
    "#Avoid printing secrets\n",
    "%%capture\n",
    "c = Client()"
   ]
  },
  {
   "cell_type": "code",
   "execution_count": null,
   "id": "623578d8-850a-4438-8da8-97b44ee4ba6e",
   "metadata": {},
   "outputs": [],
   "source": [
    "# Import necessary libraries for the project\n",
    "\n",
    "# Data\n",
    "import pandas as pd\n",
    "\n",
    "# Spatial data\n",
    "# import geopandas as gpd\n",
    "import rasterio as rio\n",
    "\n",
    "# Machine learning\n",
    "\n",
    "# Data visualization and widgets\n",
    "import contextily as ctx\n",
    "import matplotlib.pyplot as plt\n",
    "\n",
    "# Requests (API's)\n",
    "import requests\n",
    "import json"
   ]
  },
  {
   "cell_type": "code",
   "execution_count": 28,
   "id": "2972788f-b87b-49a9-b2bc-371388dd3778",
   "metadata": {
    "tags": []
   },
   "outputs": [
    {
     "name": "stderr",
     "output_type": "stream",
     "text": [
      "2022-09-21 15:45:20,945 DEBUG ===> GET https://wekeo-broker.apps.mercator.dpi.wekeo.eu/databroker/gettoken\n",
      "2022-09-21 15:45:20,951 DEBUG Starting new HTTPS connection (1): wekeo-broker.apps.mercator.dpi.wekeo.eu:443\n",
      "2022-09-21 15:45:21,820 DEBUG https://wekeo-broker.apps.mercator.dpi.wekeo.eu:443 \"GET /databroker/gettoken HTTP/1.1\" 200 61\n",
      "2022-09-21 15:45:21,821 DEBUG <=== {\"access_token\": \"f8838272-53ea-30b2-a270-612cae3b88e7\"}\n",
      "2022-09-21 15:45:21,822 DEBUG Token is f8838272-53ea-30b2-a270-612cae3b88e7\n",
      "2022-09-21 15:45:21,822 DEBUG ===> POST https://wekeo-broker.apps.mercator.dpi.wekeo.eu/databroker/datarequest\n",
      "2022-09-21 15:45:21,823 DEBUG ===> POST {\"datasetId\": \"EO:ESA:DAT:SENTINEL-3:OL_2_LFR___\", \"boundingBoxValues\": [{\"na...\n",
      "2022-09-21 15:45:22,165 DEBUG https://wekeo-broker.apps.mercator.dpi.wekeo.eu:443 \"POST /databroker/datarequest HTTP/1.1\" 200 93\n",
      "2022-09-21 15:45:22,166 DEBUG <=== {\"jobId\": \"V6bVT9nBTGSEtY8ZRCLuD6U8bPc\", \"status\": \"started\", \"results\": [], ...\n",
      "2022-09-21 15:45:22,167 DEBUG Sleeping 1 seconds\n",
      "2022-09-21 15:45:23,170 DEBUG ===> GET https://wekeo-broker.apps.mercator.dpi.wekeo.eu/databroker/datarequest/status/V6bVT9nBTGSEtY8ZRCLuD6U8bPc\n",
      "2022-09-21 15:45:23,370 DEBUG https://wekeo-broker.apps.mercator.dpi.wekeo.eu:443 \"GET /databroker/datarequest/status/V6bVT9nBTGSEtY8ZRCLuD6U8bPc HTTP/1.1\" 200 38\n",
      "2022-09-21 15:45:23,371 DEBUG <=== {\"status\": \"running\", \"message\": null}\n",
      "2022-09-21 15:45:23,371 DEBUG Sleeping 1.1 seconds\n",
      "2022-09-21 15:45:24,474 DEBUG ===> GET https://wekeo-broker.apps.mercator.dpi.wekeo.eu/databroker/datarequest/status/V6bVT9nBTGSEtY8ZRCLuD6U8bPc\n",
      "2022-09-21 15:45:24,688 DEBUG https://wekeo-broker.apps.mercator.dpi.wekeo.eu:443 \"GET /databroker/datarequest/status/V6bVT9nBTGSEtY8ZRCLuD6U8bPc HTTP/1.1\" 200 43\n",
      "2022-09-21 15:45:24,690 DEBUG <=== {\"status\": \"completed\", \"message\": \"Done!\"}\n",
      "2022-09-21 15:45:24,691 DEBUG ===> GET https://wekeo-broker.apps.mercator.dpi.wekeo.eu/databroker/datarequest/jobs/V6bVT9nBTGSEtY8ZRCLuD6U8bPc/result\n",
      "2022-09-21 15:45:24,904 DEBUG https://wekeo-broker.apps.mercator.dpi.wekeo.eu:443 \"GET /databroker/datarequest/jobs/V6bVT9nBTGSEtY8ZRCLuD6U8bPc/result HTTP/1.1\" 200 4290\n",
      "2022-09-21 15:45:24,905 DEBUG <=== {\"content\": [{\"downloadUri\": null, \"filename\": \"S3B_OL_2_LFR____20210101T1122...\n",
      "2022-09-21 15:45:24,906 DEBUG {'downloadUri': None, 'filename': 'S3B_OL_2_LFR____20210101T112211_20210101T112511_20210102T153133_0179_047_251_2160_LN1_O_NT_002.SEN3.zip', 'order': None, 'productInfo': {'datasetId': 'EO:ESA:DAT:SENTINEL-3:OL_2_LFR___', 'product': 'S3B_OL_2_LFR____20210101T112211_20210101T112511_20210102T153133_0179_047_251_2160_LN1_O_NT_002.SEN3', 'productEndDate': '2021-01-01T11:25:10.708000Z', 'productStartDate': '2021-01-01T11:22:10.708000Z'}, 'size': 92412062, 'url': 'c8387e34-29f3-51e0-af62-5d2ab0724c6f/S3B_OL_2_LFR____20210101T112211_20210101T112511_20210102T153133_0179_047_251_2160_LN1_O_NT_002.SEN3.zip'}\n",
      "2022-09-21 15:45:24,906 DEBUG ===> POST https://wekeo-broker.apps.mercator.dpi.wekeo.eu/databroker/dataorder\n",
      "2022-09-21 15:45:24,907 DEBUG ===> POST {\"jobId\": \"V6bVT9nBTGSEtY8ZRCLuD6U8bPc\", \"uri\": \"c8387e34-29f3-51e0-af62-5d2a...\n"
     ]
    },
    {
     "name": "stdout",
     "output_type": "stream",
     "text": [
      "SearchResults[items=6,volume=448.6M,jobId=V6bVT9nBTGSEtY8ZRCLuD6U8bPc]\n"
     ]
    },
    {
     "name": "stderr",
     "output_type": "stream",
     "text": [
      "2022-09-21 15:45:25,453 DEBUG https://wekeo-broker.apps.mercator.dpi.wekeo.eu:443 \"POST /databroker/dataorder HTTP/1.1\" 200 80\n",
      "2022-09-21 15:45:25,454 DEBUG <=== {\"orderId\": \"WZk6wiexSm-DWQttbA5RCNOuAcQ\", \"status\": \"running\", \"message\": null}\n",
      "2022-09-21 15:45:25,454 DEBUG Sleeping 1 seconds\n",
      "2022-09-21 15:45:26,456 DEBUG ===> GET https://wekeo-broker.apps.mercator.dpi.wekeo.eu/databroker/dataorder/status/WZk6wiexSm-DWQttbA5RCNOuAcQ\n",
      "2022-09-21 15:45:26,755 DEBUG https://wekeo-broker.apps.mercator.dpi.wekeo.eu:443 \"GET /databroker/dataorder/status/WZk6wiexSm-DWQttbA5RCNOuAcQ HTTP/1.1\" 200 353\n",
      "2022-09-21 15:45:26,757 DEBUG <=== {\"status\": \"completed\", \"message\": \"Done!\", \"downloadUri\": \"c8387e34-29f3-51e...\n",
      "2022-09-21 15:45:26,759 INFO Downloading https://wekeo-broker.apps.mercator.dpi.wekeo.eu/databroker/dataorder/download/WZk6wiexSm-DWQttbA5RCNOuAcQ to S3B_OL_2_LFR____20210101T112211_20210101T112511_20210102T153133_0179_047_251_2160_LN1_O_NT_002.SEN3.zip (88.1M)\n",
      "2022-09-21 15:45:27,388 DEBUG https://wekeo-broker.apps.mercator.dpi.wekeo.eu:443 \"GET /databroker/dataorder/download/WZk6wiexSm-DWQttbA5RCNOuAcQ HTTP/1.1\" 302 3399\n",
      "2022-09-21 15:45:27,393 DEBUG Starting new HTTPS connection (1): zipper.creodias.eu:443\n",
      "/root/miniconda3/envs/snapEnv/lib/python3.6/site-packages/urllib3/connectionpool.py:1052: InsecureRequestWarning: Unverified HTTPS request is being made to host 'zipper.creodias.eu'. Adding certificate verification is strongly advised. See: https://urllib3.readthedocs.io/en/1.26.x/advanced-usage.html#ssl-warnings\n",
      "  InsecureRequestWarning,\n",
      "2022-09-21 15:45:27,943 DEBUG https://zipper.creodias.eu:443 \"GET /download/c8387e34-29f3-51e0-af62-5d2ab0724c6f?token=eyJhbGciOiJSUzI1NiIsInR5cCIgOiAiSldUIiwia2lkIiA6ICJ5RUhvWks0aWR2WHFmeExZWFhabjFmTi1YSU1UTXJvdTJ2NmVIQXI5ZWE0In0.eyJleHAiOjE2NjM4MTExMjksImlhdCI6MTY2Mzc3NTEyOSwianRpIjoiMDUxOWRhYjktODE5Ny00ZTRlLWEzZGUtYmYyNTE4Mjg1MDcyIiwiaXNzIjoiaHR0cHM6Ly9hdXRoLmNyZW9kaWFzLmV1L2F1dGgvcmVhbG1zL2RpYXMiLCJhdWQiOlsiQ0xPVURGRVJST19QVUJMSUMiLCJhY2NvdW50Il0sInN1YiI6IjFmMDE2MTJhLTQ0NDktNDVjMC1iNjlmLTdiNWI4MzVkODM5MCIsInR5cCI6IkJlYXJlciIsImF6cCI6IkNMT1VERkVSUk9fUFVCTElDIiwic2Vzc2lvbl9zdGF0ZSI6ImM4NzM3MzE1LWU4MmMtNDJhMS05ZGRmLTBiZTM0ZmIxMzc0YyIsImFjciI6IjEiLCJyZWFsbV9hY2Nlc3MiOnsicm9sZXMiOlsib2ZmbGluZV9hY2Nlc3MiLCJ1bWFfYXV0aG9yaXphdGlvbiJdfSwicmVzb3VyY2VfYWNjZXNzIjp7ImFjY291bnQiOnsicm9sZXMiOlsibWFuYWdlLWFjY291bnQiLCJtYW5hZ2UtYWNjb3VudC1saW5rcyIsInZpZXctcHJvZmlsZSJdfX0sInNjb3BlIjoiYXVkLWZpeCBwcm9maWxlIGFkZHJlc3MgZW1haWwiLCJzaWQiOiJjODczNzMxNS1lODJjLTQyYTEtOWRkZi0wYmUzNGZiMTM3NGMiLCJhZGRyZXNzIjp7fSwiZW1haWxfdmVyaWZpZWQiOmZhbHNlLCJ6aXBfbWF4X3Nlc3MiOjIwLCJuYW1lIjoiV2VrZW8gRGF0YSBBZGFwdGVyIiwicHJlZmVycmVkX3VzZXJuYW1lIjoid2VrZW9fYWRhcHRlcl9pbXBAY2xvdWRmZXJyby5jb20iLCJnaXZlbl9uYW1lIjoiV2VrZW8iLCJmYW1pbHlfbmFtZSI6IkRhdGEgQWRhcHRlciIsImVtYWlsIjoid2VrZW9fYWRhcHRlcl9pbXBAY2xvdWRmZXJyby5jb20ifQ.TxWMeqs7qR43XEn546c2KaCOehyjwjZT4UDF-ZGJqXeAHQyaVhnsmpn39bIB7jIhIYoNug22F9Gqwk8VT3RHBgHc_Rs6yuH_k8o7SeJrnhHYqG4Eiqt2U_7syx5dStqMtJx2Pef_7Pqle9Er34E4912ehsNP4YGeql6Fp3B6VMrb5jP4rTA5k3hVsjyh5u9Y9uhbSO2gwaQKy9gSspaxErF8pjicO0bdWkoJkvpO2i54tTOrrd0vRQ3g0UGcLxgOuno5W3dGuEz657hjWeAK8WV6YfjlxE3zEuKAe-iSXoThluyGlOQXcEVgsGW2sIhkyl0ogtfILCXGfR54qcS2HA HTTP/1.1\" 200 92529088\n",
      "2022-09-21 15:45:27,944 DEBUG Headers: {'Server': 'nginx/1.17.7', 'Date': 'Wed, 21 Sep 2022 15:45:29 GMT', 'Content-Type': 'application/zip', 'Content-Length': '92529088', 'Connection': 'keep-alive', 'Content-Disposition': 'attachment; filename=S3B_OL_2_LFR____20210101T112211_20210101T112511_20210102T153133_0179_047_251_2160_LN1_O_NT_002.zip', 'Accept-Ranges': 'bytes'}\n",
      "2022-09-21 15:45:49,374 INFO Download rate 3.9M/s   \n",
      "2022-09-21 15:45:49,374 DEBUG {'downloadUri': None, 'filename': 'S3B_OL_2_LFR____20210101T112042_20210101T112211_20210102T153122_0088_047_251_1980_LN1_O_NT_002.SEN3.zip', 'order': None, 'productInfo': {'datasetId': 'EO:ESA:DAT:SENTINEL-3:OL_2_LFR___', 'product': 'S3B_OL_2_LFR____20210101T112042_20210101T112211_20210102T153122_0088_047_251_1980_LN1_O_NT_002.SEN3', 'productEndDate': '2021-01-01T11:22:10.708000Z', 'productStartDate': '2021-01-01T11:20:41.735000Z'}, 'size': 54495492, 'url': '4eae1c33-5f08-5732-9d54-ef6bfa0164c6/S3B_OL_2_LFR____20210101T112042_20210101T112211_20210102T153122_0088_047_251_1980_LN1_O_NT_002.SEN3.zip'}\n",
      "2022-09-21 15:45:49,375 DEBUG ===> POST https://wekeo-broker.apps.mercator.dpi.wekeo.eu/databroker/dataorder\n",
      "2022-09-21 15:45:49,375 DEBUG ===> POST {\"jobId\": \"V6bVT9nBTGSEtY8ZRCLuD6U8bPc\", \"uri\": \"4eae1c33-5f08-5732-9d54-ef6b...\n",
      "2022-09-21 15:45:49,868 DEBUG https://wekeo-broker.apps.mercator.dpi.wekeo.eu:443 \"POST /databroker/dataorder HTTP/1.1\" 200 80\n",
      "2022-09-21 15:45:49,869 DEBUG <=== {\"orderId\": \"epxUXgy83gSOa3vlAuBtTWZhMv4\", \"status\": \"running\", \"message\": null}\n",
      "2022-09-21 15:45:49,869 DEBUG Sleeping 1 seconds\n",
      "2022-09-21 15:45:50,871 DEBUG ===> GET https://wekeo-broker.apps.mercator.dpi.wekeo.eu/databroker/dataorder/status/epxUXgy83gSOa3vlAuBtTWZhMv4\n",
      "2022-09-21 15:45:51,304 DEBUG https://wekeo-broker.apps.mercator.dpi.wekeo.eu:443 \"GET /databroker/dataorder/status/epxUXgy83gSOa3vlAuBtTWZhMv4 HTTP/1.1\" 200 353\n",
      "2022-09-21 15:45:51,305 DEBUG <=== {\"status\": \"completed\", \"message\": \"Done!\", \"downloadUri\": \"4eae1c33-5f08-573...\n",
      "2022-09-21 15:45:51,306 INFO Downloading https://wekeo-broker.apps.mercator.dpi.wekeo.eu/databroker/dataorder/download/epxUXgy83gSOa3vlAuBtTWZhMv4 to S3B_OL_2_LFR____20210101T112042_20210101T112211_20210102T153122_0088_047_251_1980_LN1_O_NT_002.SEN3.zip (52M)\n",
      "2022-09-21 15:45:51,944 DEBUG https://wekeo-broker.apps.mercator.dpi.wekeo.eu:443 \"GET /databroker/dataorder/download/epxUXgy83gSOa3vlAuBtTWZhMv4 HTTP/1.1\" 302 3399\n",
      "/root/miniconda3/envs/snapEnv/lib/python3.6/site-packages/urllib3/connectionpool.py:1052: InsecureRequestWarning: Unverified HTTPS request is being made to host 'zipper.creodias.eu'. Adding certificate verification is strongly advised. See: https://urllib3.readthedocs.io/en/1.26.x/advanced-usage.html#ssl-warnings\n",
      "  InsecureRequestWarning,\n",
      "2022-09-21 15:45:52,221 DEBUG https://zipper.creodias.eu:443 \"GET /download/4eae1c33-5f08-5732-9d54-ef6bfa0164c6?token=eyJhbGciOiJSUzI1NiIsInR5cCIgOiAiSldUIiwia2lkIiA6ICJ5RUhvWks0aWR2WHFmeExZWFhabjFmTi1YSU1UTXJvdTJ2NmVIQXI5ZWE0In0.eyJleHAiOjE2NjM4MTExNTMsImlhdCI6MTY2Mzc3NTE1MywianRpIjoiMTM4NDczZTMtYmEyOC00NWJlLWEwMmUtYWE4YWVmY2ZkZDI4IiwiaXNzIjoiaHR0cHM6Ly9hdXRoLmNyZW9kaWFzLmV1L2F1dGgvcmVhbG1zL2RpYXMiLCJhdWQiOlsiQ0xPVURGRVJST19QVUJMSUMiLCJhY2NvdW50Il0sInN1YiI6IjFmMDE2MTJhLTQ0NDktNDVjMC1iNjlmLTdiNWI4MzVkODM5MCIsInR5cCI6IkJlYXJlciIsImF6cCI6IkNMT1VERkVSUk9fUFVCTElDIiwic2Vzc2lvbl9zdGF0ZSI6IjY4MzBkZGY1LTM1ODgtNGMzMi05Y2Q0LWIzNjg4Y2U2ZGQwNiIsImFjciI6IjEiLCJyZWFsbV9hY2Nlc3MiOnsicm9sZXMiOlsib2ZmbGluZV9hY2Nlc3MiLCJ1bWFfYXV0aG9yaXphdGlvbiJdfSwicmVzb3VyY2VfYWNjZXNzIjp7ImFjY291bnQiOnsicm9sZXMiOlsibWFuYWdlLWFjY291bnQiLCJtYW5hZ2UtYWNjb3VudC1saW5rcyIsInZpZXctcHJvZmlsZSJdfX0sInNjb3BlIjoiYXVkLWZpeCBwcm9maWxlIGFkZHJlc3MgZW1haWwiLCJzaWQiOiI2ODMwZGRmNS0zNTg4LTRjMzItOWNkNC1iMzY4OGNlNmRkMDYiLCJhZGRyZXNzIjp7fSwiZW1haWxfdmVyaWZpZWQiOmZhbHNlLCJ6aXBfbWF4X3Nlc3MiOjIwLCJuYW1lIjoiV2VrZW8gRGF0YSBBZGFwdGVyIiwicHJlZmVycmVkX3VzZXJuYW1lIjoid2VrZW9fYWRhcHRlcl9pbXBAY2xvdWRmZXJyby5jb20iLCJnaXZlbl9uYW1lIjoiV2VrZW8iLCJmYW1pbHlfbmFtZSI6IkRhdGEgQWRhcHRlciIsImVtYWlsIjoid2VrZW9fYWRhcHRlcl9pbXBAY2xvdWRmZXJyby5jb20ifQ.o5sv8nnIszGOvpwDU0jJi2YqiYqU8k04HHveiKCMe32KBuqnKmg4GSOaIsJWAMM6KMBGa2HqC77-_DFkNuqFTnTYK2wF7z1nSmlTgGFhA-Kg4rDPfYF1WUMb902d-DKsgbjLbdMqXQ6EOinb-g9G_1vkUbxAZq1GZOvdHnmRpuTOVIqtNADKqoF0_Qzxvf18dFO3Euw6BESf_UP7Q92If3TKxj7dbPCaJkBqOd_9juQI7rvSqe2auKVRI6ZvbxZI1t54W84UbfJiIq12fS3KvJYm8WCISV7FMTa09ry3dx5gcswHbtXs5hP81O_yx5LechQrCbDzbNXKVJdTa7tSZQ HTTP/1.1\" 200 54629879\n",
      "2022-09-21 15:45:52,222 DEBUG Headers: {'Server': 'nginx/1.17.7', 'Date': 'Wed, 21 Sep 2022 15:45:54 GMT', 'Content-Type': 'application/zip', 'Content-Length': '54629879', 'Connection': 'keep-alive', 'Content-Disposition': 'attachment; filename=S3B_OL_2_LFR____20210101T112042_20210101T112211_20210102T153122_0088_047_251_1980_LN1_O_NT_002.zip', 'Accept-Ranges': 'bytes'}\n",
      "2022-09-21 15:46:03,756 INFO Download rate 4.2M/s   \n",
      "2022-09-21 15:46:03,756 DEBUG {'downloadUri': None, 'filename': 'S3A_OL_2_LFR____20210101T102034_20210101T102334_20210102T153336_0179_067_008_2160_LN1_O_NT_002.SEN3.zip', 'order': None, 'productInfo': {'datasetId': 'EO:ESA:DAT:SENTINEL-3:OL_2_LFR___', 'product': 'S3A_OL_2_LFR____20210101T102034_20210101T102334_20210102T153336_0179_067_008_2160_LN1_O_NT_002.SEN3', 'productEndDate': '2021-01-01T10:23:33.957000Z', 'productStartDate': '2021-01-01T10:20:33.957000Z'}, 'size': 119890606, 'url': '639b3ef6-41c9-5ee1-9df1-e01966fb53d8/S3A_OL_2_LFR____20210101T102034_20210101T102334_20210102T153336_0179_067_008_2160_LN1_O_NT_002.SEN3.zip'}\n",
      "2022-09-21 15:46:03,757 DEBUG ===> POST https://wekeo-broker.apps.mercator.dpi.wekeo.eu/databroker/dataorder\n",
      "2022-09-21 15:46:03,758 DEBUG ===> POST {\"jobId\": \"V6bVT9nBTGSEtY8ZRCLuD6U8bPc\", \"uri\": \"639b3ef6-41c9-5ee1-9df1-e019...\n",
      "2022-09-21 15:46:04,298 DEBUG https://wekeo-broker.apps.mercator.dpi.wekeo.eu:443 \"POST /databroker/dataorder HTTP/1.1\" 200 80\n",
      "2022-09-21 15:46:04,299 DEBUG <=== {\"orderId\": \"b0xnxTK6E_jBveCXXF_EiAMDfks\", \"status\": \"running\", \"message\": null}\n",
      "2022-09-21 15:46:04,299 DEBUG Sleeping 1 seconds\n",
      "2022-09-21 15:46:05,301 DEBUG ===> GET https://wekeo-broker.apps.mercator.dpi.wekeo.eu/databroker/dataorder/status/b0xnxTK6E_jBveCXXF_EiAMDfks\n",
      "2022-09-21 15:46:05,740 DEBUG https://wekeo-broker.apps.mercator.dpi.wekeo.eu:443 \"GET /databroker/dataorder/status/b0xnxTK6E_jBveCXXF_EiAMDfks HTTP/1.1\" 200 353\n",
      "2022-09-21 15:46:05,742 DEBUG <=== {\"status\": \"completed\", \"message\": \"Done!\", \"downloadUri\": \"639b3ef6-41c9-5ee...\n",
      "2022-09-21 15:46:05,746 INFO Downloading https://wekeo-broker.apps.mercator.dpi.wekeo.eu/databroker/dataorder/download/b0xnxTK6E_jBveCXXF_EiAMDfks to S3A_OL_2_LFR____20210101T102034_20210101T102334_20210102T153336_0179_067_008_2160_LN1_O_NT_002.SEN3.zip (114.3M)\n",
      "2022-09-21 15:46:06,340 DEBUG https://wekeo-broker.apps.mercator.dpi.wekeo.eu:443 \"GET /databroker/dataorder/download/b0xnxTK6E_jBveCXXF_EiAMDfks HTTP/1.1\" 302 3399\n",
      "/root/miniconda3/envs/snapEnv/lib/python3.6/site-packages/urllib3/connectionpool.py:1052: InsecureRequestWarning: Unverified HTTPS request is being made to host 'zipper.creodias.eu'. Adding certificate verification is strongly advised. See: https://urllib3.readthedocs.io/en/1.26.x/advanced-usage.html#ssl-warnings\n",
      "  InsecureRequestWarning,\n",
      "2022-09-21 15:46:06,799 DEBUG https://zipper.creodias.eu:443 \"GET /download/639b3ef6-41c9-5ee1-9df1-e01966fb53d8?token=eyJhbGciOiJSUzI1NiIsInR5cCIgOiAiSldUIiwia2lkIiA6ICJ5RUhvWks0aWR2WHFmeExZWFhabjFmTi1YSU1UTXJvdTJ2NmVIQXI5ZWE0In0.eyJleHAiOjE2NjM4MTExNjgsImlhdCI6MTY2Mzc3NTE2OCwianRpIjoiY2U3ODA2YzUtMzgxMi00M2EzLTg5YzEtNDQ4NmUwY2Q2M2NlIiwiaXNzIjoiaHR0cHM6Ly9hdXRoLmNyZW9kaWFzLmV1L2F1dGgvcmVhbG1zL2RpYXMiLCJhdWQiOlsiQ0xPVURGRVJST19QVUJMSUMiLCJhY2NvdW50Il0sInN1YiI6IjFmMDE2MTJhLTQ0NDktNDVjMC1iNjlmLTdiNWI4MzVkODM5MCIsInR5cCI6IkJlYXJlciIsImF6cCI6IkNMT1VERkVSUk9fUFVCTElDIiwic2Vzc2lvbl9zdGF0ZSI6IjI0ZTM4MGI0LTI1ZGYtNGUwNC05YTkwLWJmZTNlYTZiN2QzYiIsImFjciI6IjEiLCJyZWFsbV9hY2Nlc3MiOnsicm9sZXMiOlsib2ZmbGluZV9hY2Nlc3MiLCJ1bWFfYXV0aG9yaXphdGlvbiJdfSwicmVzb3VyY2VfYWNjZXNzIjp7ImFjY291bnQiOnsicm9sZXMiOlsibWFuYWdlLWFjY291bnQiLCJtYW5hZ2UtYWNjb3VudC1saW5rcyIsInZpZXctcHJvZmlsZSJdfX0sInNjb3BlIjoiYXVkLWZpeCBwcm9maWxlIGFkZHJlc3MgZW1haWwiLCJzaWQiOiIyNGUzODBiNC0yNWRmLTRlMDQtOWE5MC1iZmUzZWE2YjdkM2IiLCJhZGRyZXNzIjp7fSwiZW1haWxfdmVyaWZpZWQiOmZhbHNlLCJ6aXBfbWF4X3Nlc3MiOjIwLCJuYW1lIjoiV2VrZW8gRGF0YSBBZGFwdGVyIiwicHJlZmVycmVkX3VzZXJuYW1lIjoid2VrZW9fYWRhcHRlcl9pbXBAY2xvdWRmZXJyby5jb20iLCJnaXZlbl9uYW1lIjoiV2VrZW8iLCJmYW1pbHlfbmFtZSI6IkRhdGEgQWRhcHRlciIsImVtYWlsIjoid2VrZW9fYWRhcHRlcl9pbXBAY2xvdWRmZXJyby5jb20ifQ.cN7qYUSChZJ6OZp7q6rhiqQ0spqv4j--x_E86rInPRPJmK34eVrl95MRESG6mBGCOoYJiGuA000PPWUJlWwZwh_W6BoKtXWbLAxA4ul14Z93E1EgTBoLZFivUN0JBOtAR8WgwSu9aGwjxSy25uUWxM55x4PvaeEujTPAt037eqHlfUGAeGHbdPr_SvW8fX5iqEben-OysAlz7RgU-IhO7Gra5q2NlxtnzPBUw7Zu1WUJr7TUP4lUfzXK2zoDASypCu_aS4tdQIwtby7ho7nrP3W6rj5ut7sWqGesujjvTQFEq4eNrBgrUooeT64aVn_KtVeGRaJL9ObQQsa6Z0Ut0Q HTTP/1.1\" 200 119974829\n",
      "2022-09-21 15:46:06,800 DEBUG Headers: {'Server': 'nginx/1.17.7', 'Date': 'Wed, 21 Sep 2022 15:46:08 GMT', 'Content-Type': 'application/zip', 'Content-Length': '119974829', 'Connection': 'keep-alive', 'Content-Disposition': 'attachment; filename=S3A_OL_2_LFR____20210101T102034_20210101T102334_20210102T153336_0179_067_008_2160_LN1_O_NT_002.zip', 'Accept-Ranges': 'bytes'}\n",
      "2022-09-21 15:46:32,209 INFO Download rate 4.3M/s    \n",
      "2022-09-21 15:46:32,210 DEBUG {'downloadUri': None, 'filename': 'S3A_OL_2_LFR____20210101T101905_20210101T102034_20210102T153324_0089_067_008_1980_LN1_O_NT_002.SEN3.zip', 'order': None, 'productInfo': {'datasetId': 'EO:ESA:DAT:SENTINEL-3:OL_2_LFR___', 'product': 'S3A_OL_2_LFR____20210101T101905_20210101T102034_20210102T153324_0089_067_008_1980_LN1_O_NT_002.SEN3', 'productEndDate': '2021-01-01T10:20:33.957000Z', 'productStartDate': '2021-01-01T10:19:04.734000Z'}, 'size': 50027341, 'url': '7c7eab26-0e01-5811-9cdf-d77bc4e4dc73/S3A_OL_2_LFR____20210101T101905_20210101T102034_20210102T153324_0089_067_008_1980_LN1_O_NT_002.SEN3.zip'}\n",
      "2022-09-21 15:46:32,211 DEBUG ===> POST https://wekeo-broker.apps.mercator.dpi.wekeo.eu/databroker/dataorder\n",
      "2022-09-21 15:46:32,211 DEBUG ===> POST {\"jobId\": \"V6bVT9nBTGSEtY8ZRCLuD6U8bPc\", \"uri\": \"7c7eab26-0e01-5811-9cdf-d77b...\n",
      "2022-09-21 15:46:32,771 DEBUG https://wekeo-broker.apps.mercator.dpi.wekeo.eu:443 \"POST /databroker/dataorder HTTP/1.1\" 200 80\n",
      "2022-09-21 15:46:32,772 DEBUG <=== {\"orderId\": \"w5pO00BrTHhgPR8IhXwpWxAKhDI\", \"status\": \"running\", \"message\": null}\n",
      "2022-09-21 15:46:32,773 DEBUG Sleeping 1 seconds\n",
      "2022-09-21 15:46:33,775 DEBUG ===> GET https://wekeo-broker.apps.mercator.dpi.wekeo.eu/databroker/dataorder/status/w5pO00BrTHhgPR8IhXwpWxAKhDI\n",
      "2022-09-21 15:46:34,101 DEBUG https://wekeo-broker.apps.mercator.dpi.wekeo.eu:443 \"GET /databroker/dataorder/status/w5pO00BrTHhgPR8IhXwpWxAKhDI HTTP/1.1\" 200 353\n",
      "2022-09-21 15:46:34,106 DEBUG <=== {\"status\": \"completed\", \"message\": \"Done!\", \"downloadUri\": \"7c7eab26-0e01-581...\n",
      "2022-09-21 15:46:34,113 INFO Downloading https://wekeo-broker.apps.mercator.dpi.wekeo.eu/databroker/dataorder/download/w5pO00BrTHhgPR8IhXwpWxAKhDI to S3A_OL_2_LFR____20210101T101905_20210101T102034_20210102T153324_0089_067_008_1980_LN1_O_NT_002.SEN3.zip (47.7M)\n",
      "2022-09-21 15:46:34,676 DEBUG https://wekeo-broker.apps.mercator.dpi.wekeo.eu:443 \"GET /databroker/dataorder/download/w5pO00BrTHhgPR8IhXwpWxAKhDI HTTP/1.1\" 302 3399\n",
      "/root/miniconda3/envs/snapEnv/lib/python3.6/site-packages/urllib3/connectionpool.py:1052: InsecureRequestWarning: Unverified HTTPS request is being made to host 'zipper.creodias.eu'. Adding certificate verification is strongly advised. See: https://urllib3.readthedocs.io/en/1.26.x/advanced-usage.html#ssl-warnings\n",
      "  InsecureRequestWarning,\n",
      "2022-09-21 15:46:34,965 DEBUG https://zipper.creodias.eu:443 \"GET /download/7c7eab26-0e01-5811-9cdf-d77bc4e4dc73?token=eyJhbGciOiJSUzI1NiIsInR5cCIgOiAiSldUIiwia2lkIiA6ICJ5RUhvWks0aWR2WHFmeExZWFhabjFmTi1YSU1UTXJvdTJ2NmVIQXI5ZWE0In0.eyJleHAiOjE2NjM4MTExOTYsImlhdCI6MTY2Mzc3NTE5NiwianRpIjoiOTVjOTVmOTgtOTM1NS00NTY3LWFkYWUtMmM0MzFhMjQ3OTU5IiwiaXNzIjoiaHR0cHM6Ly9hdXRoLmNyZW9kaWFzLmV1L2F1dGgvcmVhbG1zL2RpYXMiLCJhdWQiOlsiQ0xPVURGRVJST19QVUJMSUMiLCJhY2NvdW50Il0sInN1YiI6IjFmMDE2MTJhLTQ0NDktNDVjMC1iNjlmLTdiNWI4MzVkODM5MCIsInR5cCI6IkJlYXJlciIsImF6cCI6IkNMT1VERkVSUk9fUFVCTElDIiwic2Vzc2lvbl9zdGF0ZSI6IjNhOWJkOGU0LTkyNjctNGIwYS1iNGE4LWEwNmI3ZWU2ZTJmZSIsImFjciI6IjEiLCJyZWFsbV9hY2Nlc3MiOnsicm9sZXMiOlsib2ZmbGluZV9hY2Nlc3MiLCJ1bWFfYXV0aG9yaXphdGlvbiJdfSwicmVzb3VyY2VfYWNjZXNzIjp7ImFjY291bnQiOnsicm9sZXMiOlsibWFuYWdlLWFjY291bnQiLCJtYW5hZ2UtYWNjb3VudC1saW5rcyIsInZpZXctcHJvZmlsZSJdfX0sInNjb3BlIjoiYXVkLWZpeCBwcm9maWxlIGFkZHJlc3MgZW1haWwiLCJzaWQiOiIzYTliZDhlNC05MjY3LTRiMGEtYjRhOC1hMDZiN2VlNmUyZmUiLCJhZGRyZXNzIjp7fSwiZW1haWxfdmVyaWZpZWQiOmZhbHNlLCJ6aXBfbWF4X3Nlc3MiOjIwLCJuYW1lIjoiV2VrZW8gRGF0YSBBZGFwdGVyIiwicHJlZmVycmVkX3VzZXJuYW1lIjoid2VrZW9fYWRhcHRlcl9pbXBAY2xvdWRmZXJyby5jb20iLCJnaXZlbl9uYW1lIjoiV2VrZW8iLCJmYW1pbHlfbmFtZSI6IkRhdGEgQWRhcHRlciIsImVtYWlsIjoid2VrZW9fYWRhcHRlcl9pbXBAY2xvdWRmZXJyby5jb20ifQ.DMRv4jFCSor5JFWJBGhY0dsXSe_djyw8lUUwTJN7aA4QBRBmp3MHb_mWFmdNT5E2RlOgYp052RbA02ip_0qwhJLrwaVVJ62Jwkk6lF04E7HSWSo67kc_4ixv3ENC0fiqbiJX8oA-xnviICHIRPynY0cUnIMCEPrWX1UQZbpUlioeyd3SJpX2yrbIYOqTmwd0VvrtCK3V3kymGor0vHahp-O2TMDcaBxgfALrmhhAMoXziN-717TOLAORw88Dl8Et_-SbBlqv1lpl3FhDhroTpy4U6Nt3B3iI6CqRj5eql6PfnJCiYiSoWUMXWx2VzMK7Ono9IpPwBch8fcWikohoBg HTTP/1.1\" 200 50101616\n",
      "2022-09-21 15:46:34,966 DEBUG Headers: {'Server': 'nginx/1.17.7', 'Date': 'Wed, 21 Sep 2022 15:46:36 GMT', 'Content-Type': 'application/zip', 'Content-Length': '50101616', 'Connection': 'keep-alive', 'Content-Disposition': 'attachment; filename=S3A_OL_2_LFR____20210101T101905_20210101T102034_20210102T153324_0089_067_008_1980_LN1_O_NT_002.zip', 'Accept-Ranges': 'bytes'}\n",
      "2022-09-21 15:46:45,791 INFO Download rate 4.1M/s   \n",
      "2022-09-21 15:46:45,792 DEBUG {'downloadUri': None, 'filename': 'S3B_OL_2_LFR____20210101T094112_20210101T094412_20210102T134705_0179_047_250_2160_LN1_O_NT_002.SEN3.zip', 'order': None, 'productInfo': {'datasetId': 'EO:ESA:DAT:SENTINEL-3:OL_2_LFR___', 'product': 'S3B_OL_2_LFR____20210101T094112_20210101T094412_20210102T134705_0179_047_250_2160_LN1_O_NT_002.SEN3', 'productEndDate': '2021-01-01T09:44:11.539000Z', 'productStartDate': '2021-01-01T09:41:11.539000Z'}, 'size': 108383526, 'url': 'f59233b1-5fb7-5fd3-a778-0c6317dee043/S3B_OL_2_LFR____20210101T094112_20210101T094412_20210102T134705_0179_047_250_2160_LN1_O_NT_002.SEN3.zip'}\n",
      "2022-09-21 15:46:45,792 DEBUG ===> POST https://wekeo-broker.apps.mercator.dpi.wekeo.eu/databroker/dataorder\n",
      "2022-09-21 15:46:45,793 DEBUG ===> POST {\"jobId\": \"V6bVT9nBTGSEtY8ZRCLuD6U8bPc\", \"uri\": \"f59233b1-5fb7-5fd3-a778-0c63...\n",
      "2022-09-21 15:46:46,391 DEBUG https://wekeo-broker.apps.mercator.dpi.wekeo.eu:443 \"POST /databroker/dataorder HTTP/1.1\" 200 80\n",
      "2022-09-21 15:46:46,392 DEBUG <=== {\"orderId\": \"pYxfaNprFUus52Q1awQu6Zx5FRA\", \"status\": \"running\", \"message\": null}\n",
      "2022-09-21 15:46:46,393 DEBUG Sleeping 1 seconds\n",
      "2022-09-21 15:46:47,395 DEBUG ===> GET https://wekeo-broker.apps.mercator.dpi.wekeo.eu/databroker/dataorder/status/pYxfaNprFUus52Q1awQu6Zx5FRA\n",
      "2022-09-21 15:46:47,709 DEBUG https://wekeo-broker.apps.mercator.dpi.wekeo.eu:443 \"GET /databroker/dataorder/status/pYxfaNprFUus52Q1awQu6Zx5FRA HTTP/1.1\" 200 353\n",
      "2022-09-21 15:46:47,712 DEBUG <=== {\"status\": \"completed\", \"message\": \"Done!\", \"downloadUri\": \"f59233b1-5fb7-5fd...\n",
      "2022-09-21 15:46:47,714 INFO Downloading https://wekeo-broker.apps.mercator.dpi.wekeo.eu/databroker/dataorder/download/pYxfaNprFUus52Q1awQu6Zx5FRA to S3B_OL_2_LFR____20210101T094112_20210101T094412_20210102T134705_0179_047_250_2160_LN1_O_NT_002.SEN3.zip (103.4M)\n",
      "2022-09-21 15:46:48,268 DEBUG https://wekeo-broker.apps.mercator.dpi.wekeo.eu:443 \"GET /databroker/dataorder/download/pYxfaNprFUus52Q1awQu6Zx5FRA HTTP/1.1\" 302 3399\n",
      "/root/miniconda3/envs/snapEnv/lib/python3.6/site-packages/urllib3/connectionpool.py:1052: InsecureRequestWarning: Unverified HTTPS request is being made to host 'zipper.creodias.eu'. Adding certificate verification is strongly advised. See: https://urllib3.readthedocs.io/en/1.26.x/advanced-usage.html#ssl-warnings\n",
      "  InsecureRequestWarning,\n",
      "2022-09-21 15:46:48,571 DEBUG https://zipper.creodias.eu:443 \"GET /download/f59233b1-5fb7-5fd3-a778-0c6317dee043?token=eyJhbGciOiJSUzI1NiIsInR5cCIgOiAiSldUIiwia2lkIiA6ICJ5RUhvWks0aWR2WHFmeExZWFhabjFmTi1YSU1UTXJvdTJ2NmVIQXI5ZWE0In0.eyJleHAiOjE2NjM4MTEyMTAsImlhdCI6MTY2Mzc3NTIxMCwianRpIjoiZGY5MjIxYWEtNTY3Yy00ZjM1LWIwNTctZjg0MjgzYjQwZmIwIiwiaXNzIjoiaHR0cHM6Ly9hdXRoLmNyZW9kaWFzLmV1L2F1dGgvcmVhbG1zL2RpYXMiLCJhdWQiOlsiQ0xPVURGRVJST19QVUJMSUMiLCJhY2NvdW50Il0sInN1YiI6IjFmMDE2MTJhLTQ0NDktNDVjMC1iNjlmLTdiNWI4MzVkODM5MCIsInR5cCI6IkJlYXJlciIsImF6cCI6IkNMT1VERkVSUk9fUFVCTElDIiwic2Vzc2lvbl9zdGF0ZSI6Ijg5NjYxMmQ5LTI1NmQtNDZjNC1iNWZlLTFkMTYyMDQ4NWJhNCIsImFjciI6IjEiLCJyZWFsbV9hY2Nlc3MiOnsicm9sZXMiOlsib2ZmbGluZV9hY2Nlc3MiLCJ1bWFfYXV0aG9yaXphdGlvbiJdfSwicmVzb3VyY2VfYWNjZXNzIjp7ImFjY291bnQiOnsicm9sZXMiOlsibWFuYWdlLWFjY291bnQiLCJtYW5hZ2UtYWNjb3VudC1saW5rcyIsInZpZXctcHJvZmlsZSJdfX0sInNjb3BlIjoiYXVkLWZpeCBwcm9maWxlIGFkZHJlc3MgZW1haWwiLCJzaWQiOiI4OTY2MTJkOS0yNTZkLTQ2YzQtYjVmZS0xZDE2MjA0ODViYTQiLCJhZGRyZXNzIjp7fSwiZW1haWxfdmVyaWZpZWQiOmZhbHNlLCJ6aXBfbWF4X3Nlc3MiOjIwLCJuYW1lIjoiV2VrZW8gRGF0YSBBZGFwdGVyIiwicHJlZmVycmVkX3VzZXJuYW1lIjoid2VrZW9fYWRhcHRlcl9pbXBAY2xvdWRmZXJyby5jb20iLCJnaXZlbl9uYW1lIjoiV2VrZW8iLCJmYW1pbHlfbmFtZSI6IkRhdGEgQWRhcHRlciIsImVtYWlsIjoid2VrZW9fYWRhcHRlcl9pbXBAY2xvdWRmZXJyby5jb20ifQ.V7lfk7jyZkXnRQFpIsz4zGWUbDZEyg_lGpEaYpE77KADavKmbP6tqcx6U6A1sv0OS0Fq1EAjOip-lZZaESTNWslHTwv1Pt_Pp2e1wt4gTeMLflBU3h7ZNoW7-c6IL08Gh193tCYp9Ijs95euOMPWsvV5Uh7mz84otvqhAN_-6i5X5wDV-d43iHHj2u8sHT4XDdrhSTXWt7XPiSzfy51owvrNtZ_fSYEhVlXHDRx6ke4JQEcodMcp_ibmBNnVHkTPqF0cyVF5NT_vVynLxxkYYI5JJnM1jEx2lCj8b9kzYs23eFdw5m2vmTVOwaSPbPoro2JYUMCBWXHJVgmNefEi1g HTTP/1.1\" 200 108422620\n",
      "2022-09-21 15:46:48,572 DEBUG Headers: {'Server': 'nginx/1.17.7', 'Date': 'Wed, 21 Sep 2022 15:46:50 GMT', 'Content-Type': 'application/zip', 'Content-Length': '108422620', 'Connection': 'keep-alive', 'Content-Disposition': 'attachment; filename=S3B_OL_2_LFR____20210101T094112_20210101T094412_20210102T134705_0179_047_250_2160_LN1_O_NT_002.zip', 'Accept-Ranges': 'bytes'}\n",
      "2022-09-21 15:47:11,703 INFO Download rate 4.3M/s  \n",
      "2022-09-21 15:47:11,703 DEBUG {'downloadUri': None, 'filename': 'S3B_OL_2_LFR____20210101T093942_20210101T094112_20210102T134653_0089_047_250_1980_LN1_O_NT_002.SEN3.zip', 'order': None, 'productInfo': {'datasetId': 'EO:ESA:DAT:SENTINEL-3:OL_2_LFR___', 'product': 'S3B_OL_2_LFR____20210101T093942_20210101T094112_20210102T134653_0089_047_250_1980_LN1_O_NT_002.SEN3', 'productEndDate': '2021-01-01T09:41:11.539000Z', 'productStartDate': '2021-01-01T09:39:41.700000Z'}, 'size': 45232831, 'url': 'd9c424b9-f219-5926-909f-a48566180a8f/S3B_OL_2_LFR____20210101T093942_20210101T094112_20210102T134653_0089_047_250_1980_LN1_O_NT_002.SEN3.zip'}\n",
      "2022-09-21 15:47:11,704 DEBUG ===> POST https://wekeo-broker.apps.mercator.dpi.wekeo.eu/databroker/dataorder\n",
      "2022-09-21 15:47:11,705 DEBUG ===> POST {\"jobId\": \"V6bVT9nBTGSEtY8ZRCLuD6U8bPc\", \"uri\": \"d9c424b9-f219-5926-909f-a485...\n",
      "2022-09-21 15:47:12,278 DEBUG https://wekeo-broker.apps.mercator.dpi.wekeo.eu:443 \"POST /databroker/dataorder HTTP/1.1\" 200 80\n",
      "2022-09-21 15:47:12,279 DEBUG <=== {\"orderId\": \"Q_wZLVLLz_WtIpda7R5lgZHNK-Y\", \"status\": \"running\", \"message\": null}\n",
      "2022-09-21 15:47:12,281 DEBUG Sleeping 1 seconds\n",
      "2022-09-21 15:47:13,283 DEBUG ===> GET https://wekeo-broker.apps.mercator.dpi.wekeo.eu/databroker/dataorder/status/Q_wZLVLLz_WtIpda7R5lgZHNK-Y\n",
      "2022-09-21 15:47:13,721 DEBUG https://wekeo-broker.apps.mercator.dpi.wekeo.eu:443 \"GET /databroker/dataorder/status/Q_wZLVLLz_WtIpda7R5lgZHNK-Y HTTP/1.1\" 200 353\n",
      "2022-09-21 15:47:13,722 DEBUG <=== {\"status\": \"completed\", \"message\": \"Done!\", \"downloadUri\": \"d9c424b9-f219-592...\n",
      "2022-09-21 15:47:13,723 INFO Downloading https://wekeo-broker.apps.mercator.dpi.wekeo.eu/databroker/dataorder/download/Q_wZLVLLz_WtIpda7R5lgZHNK-Y to S3B_OL_2_LFR____20210101T093942_20210101T094112_20210102T134653_0089_047_250_1980_LN1_O_NT_002.SEN3.zip (43.1M)\n",
      "2022-09-21 15:47:14,328 DEBUG https://wekeo-broker.apps.mercator.dpi.wekeo.eu:443 \"GET /databroker/dataorder/download/Q_wZLVLLz_WtIpda7R5lgZHNK-Y HTTP/1.1\" 302 3399\n",
      "/root/miniconda3/envs/snapEnv/lib/python3.6/site-packages/urllib3/connectionpool.py:1052: InsecureRequestWarning: Unverified HTTPS request is being made to host 'zipper.creodias.eu'. Adding certificate verification is strongly advised. See: https://urllib3.readthedocs.io/en/1.26.x/advanced-usage.html#ssl-warnings\n",
      "  InsecureRequestWarning,\n",
      "2022-09-21 15:47:14,611 DEBUG https://zipper.creodias.eu:443 \"GET /download/d9c424b9-f219-5926-909f-a48566180a8f?token=eyJhbGciOiJSUzI1NiIsInR5cCIgOiAiSldUIiwia2lkIiA6ICJ5RUhvWks0aWR2WHFmeExZWFhabjFmTi1YSU1UTXJvdTJ2NmVIQXI5ZWE0In0.eyJleHAiOjE2NjM4MTEyMzYsImlhdCI6MTY2Mzc3NTIzNiwianRpIjoiZmVhM2RlMTMtY2I0Mi00ZmM0LWJkMzUtMWJjYzFkZTVmMjM2IiwiaXNzIjoiaHR0cHM6Ly9hdXRoLmNyZW9kaWFzLmV1L2F1dGgvcmVhbG1zL2RpYXMiLCJhdWQiOlsiQ0xPVURGRVJST19QVUJMSUMiLCJhY2NvdW50Il0sInN1YiI6IjFmMDE2MTJhLTQ0NDktNDVjMC1iNjlmLTdiNWI4MzVkODM5MCIsInR5cCI6IkJlYXJlciIsImF6cCI6IkNMT1VERkVSUk9fUFVCTElDIiwic2Vzc2lvbl9zdGF0ZSI6ImE0YWRlMzEzLTRjNDAtNGMwNS05MTUyLTZmNzg1NTY0YjkyMyIsImFjciI6IjEiLCJyZWFsbV9hY2Nlc3MiOnsicm9sZXMiOlsib2ZmbGluZV9hY2Nlc3MiLCJ1bWFfYXV0aG9yaXphdGlvbiJdfSwicmVzb3VyY2VfYWNjZXNzIjp7ImFjY291bnQiOnsicm9sZXMiOlsibWFuYWdlLWFjY291bnQiLCJtYW5hZ2UtYWNjb3VudC1saW5rcyIsInZpZXctcHJvZmlsZSJdfX0sInNjb3BlIjoiYXVkLWZpeCBwcm9maWxlIGFkZHJlc3MgZW1haWwiLCJzaWQiOiJhNGFkZTMxMy00YzQwLTRjMDUtOTE1Mi02Zjc4NTU2NGI5MjMiLCJhZGRyZXNzIjp7fSwiZW1haWxfdmVyaWZpZWQiOmZhbHNlLCJ6aXBfbWF4X3Nlc3MiOjIwLCJuYW1lIjoiV2VrZW8gRGF0YSBBZGFwdGVyIiwicHJlZmVycmVkX3VzZXJuYW1lIjoid2VrZW9fYWRhcHRlcl9pbXBAY2xvdWRmZXJyby5jb20iLCJnaXZlbl9uYW1lIjoiV2VrZW8iLCJmYW1pbHlfbmFtZSI6IkRhdGEgQWRhcHRlciIsImVtYWlsIjoid2VrZW9fYWRhcHRlcl9pbXBAY2xvdWRmZXJyby5jb20ifQ.Op3cGVd1Yvm95P8C0nVlz5qNsWItBBZIYqmDMLTj58rBbPsYxqtfxuViwYb9xp_xcrsWA2jeger9H_YehN49YUNO_Zk3RU5xO_2ea403r-FWR8Hb_vmovqDquTmog99-y7VYVKJLWzB5DIcKfqCIEvfKuYKWTwLr3mEod66-A51ag0y2ddhRsIbDNYnabnt9de16GwWGU1sDBvJkgS5T6Auu9V1qiOZPwiXhDm0tqQkToljDZ_DZAO96L67BxZnP_7EpqmCDE3LnelcqBnxqvhsPlxnDU3WmJ3ihKuPUrW0BncqccLka5pzyfU5ulLh2oW00nSRSos7dMEbvtPTxeA HTTP/1.1\" 200 45268468\n",
      "2022-09-21 15:47:14,613 DEBUG Headers: {'Server': 'nginx/1.17.7', 'Date': 'Wed, 21 Sep 2022 15:47:16 GMT', 'Content-Type': 'application/zip', 'Content-Length': '45268468', 'Connection': 'keep-alive', 'Content-Disposition': 'attachment; filename=S3B_OL_2_LFR____20210101T093942_20210101T094112_20210102T134653_0089_047_250_1980_LN1_O_NT_002.zip', 'Accept-Ranges': 'bytes'}\n",
      "2022-09-21 15:47:24,328 INFO Download rate 4.1M/s   \n"
     ]
    }
   ],
   "source": [
    "query = {\n",
    "  \"datasetId\": \"EO:ESA:DAT:SENTINEL-3:OL_2_LFR___\",\n",
    "  \"boundingBoxValues\": [\n",
    "    {\n",
    "      \"name\": \"bbox\",\n",
    "      \"bbox\": [\n",
    "        -7.499583333333334,\n",
    "        42.3020216796485,\n",
    "        11.999333333333333,\n",
    "        54.75429195536845\n",
    "      ]\n",
    "    }\n",
    "  ],\n",
    "  \"dateRangeSelectValues\": [\n",
    "    {\n",
    "      \"name\": \"position\",\n",
    "      \"start\": \"2021-01-01T00:00:00.000Z\",\n",
    "      \"end\": \"2021-01-02T00:00:00.000Z\"\n",
    "    }\n",
    "  ],\n",
    "  \"stringChoiceValues\": [\n",
    "    {\n",
    "      \"name\": \"productType\",\n",
    "      \"value\": \"LFR\"\n",
    "    },\n",
    "    {\n",
    "      \"name\": \"processingLevel\",\n",
    "      \"value\": \"LEVEL2\"\n",
    "    }\n",
    "  ]\n",
    "}\n",
    "\n",
    "# The following line runs the query\n",
    "matches = c.search(query)\n",
    "\n",
    "# The following line prints the products returned by the query\n",
    "print(matches)\n",
    "\n",
    "#The download starts. All the products found in the query are downloaded consecutively\n",
    "matches.download()"
   ]
  },
  {
   "cell_type": "code",
   "execution_count": null,
   "id": "0f3d6b83-7c59-4d36-942c-b2e35fab893e",
   "metadata": {},
   "outputs": [],
   "source": [
    "import snappy"
   ]
  },
  {
   "cell_type": "code",
   "execution_count": null,
   "id": "9f1ad27f-aca8-4d0d-a348-542f29e8bb8c",
   "metadata": {},
   "outputs": [],
   "source": []
  }
 ],
 "metadata": {
  "kernelspec": {
   "display_name": "snapEnv (Python)",
   "language": "python",
   "name": "snapenv"
  },
  "language_info": {
   "codemirror_mode": {
    "name": "ipython",
    "version": 3
   },
   "file_extension": ".py",
   "mimetype": "text/x-python",
   "name": "python",
   "nbconvert_exporter": "python",
   "pygments_lexer": "ipython3",
   "version": "3.6.15"
  }
 },
 "nbformat": 4,
 "nbformat_minor": 5
}
