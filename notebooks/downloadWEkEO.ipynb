{
 "cells": [
  {
   "cell_type": "code",
   "execution_count": null,
   "id": "346d7855-e527-44d4-895c-2711ade034ce",
   "metadata": {},
   "outputs": [],
   "source": [
    "import base64\n",
    "import os\n",
    "import ipywidgets as wg\n",
    "from IPython.display import display"
   ]
  },
  {
   "cell_type": "code",
   "execution_count": null,
   "id": "382a87f6-e7fb-46a8-9f9c-6bbd18a9f28e",
   "metadata": {},
   "outputs": [],
   "source": [
    "user = wg.Text (description = 'WEkEO username')\n",
    "password = wg.Password(placeholder='Enter password',description='WEkEO Password:')\n",
    "display (user, password)"
   ]
  },
  {
   "cell_type": "code",
   "execution_count": null,
   "id": "7340655f-d3f7-438a-8a65-cc92b07a626b",
   "metadata": {},
   "outputs": [],
   "source": [
    "url = 'https://wekeo-broker.apps.mercator.dpi.wekeo.eu/databroker'\n",
    "user = user.value\n",
    "password = password.value"
   ]
  },
  {
   "cell_type": "code",
   "execution_count": null,
   "id": "de595be5-9fad-48c8-89a5-ac526c70a106",
   "metadata": {},
   "outputs": [],
   "source": [
    "parameters = 'url: '+url+'\\nuser: '+user+'\\npassword: '+password"
   ]
  },
  {
   "cell_type": "code",
   "execution_count": null,
   "id": "87e5cb66-0b65-4d01-9403-760f69b0219a",
   "metadata": {},
   "outputs": [],
   "source": [
    "with open(os.path.join(os.environ['HOME'],'.hdarc'), 'w') as fp:\n",
    "    fp.write(parameters)"
   ]
  },
  {
   "cell_type": "code",
   "execution_count": null,
   "id": "59160251-5811-4755-9d0b-a82a266c249a",
   "metadata": {},
   "outputs": [],
   "source": [
    "from hda import Client"
   ]
  },
  {
   "cell_type": "code",
   "execution_count": null,
   "id": "96540103-8206-4357-a17b-ae464df36700",
   "metadata": {},
   "outputs": [],
   "source": [
    "c = Client(debug=True)"
   ]
  },
  {
   "cell_type": "code",
   "execution_count": null,
   "id": "623578d8-850a-4438-8da8-97b44ee4ba6e",
   "metadata": {},
   "outputs": [],
   "source": [
    "# Import necessary libraries for the project\n",
    "\n",
    "# Data\n",
    "import pandas as pd\n",
    "\n",
    "# Spatial data\n",
    "# import geopandas as gpd\n",
    "import rasterio as rio\n",
    "\n",
    "# Machine learning\n",
    "\n",
    "# Data visualization and widgets\n",
    "import contextily as ctx\n",
    "import matplotlib.pyplot as plt\n",
    "\n",
    "# Requests (API's)\n",
    "import requests\n",
    "import json"
   ]
  },
  {
   "cell_type": "code",
   "execution_count": null,
   "id": "2972788f-b87b-49a9-b2bc-371388dd3778",
   "metadata": {},
   "outputs": [],
   "source": [
    "query = {\n",
    "  \"datasetId\": \"EO:ESA:DAT:SENTINEL-3:OL_2_LFR___\",\n",
    "  \"boundingBoxValues\": [\n",
    "    {\n",
    "      \"name\": \"bbox\",\n",
    "      \"bbox\": [\n",
    "        -7.499583333333334,\n",
    "        42.3020216796485,\n",
    "        11.999333333333333,\n",
    "        54.75429195536845\n",
    "      ]\n",
    "    }\n",
    "  ],\n",
    "  \"dateRangeSelectValues\": [\n",
    "    {\n",
    "      \"name\": \"position\",\n",
    "      \"start\": \"2021-01-01T00:00:00.000Z\",\n",
    "      \"end\": \"2021-01-15T00:00:00.000Z\"\n",
    "    }\n",
    "  ],\n",
    "  \"stringChoiceValues\": [\n",
    "    {\n",
    "      \"name\": \"productType\",\n",
    "      \"value\": \"LFR\"\n",
    "    },\n",
    "    {\n",
    "      \"name\": \"processingLevel\",\n",
    "      \"value\": \"LEVEL2\"\n",
    "    }\n",
    "  ]\n",
    "}\n",
    "\n",
    "# The following line runs the query\n",
    "matches = c.search(query)\n",
    "\n",
    "# The following line prints the products returned by the query\n",
    "print(matches)\n",
    "\n",
    "#The download starts. All the products found in the query are downloaded consecutively\n",
    "matches.download()"
   ]
  },
  {
   "cell_type": "code",
   "execution_count": null,
   "id": "0f3d6b83-7c59-4d36-942c-b2e35fab893e",
   "metadata": {},
   "outputs": [],
   "source": [
    "import snappy"
   ]
  },
  {
   "cell_type": "code",
   "execution_count": null,
   "id": "9f1ad27f-aca8-4d0d-a348-542f29e8bb8c",
   "metadata": {},
   "outputs": [],
   "source": []
  }
 ],
 "metadata": {
  "kernelspec": {
   "display_name": "snapEnv (Python)",
   "language": "python",
   "name": "snapenv"
  },
  "language_info": {
   "codemirror_mode": {
    "name": "ipython",
    "version": 3
   },
   "file_extension": ".py",
   "mimetype": "text/x-python",
   "name": "python",
   "nbconvert_exporter": "python",
   "pygments_lexer": "ipython3",
   "version": "3.6.15"
  }
 },
 "nbformat": 4,
 "nbformat_minor": 5
}
