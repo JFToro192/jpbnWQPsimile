{
 "cells": [
  {
   "cell_type": "code",
   "execution_count": 51,
   "id": "cb808f4e-c60f-40c8-95ac-e9fa8198bd8b",
   "metadata": {},
   "outputs": [],
   "source": [
    "# Setup Notebook\n",
    "import base64\n",
    "import os\n",
    "import ipywidgets as wg\n",
    "from IPython.display import display\n",
    "# API requests\n",
    "import json\n",
    "import requests\n",
    "from sodapy import Socrata"
   ]
  },
  {
   "cell_type": "code",
   "execution_count": 52,
   "id": "6f7f3516-452f-47ee-964a-7228d2dcb452",
   "metadata": {},
   "outputs": [
    {
     "data": {
      "application/vnd.jupyter.widget-view+json": {
       "model_id": "79601a815e8c4258a100801d6f76e325",
       "version_major": 2,
       "version_minor": 0
      },
      "text/plain": [
       "Text(value='', description='Socrata User Name')"
      ]
     },
     "metadata": {},
     "output_type": "display_data"
    },
    {
     "data": {
      "application/vnd.jupyter.widget-view+json": {
       "model_id": "bebabfb35c05425c9bda8bd022774037",
       "version_major": 2,
       "version_minor": 0
      },
      "text/plain": [
       "Password(description='Socrata Password:', placeholder='Enter password')"
      ]
     },
     "metadata": {},
     "output_type": "display_data"
    },
    {
     "data": {
      "application/vnd.jupyter.widget-view+json": {
       "model_id": "06addb6611e542558ea5a2606572a979",
       "version_major": 2,
       "version_minor": 0
      },
      "text/plain": [
       "Password(description='Socrata Token:', placeholder='Enter token')"
      ]
     },
     "metadata": {},
     "output_type": "display_data"
    }
   ],
   "source": [
    "user = wg.Text (description = 'Socrata User Name')\n",
    "password = wg.Password(placeholder='Enter password',description='Socrata Password:')\n",
    "token = wg.Password(placeholder='Enter token',description='Socrata Token:')\n",
    "display (user, password, token)"
   ]
  },
  {
   "cell_type": "code",
   "execution_count": 53,
   "id": "221e997b-4434-40e8-a1ec-4e49d8efdb95",
   "metadata": {},
   "outputs": [],
   "source": [
    "url = 'dati.lombardia.it'\n",
    "user = user.value\n",
    "password = password.value\n",
    "token = token.value"
   ]
  },
  {
   "cell_type": "code",
   "execution_count": 95,
   "id": "7b2a2729-620b-4a7d-acc5-50f3686c5e02",
   "metadata": {},
   "outputs": [],
   "source": [
    "# Load Credentials from secret file\n",
    "with open('./setup/secrets.json', 'r') as f:\n",
    "  secrets_socrata = json.load(f)"
   ]
  },
  {
   "cell_type": "code",
   "execution_count": 96,
   "id": "1de5fb0b-2c0a-4974-80e7-ca7a533c1b5b",
   "metadata": {},
   "outputs": [
    {
     "data": {
      "text/plain": [
       "{'DATA_PROVIDER_URL': 'www.dati.lombardia.it',\n",
       " 'USER_NAME_SOCRATA': 'juanfer_toro192@hotmail.com',\n",
       " 'USER_PWD_SOCRATA': 'eemQjqr47Az!fFR',\n",
       " 'API_TOKEN_SOCRATA': '8s2408zicjpt3d17erduvvkqg'}"
      ]
     },
     "execution_count": 96,
     "metadata": {},
     "output_type": "execute_result"
    }
   ],
   "source": [
    "secrets_socrata"
   ]
  },
  {
   "cell_type": "code",
   "execution_count": 106,
   "id": "8c0e4f8c-8c53-4b4a-9faf-7183ebec5121",
   "metadata": {},
   "outputs": [],
   "source": [
    "client = Socrata(\n",
    "        secrets_socrata['DATA_PROVIDER_URL'],\n",
    "        app_token = secrets_socrata['API_TOKEN_SOCRATA'],\n",
    "        # username = secrets_socrata['USER_NAME_SOCRATA'],\n",
    "        # password = secrets_socrata['USER_PWD_SOCRATA'],\n",
    "        timeout=10\n",
    "    )"
   ]
  },
  {
   "cell_type": "code",
   "execution_count": 107,
   "id": "013e2010-05bf-4528-b50e-f48644d570b2",
   "metadata": {},
   "outputs": [],
   "source": [
    "datasetsList = client.datasets()"
   ]
  },
  {
   "cell_type": "code",
   "execution_count": 108,
   "id": "5d1fd6af-4bd3-4cc0-95d9-ddba7dcb7bd6",
   "metadata": {},
   "outputs": [
    {
     "name": "stdout",
     "output_type": "stream",
     "text": [
      "{'resource': {'name': 'Dati sensori meteo', 'id': '647i-nhxk', 'parent_fxf': [], 'description': 'Dati rilevati da sensori in campo nel mese in corso.Il posizionamento dei sensori è disponibile qui: https://www.dati.lombardia.it/d/nf78-nj6b. NB: l’orario del dato è \"ora solare\" e si riferisce alle osservazioni ottenute fino all’orario indicato.', 'attribution': 'ARPA - Regione Lombardia', 'attribution_link': 'http://www.arpalombardia.it/siti/arpalombardia/meteo/richiesta-dati-misurati/Pagine/RichiestaDatiMisurati.aspx', 'contact_email': None, 'type': 'dataset', 'updatedAt': '2022-09-21T05:21:03.000Z', 'createdAt': '2014-04-01T15:19:26.000Z', 'metadata_updated_at': '2022-09-21T05:21:03.000Z', 'data_updated_at': '2022-09-21T05:20:57.000Z', 'page_views': {'page_views_last_week': 34, 'page_views_last_month': 124, 'page_views_total': 14846, 'page_views_last_week_log': 5.129283016944966, 'page_views_last_month_log': 6.965784284662088, 'page_views_total_log': 13.85788382758816}, 'columns_name': ['Valore', 'IdSensore', 'Stato', 'idOperatore', 'Data'], 'columns_field_name': ['valore', 'idsensore', 'stato', 'idoperatore', 'data'], 'columns_datatype': ['Number', 'Text', 'Text', 'Text', 'Calendar date'], 'columns_description': ['LEGENDA:\\n-9999 = dato mancante\\n888, 8888 = direzione vento variabile\\n777, 7777 = calma (solo per direzione di vento)\\n', '', 'LEGENDA:\\nVA, VV = dato valido\\nNA, NV, NC = dato invalido\\nNI = dato incerto\\nND = dato non disponibile', 'LEGENDA:\\n1: Valore medio\\n3: Valore massimo\\n4: Valore cumulato (per la pioggia)\\n\\n \\n', ''], 'columns_format': [{}, {}, {}, {'displayStyle': 'plain', 'align': 'left'}, {'view': 'date_dmy_time', 'align': 'left'}], 'download_count': 10013, 'provenance': 'official', 'lens_view_type': 'tabular', 'lens_display_type': 'table', 'blob_mime_type': None, 'hide_from_data_json': False, 'publication_date': '2017-10-11T08:53:22.000Z'}, 'classification': {'categories': ['social services'], 'tags': [], 'domain_category': 'Ambiente', 'domain_tags': ['meteo', 'arpa', 'sensori_meteo'], 'domain_metadata': [{'key': 'Dettagli_Direzione', 'value': 'ARPA - Regione Lombardia'}, {'key': 'Frequenza-di-aggiornamento_Frequenza', 'value': 'Tempo reale'}, {'key': 'Frequenza-di-aggiornamento_Data-ultima-modifica', 'value': '21/09/2022 07:18'}]}, 'metadata': {'domain': 'www.dati.lombardia.it', 'license': 'Creative Commons 1.0 Universal (Public Domain Dedication)'}, 'permalink': 'https://www.dati.lombardia.it/d/647i-nhxk', 'link': 'https://www.dati.lombardia.it/Ambiente/Dati-sensori-meteo/647i-nhxk', 'owner': {'id': '5k5n-vjak', 'user_type': 'interactive', 'display_name': 'ARPA LOMBARDIA'}, 'creator': {'id': '5k5n-vjak', 'user_type': 'interactive', 'display_name': 'ARPA LOMBARDIA'}}\n",
      "{'resource': {'name': 'Dati sensori meteo', 'id': 'i95f-5avh', 'parent_fxf': ['647i-nhxk'], 'description': 'Dati rilevati ogni ora da sensori Meteo in campo', 'attribution': 'ARPA - Regione Lombardia', 'attribution_link': 'http://www.arpalombardia.it/siti/arpalombardia/meteo/richiesta-dati-misurati/Pagine/RichiestaDatiMisurati.aspx', 'contact_email': None, 'type': 'filter', 'updatedAt': '2022-09-21T05:20:57.000Z', 'createdAt': '2014-04-01T15:19:26.000Z', 'metadata_updated_at': '2020-05-11T08:39:25.000Z', 'data_updated_at': '2022-09-21T05:20:57.000Z', 'page_views': {'page_views_last_week': 7, 'page_views_last_month': 28, 'page_views_total': 3799, 'page_views_last_week_log': 3.0, 'page_views_last_month_log': 4.857980995127573, 'page_views_total_log': 11.89178370321831}, 'columns_name': ['Data', 'Valore', 'Stato', 'IdSensore', 'idOperatore'], 'columns_field_name': ['data', 'valore', 'stato', 'idsensore', 'idoperatore'], 'columns_datatype': ['Calendar date', 'Number', 'Text', 'Text', 'Text'], 'columns_description': ['', 'LEGENDA:\\n-9999 = dato mancante\\n888, 8888 = direzione vento variabile\\n777, 7777 = calma (solo per direzione di vento)\\n', 'LEGENDA:\\nVA, VV = dato valido\\nNA, NV, NC = dato invalido\\nNI = dato incerto\\nND = dato non disponibile', '', 'LEGENDA:\\n1: Valore medio\\n3: Valore massimo\\n4: Valore cumulato (per la pioggia)\\n\\n \\n'], 'columns_format': [{}, {}, {}, {}, {'displayStyle': 'plain', 'align': 'left'}], 'download_count': 4772, 'provenance': 'official', 'lens_view_type': 'tabular', 'lens_display_type': 'table', 'blob_mime_type': None, 'hide_from_data_json': False, 'publication_date': '2015-10-16T13:44:32.000Z'}, 'classification': {'categories': [], 'tags': [], 'domain_category': 'Ambiente', 'domain_tags': ['meteo', 'arpa', 'sensori'], 'domain_metadata': [{'key': 'Dettagli_Direzione', 'value': 'Ambiente, energia e sviluppo sostenibile'}, {'key': 'Frequenza-di-aggiornamento_Frequenza', 'value': 'Tempo reale'}, {'key': 'Frequenza-di-aggiornamento_Data-ultima-modifica', 'value': '22/5/14'}]}, 'metadata': {'domain': 'www.dati.lombardia.it', 'license': 'Creative Commons 1.0 Universal (Public Domain Dedication)'}, 'permalink': 'https://www.dati.lombardia.it/d/i95f-5avh', 'link': 'https://www.dati.lombardia.it/Ambiente/Dati-sensori-meteo/i95f-5avh', 'owner': {'id': '7pvs-5xuu', 'user_type': 'interactive', 'display_name': 'Regione Lombardia'}, 'creator': {'id': '7pvs-5xuu', 'user_type': 'interactive', 'display_name': 'Regione Lombardia'}}\n"
     ]
    }
   ],
   "source": [
    "for d in datasetsList:\n",
    "    if d['resource']['name'] == 'Dati sensori meteo':\n",
    "        print(d)"
   ]
  },
  {
   "cell_type": "code",
   "execution_count": 109,
   "id": "74048a09-548d-44a4-9246-ff621b4e3bae",
   "metadata": {},
   "outputs": [
    {
     "data": {
      "text/plain": [
       "{'domain': 'www.dati.lombardia.it',\n",
       " 'session': <requests.sessions.Session at 0x7fded96be128>,\n",
       " 'uri_prefix': 'https://',\n",
       " 'timeout': 10}"
      ]
     },
     "execution_count": 109,
     "metadata": {},
     "output_type": "execute_result"
    }
   ],
   "source": [
    "client.__dict__"
   ]
  },
  {
   "cell_type": "code",
   "execution_count": 110,
   "id": "584041b0-e8b2-4678-88ee-dfc7cdfc2fcb",
   "metadata": {},
   "outputs": [
    {
     "ename": "HTTPError",
     "evalue": "403 Client Error: Forbidden.\n\tInvalid app_token specified",
     "output_type": "error",
     "traceback": [
      "\u001b[0;31m---------------------------------------------------------------------------\u001b[0m",
      "\u001b[0;31mHTTPError\u001b[0m                                 Traceback (most recent call last)",
      "\u001b[0;32m<ipython-input-110-dd7142207c67>\u001b[0m in \u001b[0;36m<module>\u001b[0;34m\u001b[0m\n\u001b[0;32m----> 1\u001b[0;31m \u001b[0mmeteoStations\u001b[0m \u001b[0;34m=\u001b[0m \u001b[0mclient\u001b[0m\u001b[0;34m.\u001b[0m\u001b[0mget_metadata\u001b[0m\u001b[0;34m(\u001b[0m\u001b[0;34m'647i-nhxk'\u001b[0m\u001b[0;34m)\u001b[0m\u001b[0;34m\u001b[0m\u001b[0;34m\u001b[0m\u001b[0m\n\u001b[0m",
      "\u001b[0;32m~/miniconda3/envs/snapEnv/lib/python3.6/site-packages/sodapy/socrata.py\u001b[0m in \u001b[0;36mget_metadata\u001b[0;34m(self, dataset_identifier, content_type)\u001b[0m\n\u001b[1;32m    296\u001b[0m             \u001b[0mdataid\u001b[0m\u001b[0;34m=\u001b[0m\u001b[0mdataset_identifier\u001b[0m\u001b[0;34m,\u001b[0m \u001b[0mcontent_type\u001b[0m\u001b[0;34m=\u001b[0m\u001b[0mcontent_type\u001b[0m\u001b[0;34m\u001b[0m\u001b[0;34m\u001b[0m\u001b[0m\n\u001b[1;32m    297\u001b[0m         )\n\u001b[0;32m--> 298\u001b[0;31m         \u001b[0;32mreturn\u001b[0m \u001b[0mself\u001b[0m\u001b[0;34m.\u001b[0m\u001b[0m_perform_request\u001b[0m\u001b[0;34m(\u001b[0m\u001b[0;34m\"get\"\u001b[0m\u001b[0;34m,\u001b[0m \u001b[0mresource\u001b[0m\u001b[0;34m)\u001b[0m\u001b[0;34m\u001b[0m\u001b[0;34m\u001b[0m\u001b[0m\n\u001b[0m\u001b[1;32m    299\u001b[0m \u001b[0;34m\u001b[0m\u001b[0m\n\u001b[1;32m    300\u001b[0m     \u001b[0;32mdef\u001b[0m \u001b[0mupdate_metadata\u001b[0m\u001b[0;34m(\u001b[0m\u001b[0mself\u001b[0m\u001b[0;34m,\u001b[0m \u001b[0mdataset_identifier\u001b[0m\u001b[0;34m,\u001b[0m \u001b[0mupdate_fields\u001b[0m\u001b[0;34m,\u001b[0m \u001b[0mcontent_type\u001b[0m\u001b[0;34m=\u001b[0m\u001b[0;34m\"json\"\u001b[0m\u001b[0;34m)\u001b[0m\u001b[0;34m:\u001b[0m\u001b[0;34m\u001b[0m\u001b[0;34m\u001b[0m\u001b[0m\n",
      "\u001b[0;32m~/miniconda3/envs/snapEnv/lib/python3.6/site-packages/sodapy/socrata.py\u001b[0m in \u001b[0;36m_perform_request\u001b[0;34m(self, request_type, resource, **kwargs)\u001b[0m\n\u001b[1;32m    553\u001b[0m         \u001b[0;31m# handle errors\u001b[0m\u001b[0;34m\u001b[0m\u001b[0;34m\u001b[0m\u001b[0;34m\u001b[0m\u001b[0m\n\u001b[1;32m    554\u001b[0m         \u001b[0;32mif\u001b[0m \u001b[0mresponse\u001b[0m\u001b[0;34m.\u001b[0m\u001b[0mstatus_code\u001b[0m \u001b[0;32mnot\u001b[0m \u001b[0;32min\u001b[0m \u001b[0;34m(\u001b[0m\u001b[0;36m200\u001b[0m\u001b[0;34m,\u001b[0m \u001b[0;36m202\u001b[0m\u001b[0;34m)\u001b[0m\u001b[0;34m:\u001b[0m\u001b[0;34m\u001b[0m\u001b[0;34m\u001b[0m\u001b[0m\n\u001b[0;32m--> 555\u001b[0;31m             \u001b[0mutils\u001b[0m\u001b[0;34m.\u001b[0m\u001b[0mraise_for_status\u001b[0m\u001b[0;34m(\u001b[0m\u001b[0mresponse\u001b[0m\u001b[0;34m)\u001b[0m\u001b[0;34m\u001b[0m\u001b[0;34m\u001b[0m\u001b[0m\n\u001b[0m\u001b[1;32m    556\u001b[0m \u001b[0;34m\u001b[0m\u001b[0m\n\u001b[1;32m    557\u001b[0m         \u001b[0;31m# when responses have no content body (ie. delete, set_permission),\u001b[0m\u001b[0;34m\u001b[0m\u001b[0;34m\u001b[0m\u001b[0;34m\u001b[0m\u001b[0m\n",
      "\u001b[0;32m~/miniconda3/envs/snapEnv/lib/python3.6/site-packages/sodapy/utils.py\u001b[0m in \u001b[0;36mraise_for_status\u001b[0;34m(response)\u001b[0m\n\u001b[1;32m     28\u001b[0m         \u001b[0;32mif\u001b[0m \u001b[0mmore_info\u001b[0m \u001b[0;32mand\u001b[0m \u001b[0mmore_info\u001b[0m\u001b[0;34m.\u001b[0m\u001b[0mlower\u001b[0m\u001b[0;34m(\u001b[0m\u001b[0;34m)\u001b[0m \u001b[0;34m!=\u001b[0m \u001b[0mresponse\u001b[0m\u001b[0;34m.\u001b[0m\u001b[0mreason\u001b[0m\u001b[0;34m.\u001b[0m\u001b[0mlower\u001b[0m\u001b[0;34m(\u001b[0m\u001b[0;34m)\u001b[0m\u001b[0;34m:\u001b[0m\u001b[0;34m\u001b[0m\u001b[0;34m\u001b[0m\u001b[0m\n\u001b[1;32m     29\u001b[0m             \u001b[0mhttp_error_msg\u001b[0m \u001b[0;34m+=\u001b[0m \u001b[0;34m\".\\n\\t{}\"\u001b[0m\u001b[0;34m.\u001b[0m\u001b[0mformat\u001b[0m\u001b[0;34m(\u001b[0m\u001b[0mmore_info\u001b[0m\u001b[0;34m)\u001b[0m\u001b[0;34m\u001b[0m\u001b[0;34m\u001b[0m\u001b[0m\n\u001b[0;32m---> 30\u001b[0;31m         \u001b[0;32mraise\u001b[0m \u001b[0mrequests\u001b[0m\u001b[0;34m.\u001b[0m\u001b[0mexceptions\u001b[0m\u001b[0;34m.\u001b[0m\u001b[0mHTTPError\u001b[0m\u001b[0;34m(\u001b[0m\u001b[0mhttp_error_msg\u001b[0m\u001b[0;34m,\u001b[0m \u001b[0mresponse\u001b[0m\u001b[0;34m=\u001b[0m\u001b[0mresponse\u001b[0m\u001b[0;34m)\u001b[0m\u001b[0;34m\u001b[0m\u001b[0;34m\u001b[0m\u001b[0m\n\u001b[0m\u001b[1;32m     31\u001b[0m \u001b[0;34m\u001b[0m\u001b[0m\n\u001b[1;32m     32\u001b[0m \u001b[0;34m\u001b[0m\u001b[0m\n",
      "\u001b[0;31mHTTPError\u001b[0m: 403 Client Error: Forbidden.\n\tInvalid app_token specified"
     ]
    }
   ],
   "source": [
    "meteoStations = client.get_metadata('647i-nhxk')"
   ]
  },
  {
   "cell_type": "code",
   "execution_count": null,
   "id": "477da4a3-887b-47be-a896-e909903b9e47",
   "metadata": {},
   "outputs": [],
   "source": []
  }
 ],
 "metadata": {
  "kernelspec": {
   "display_name": "snapEnv (Python)",
   "language": "python",
   "name": "snapenv"
  },
  "language_info": {
   "codemirror_mode": {
    "name": "ipython",
    "version": 3
   },
   "file_extension": ".py",
   "mimetype": "text/x-python",
   "name": "python",
   "nbconvert_exporter": "python",
   "pygments_lexer": "ipython3",
   "version": "3.6.15"
  }
 },
 "nbformat": 4,
 "nbformat_minor": 5
}
