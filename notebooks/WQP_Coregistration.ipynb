{
 "cells": [
  {
   "cell_type": "markdown",
   "metadata": {
    "tags": []
   },
   "source": [
    "# Water Quality Parameters Maps (CHL, TSM) - Coregistration\n",
    "\n",
    "In this notebook, particular attention is devoted to the coregistration of the WPQ maps derived from the Sentinel-3 images. This step is important for further steps to guarantee the alignment of the maps."
   ]
  },
  {
   "cell_type": "code",
   "execution_count": null,
   "metadata": {},
   "outputs": [],
   "source": [
    "# Styling notebook\n",
    "\n",
    "# System\n",
    "import os\n",
    "import sys\n",
    "\n",
    "# Import scripts libraries for the project\n",
    "sys.path.append('./src/python')\n",
    "\n",
    "# Import the function to update the notebook style\n",
    "from nbConfig import (css_styling)\n",
    "\n",
    "css_styling()"
   ]
  },
  {
   "cell_type": "markdown",
   "metadata": {},
   "source": [
    "## 0. Import libraries"
   ]
  },
  {
   "cell_type": "markdown",
   "metadata": {},
   "source": [
    "Import the required libraries and setup the current working directories."
   ]
  },
  {
   "cell_type": "code",
   "execution_count": null,
   "metadata": {},
   "outputs": [],
   "source": [
    "# Data\n",
    "import numpy as np\n",
    "import pandas as pd\n",
    "\n",
    "# Spatial Data\n",
    "import geopandas as gpd\n",
    "import rasterio\n",
    "from rasterstats import zonal_stats\n",
    "import richdem as rd\n",
    "\n",
    "# Data visualization\n",
    "import matplotlib.pyplot as plt\n",
    "from rasterio.plot import show_hist\n",
    "\n",
    "# Import custom libraries\n",
    "import wqpFunctions as wqp"
   ]
  },
  {
   "cell_type": "code",
   "execution_count": null,
   "metadata": {},
   "outputs": [],
   "source": [
    "# Current Working Directories\n",
    "cwd = {\n",
    "    'local': '.',\n",
    "    'in': './in/wqp/S3',\n",
    "    'out': './out/image_coregistration',\n",
    "    'vector': './vector',\n",
    "}"
   ]
  },
  {
   "cell_type": "markdown",
   "metadata": {},
   "source": [
    "To ensure finding the best fit to the lakes coregistration from shifts, and possible distorsions, the coregistration method has been applied separately to each of the lakes."
   ]
  },
  {
   "cell_type": "code",
   "execution_count": null,
   "metadata": {},
   "outputs": [],
   "source": [
    "# Lakes shapes and mask\n",
    "featureLakes = os.path.join(cwd['vector'],'simile_laghi/simile_laghi.shp')\n",
    "featureGeometry = os.path.join(cwd['vector'],'simile_laghi_extent/simile_laghi_extent_600m_buff.shp')\n",
    "featureBoxes = os.path.join(cwd['vector'],'simile_laghi_bboxes/simile_laghi_bboxes.shp')\n",
    "# DataFrame of the lakes and mask\n",
    "gdf_maskWQP = gpd.read_file(featureGeometry)\n",
    "gdf_lakesWQP = gpd.read_file(featureLakes)\n",
    "gdf_bboxesWQP = gpd.read_file(featureBoxes)\n",
    "# Visualization of the lakes and mask\n",
    "fig, ax = plt.subplots(figsize=(10, 10))\n",
    "gdf_maskWQP.plot(ax = ax, color='white',edgecolor='k', alpha=1)\n",
    "gdf_bboxesWQP.plot(ax = ax, color='red',edgecolor='k', alpha=0.3)\n",
    "gdf_lakesWQP.plot(column='Nome', ax = ax ,edgecolor='k', alpha=0.7, legend=True)\n",
    "ax.grid()\n",
    "ax.set_title('Lakes shape and mask for data processing')"
   ]
  },
  {
   "cell_type": "markdown",
   "metadata": {},
   "source": [
    "## 1. Coregistration"
   ]
  },
  {
   "cell_type": "markdown",
   "metadata": {},
   "source": [
    "### 1.1. Images subsets - Radiance Reference Band - Slope"
   ]
  },
  {
   "cell_type": "markdown",
   "metadata": {},
   "source": [
    "Master Image"
   ]
  },
  {
   "cell_type": "markdown",
   "metadata": {},
   "source": [
    "Make sure to create a folder for each lake under the `./out/image_coregistration/master/slope_oa/partial`. The folders must follow the same naming which has been provided for the imported vector features (e.g. matching the records for the *'Nome'* attribute)"
   ]
  },
  {
   "cell_type": "code",
   "execution_count": null,
   "metadata": {},
   "outputs": [],
   "source": [
    "# Define the reference (master) raster for the corregistration algorithm\n",
    "# master_name = 'S3A_IT_20190315T094218_L1'\n",
    "master_name = 'S3A_IT_20220911T100113_L1'\n",
    "oa_bands_master =  os.path.join(cwd['in'],'oa',master_name +'.tif')\n",
    "master = wqp.wqp(oa_bands_master)\n",
    "master.readWQP()\n",
    "# Mask layer for creating he subsets\n",
    "featureGeometry = './vector/simile_laghi_extent/simile_laghi_extent_600m_buff.shp'\n",
    "# Cropped master raster\n",
    "master.cropRasterByFeatures(featureGeometry,'Nome')\n",
    "# Export masked master dataset\n",
    "out_path_master = os.path.join(cwd['out'],'master','oa')\n",
    "master.saveMaskedImage(os.path.join(out_path_master,'full',master.name+'_Oa_18.tif'),'wqp',band=18)\n",
    "# Generate the slope layer for the master dataset\n",
    "rd_master = rd.LoadGDAL(os.path.join(out_path_master,'full',master.name+'_Oa_18.tif'), no_data=0)\n",
    "slope_master = rd.TerrainAttribute(rd_master, attrib='slope_riserun')\n",
    "# Save the computed slope dataset\n",
    "out_path_master_slope = os.path.join(cwd['out'],'master','slope_oa')\n",
    "rd.SaveGDAL(os.path.join(out_path_master_slope,'full',master.name+'_Oa_18.tif'), slope_master)\n",
    "# Read Reference Band Slope - Crop the slope estimates in the different lakes\n",
    "slope_master = wqp.wqp(os.path.join(out_path_master_slope,'full',master_name+'_Oa_18.tif'))\n",
    "slope_master.readWQP()\n",
    "slope_master.cropRasterByFeatures(featureLakes, 'Nome')\n",
    "for nameFeature in list(gdf_bboxesWQP.Nome):\n",
    "    out_path = os.path.join(cwd['out'],'master','slope_oa','partial','{}/{}'.format(nameFeature,master_name+'_Oa_18.tif'))\n",
    "    slope_master.saveMaskedImage(out_path,nameFeature, band=1)"
   ]
  },
  {
   "cell_type": "code",
   "execution_count": null,
   "metadata": {},
   "outputs": [],
   "source": [
    "fig, ax = plt.subplots(1,1, figsize=(10,10))\n",
    "ax = rasterio.plot.show((master.image, 1), ax=ax, cmap='viridis')\n",
    "ax.set_title('Master Band for Coregistraton - {}'.format(master_name))"
   ]
  },
  {
   "cell_type": "markdown",
   "metadata": {},
   "source": [
    "Slave images"
   ]
  },
  {
   "cell_type": "code",
   "execution_count": null,
   "metadata": {},
   "outputs": [],
   "source": [
    "#TODO: estimate only for the missing datasets in the folder\n",
    "\n",
    "# Output folder for the slave image\n",
    "out_path_slave = os.path.join(cwd['out'],'slave','oa')\n",
    "out_path_slave_slope = os.path.join(cwd['out'],'slave','slope_oa')\n",
    "# Apply the mask to the coregistered (slave) images\n",
    "for root, dirs, files in os.walk(os.path.join(cwd['in'],'oa')):\n",
    "    for f in files:\n",
    "        if (f.endswith('.tif')):\n",
    "            oa_bands_slave = os.path.join(root,f)\n",
    "            slave = wqp.wqp(oa_bands_slave)\n",
    "            slave.readWQP()\n",
    "            slave.cropRasterByFeatures(featureGeometry,'Nome')\n",
    "            slave.saveMaskedImage(os.path.join(out_path_slave,'full',slave.name+'_Oa_18.tif'),'wqp',band=18)\n",
    "            rd_slave = rd.LoadGDAL(os.path.join(out_path_slave,'full',slave.name+'_Oa_18.tif'), no_data=0)\n",
    "            slope_slave = rd.TerrainAttribute(rd_slave, attrib='slope_riserun')\n",
    "            rd.SaveGDAL(os.path.join(out_path_slave_slope,'full',slave.name+'_Oa_18.tif'), slope_slave)\n",
    "            try:\n",
    "                for nameFeature in list(gdf_bboxesWQP.Nome):\n",
    "                    slope_slave = wqp.wqp(os.path.join(out_path_slave_slope,'full',slave.name+'_Oa_18.tif'))\n",
    "                    slope_slave.readWQP()\n",
    "                    slope_slave.cropRasterByFeatures(featureLakes, 'Nome')\n",
    "                    out_path = os.path.join(out_path_slave_slope,'partial',nameFeature,slave.name+'_Oa_18.tif')\n",
    "                    slope_slave.saveMaskedImage(out_path,nameFeature, band=1)\n",
    "                    print(out_path)\n",
    "            except:\n",
    "                print(slave.name,': ', nameFeature + ', slope has not been computed')"
   ]
  },
  {
   "cell_type": "markdown",
   "metadata": {},
   "source": [
    "### 1.3. Subset WQP - sample maps"
   ]
  },
  {
   "cell_type": "markdown",
   "metadata": {},
   "source": [
    "In order to perform the coregistration, it is needed to input the reference and coregistered images with the same dimensions. For this reason, and intermediate step previous to the coregistration is to subset the WQP images with the same bounding boxes. The images subsets target each of the lakes in order to apply the coregistration separately."
   ]
  },
  {
   "cell_type": "code",
   "execution_count": null,
   "metadata": {
    "scrolled": true
   },
   "outputs": [],
   "source": [
    "# Output folder for the slave image\n",
    "in_path = './in/wqp/S3/rrs_copy'\n",
    "out_path = './in/wqp/S3/rrs_copy/cropped'\n",
    "sensor = 'S3'\n",
    "shared_maps = list(set(os.listdir(in_path)).intersection(os.listdir(out_path)))\n",
    "missing_maps = list(set(os.listdir(in_path)) ^ set(os.listdir(out_path)))\n",
    "print((missing_maps))\n",
    "# Apply the mask to the coregistered (slave) images\n",
    "for root, dirs, files in os.walk(in_path):\n",
    "    for f in missing_maps:\n",
    "        if ((f.endswith('.tif')) & (dirs == ['cropped'])):\n",
    "            try:\n",
    "                chl_map = os.path.join(in_path,f)\n",
    "                wqp_map = wqp.wqp(chl_map)\n",
    "                wqp_map.readWQP()\n",
    "                wqp_map.cropRasterByFeatures(featureGeometry,'Nome')\n",
    "                wqp_map.saveMaskedImage(os.path.join(out_path,f),'wqp',band=1)\n",
    "                wqp_map.image.close()\n",
    "            except:\n",
    "                print('f')\n",
    "                # # Open a file with access mode 'a'\n",
    "                # file_object = open(os.path.join('./in/data\\wqp/L8/wqp_high_clouds/lswt/cropped',f'error_images_{sensor}.txt'), 'a')\n",
    "                # # Append 'hello' at the end of file\n",
    "                # file_object.write(wqp_map.name)\n",
    "                # file_object.write(\"\\n\")\n",
    "                # # Close the file\n",
    "                # file_object.close()"
   ]
  },
  {
   "cell_type": "code",
   "execution_count": null,
   "metadata": {},
   "outputs": [],
   "source": [
    "a = os.listdir('./in/data/wqp/S3/wqp_no_clip/tsm')[-1]\n",
    "print(a.split('_')[3])\n",
    "any(a.split('_')[3] in s for s in os.listdir('./out/Coregistration/wqp/S3/full/tsm'))"
   ]
  },
  {
   "cell_type": "markdown",
   "metadata": {},
   "source": [
    "Chlorophyll-a and Total Suspended Matter Maps subset. "
   ]
  },
  {
   "cell_type": "code",
   "execution_count": null,
   "metadata": {},
   "outputs": [],
   "source": [
    "# Output folder for the slave image\n",
    "wqps = ['chl','tsm']\n",
    "out_path_crop_full = os.path.join(cwd['out'],'wqp', 'full')\n",
    "out_path_crop_partial = os.path.join(cwd['out'],'wqp', 'partial')\n",
    "# Apply the mask to the coregistered (slave) images\n",
    "for wmap in wqps:\n",
    "    wqp_path = os.path.join(cwd['in'],'wqp',wmap)\n",
    "    for root, dirs, files in os.walk(wqp_path):\n",
    "        for f in files:\n",
    "            a = os.listdir(wqp_path)\n",
    "            if ((f.endswith('.tif'))):\n",
    "                w_map = os.path.join(root,f)\n",
    "                wqp_map = wqp.wqp(w_map)\n",
    "                wqp_map.readWQP()\n",
    "                wqp_map.cropRasterByFeatures(featureGeometry,'Nome')\n",
    "                wqp_map.saveMaskedImage(os.path.join(out_path_crop_full,wmap,wqp_map.name+'.tif'),'wqp',band=1)\n",
    "                wqp_map.cropRasterByFeatures(featureBoxes,'Nome')\n",
    "                for nameFeature in list(gdf_bboxesWQP.Nome):\n",
    "                    try:\n",
    "                        wqp_map.saveMaskedImage(os.path.join(out_path_crop_partial, wmap,nameFeature,wqp_map.name+'.tif'),nameFeature,band=1)\n",
    "                    except:\n",
    "                        print(f,':',nameFeature)"
   ]
  },
  {
   "cell_type": "markdown",
   "metadata": {},
   "source": [
    "### 1.4. Image coregistration"
   ]
  },
  {
   "cell_type": "markdown",
   "metadata": {},
   "source": [
    "Data Visualization and Analysis"
   ]
  },
  {
   "cell_type": "code",
   "execution_count": null,
   "metadata": {},
   "outputs": [],
   "source": [
    "import numpy as np\n",
    "from skimage.io import imread\n",
    "import pylab as pl"
   ]
  },
  {
   "cell_type": "markdown",
   "metadata": {},
   "source": [
    "Flow computation"
   ]
  },
  {
   "cell_type": "code",
   "execution_count": null,
   "metadata": {},
   "outputs": [],
   "source": [
    "sys.path.append('./src/python/gefolki/python')\n",
    "from algorithm import EFolki\n",
    "from tools import wrapData"
   ]
  },
  {
   "cell_type": "code",
   "execution_count": null,
   "metadata": {},
   "outputs": [],
   "source": [
    "def saveMaskedImage(out_path,in_file,data,transf):\n",
    "    with rasterio.open(in_file) as src:\n",
    "        profile = src.profile.copy()\n",
    "        profile.update({\n",
    "                'dtype': 'float32',\n",
    "                'height': data.shape[0],\n",
    "                'width': data.shape[1],\n",
    "                'transform': transf\n",
    "         })  \n",
    "\n",
    "    with rasterio.open(out_path, 'w', **profile) as dst:\n",
    "        data[data<=0] = np.nan\n",
    "        dst.write_band(1, data)"
   ]
  },
  {
   "cell_type": "code",
   "execution_count": null,
   "metadata": {
    "scrolled": true
   },
   "outputs": [],
   "source": [
    "from rasterio.merge import merge\n",
    "wqps = ['chl','tsm']\n",
    "for wmap in wqps:\n",
    "    in_path_master = './out/image_coregistration/master/slope_oa/partial'\n",
    "    in_path_slave = './out/image_coregistration/slave/slope_oa/partial'\n",
    "    in_path_wqp = f'./out/image_coregistration/wqp/partial/{wmap}'\n",
    "    in_path_wqp_slope = f'./out/image_coregistration/master/slope_oa/full'\n",
    "    out_path_wqp = f'./out/image_coregistration/wqp/partial_coregistered/{wmap}'\n",
    "    out_path_coregistered = f'./out/image_coregistration/wqp/full_coregistered/{wmap}'\n",
    "    typology = wmap.upper()\n",
    "    # Image coregistration\n",
    "    for root, dirs, files in os.walk('./out/image_coregistration/slave/slope_oa/full'):\n",
    "        for f in files:\n",
    "            print(f)\n",
    "            if (f.endswith('.tif') and (any(f.split('_')[2] in s for s in os.listdir(f'./out/image_coregistration/wqp/full_coregistered/{wmap}')))==False):\n",
    "                raster_collection = dict()\n",
    "                for nameFeature in list(gdf_bboxesWQP.Nome):\n",
    "                    try:\n",
    "                        # Determine the paths to the partial rasters (crop per lake)\n",
    "                        master_path = os.path.join(in_path_master,nameFeature,master.name+'_Oa_18.tif')\n",
    "                        slave_path = os.path.join(in_path_slave,nameFeature,f)\n",
    "                        s_n = f.split('_')[:-2]\n",
    "                        s_n.insert(1,typology)\n",
    "                        slave_name_wqp = '_'.join(s_n)+'.tif'\n",
    "                        wqp_path = os.path.join(in_path_wqp,nameFeature,slave_name_wqp)\n",
    "                        # Read the images\n",
    "                        master_im = imread(master_path)\n",
    "                        slave_im = imread(slave_path)\n",
    "                        wqp_map = imread(wqp_path)\n",
    "                        # Read shape of the maser raster (fix width and height of the rasters for the coregistered images following the reference band)\n",
    "                        master_width = master_im.shape[0]\n",
    "                        master_height = master_im.shape[1]\n",
    "                        # Remove the nan values (GeFolki processing requirement)\n",
    "                        master_im = master_im.astype(np.float32)\n",
    "                        slave_im = slave_im.astype(np.float32)\n",
    "                        wqp_map = wqp_map.astype(np.float32)\n",
    "                        master_im = np.nan_to_num(master_im[:master_width-1,:master_height-1], copy=True, nan=0.0, posinf=None, neginf=None)\n",
    "                        slave_im = np.nan_to_num(slave_im[:master_width-1,:master_height-1], copy=True, nan=0.0, posinf=None, neginf=None)\n",
    "                        # Flow computation\n",
    "                        u, v = EFolki(master_im, slave_im, iteration=4, radius=[32,28,20,16,8], rank=4, levels=2)\n",
    "                        # Resampling and final result\n",
    "                        WQPrecalee = wrapData(wqp_map[:master_width-1,:master_height-1], u, v)\n",
    "                        # Export partial datasets\n",
    "                        # Import the sample dataset master - Reference coregistration band\n",
    "                        src_master = wqp.wqp(master_path)\n",
    "                        src_master.readWQP()\n",
    "                        # Save the coregistered WQP map\n",
    "                        src_master.writeWQP(os.path.join(out_path_wqp,nameFeature,wqp_path.split('/')[-1]),WQPrecalee)\n",
    "\n",
    "                        # Merge data\n",
    "                        raster_collection[nameFeature] = src_master.create_dataset(WQPrecalee,src_master.image.profile['transform'])\n",
    "                    except:\n",
    "                        print(f,': ', nameFeature, 'CHECK!')\n",
    "\n",
    "                wqp_map = wqp.wqp(os.path.join(in_path_wqp_slope,master_name+'_Oa_18.tif'))\n",
    "                wqp_map.readWQP()\n",
    "                if (len(raster_collection)>0):\n",
    "                    raster_col_lst = []\n",
    "                    for x in ['Lugano','Como','Maggiore']:\n",
    "                        if x in list(raster_collection.keys()):\n",
    "                            raster_col_lst.append(raster_collection[x])\n",
    "                    merged, transf = merge(raster_col_lst)\n",
    "                    merged[0][merged[0]<=0]=0\n",
    "                    saveMaskedImage(os.path.join(out_path_coregistered,slave_name_wqp),wqp_map.path,merged[0],transf)"
   ]
  },
  {
   "cell_type": "code",
   "execution_count": null,
   "metadata": {},
   "outputs": [],
   "source": []
  },
  {
   "cell_type": "code",
   "execution_count": null,
   "metadata": {},
   "outputs": [],
   "source": []
  }
 ],
 "metadata": {
  "kernelspec": {
   "display_name": "snapEnv (Python)",
   "language": "python",
   "name": "snapenv"
  },
  "language_info": {
   "codemirror_mode": {
    "name": "ipython",
    "version": 3
   },
   "file_extension": ".py",
   "mimetype": "text/x-python",
   "name": "python",
   "nbconvert_exporter": "python",
   "pygments_lexer": "ipython3",
   "version": "3.6.15"
  }
 },
 "nbformat": 4,
 "nbformat_minor": 4
}
