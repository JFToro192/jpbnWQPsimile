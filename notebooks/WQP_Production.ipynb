{
 "cells": [
  {
   "cell_type": "markdown",
   "metadata": {},
   "source": [
    "# Water Quality Parameters Maps - Production"
   ]
  },
  {
   "cell_type": "markdown",
   "metadata": {},
   "source": [
    "Import the necessary packages to run the processing of the files."
   ]
  },
  {
   "cell_type": "code",
   "execution_count": 1,
   "metadata": {},
   "outputs": [
    {
     "data": {
      "text/html": [
       "<style>\n",
       "/* Config settings*/\n",
       "@import url(https://fonts.googleapis.com/css?family=Open+Sans);\n",
       "body{\n",
       "   font-family: 'Open Sans';\n",
       "}\n",
       "\n",
       "/* Styling the Jupyter Notebook GUI*/\n",
       "#ipython_notebook::before{\n",
       "    content:\"\"\n",
       "   }\n",
       "\n",
       "/* #ipython_notebook img{\n",
       "display:none;\n",
       "} */\n",
       "\n",
       "/*Styling the elements in the Jupyter Notebook*/\n",
       "h1 {\n",
       "    color: white;\n",
       "    border: 1.5px solid rgb(46, 96, 177);\n",
       "    padding: 8px 12px;\n",
       "    background: rgba(37, 107, 182, 0.5);\n",
       "    position: static;\n",
       "}\n",
       "\n",
       "h2 {\n",
       "    color: white;\n",
       "    border: 1.5px solid rgb(46, 170, 177);\n",
       "    padding: 8px 12px;\n",
       "    background: rgba(46, 170, 177, 0.5);\n",
       "    position: static;\n",
       "}\n",
       "\n",
       "h3 {\n",
       "    color: white;\n",
       "    border: 1.5px solid rgb(192, 119, 255);\n",
       "    padding: 8px 12px;\n",
       "    background: rgba(170, 74, 255, 0.5);\n",
       "    position: static;\n",
       "}\n",
       "\n",
       ".note {\n",
       "    background-color: rgba(0, 255, 162, 0.503);\n",
       "}\n",
       "\n",
       ".warning {\n",
       "    background-color: rgba(246, 255, 0, 0.503);\n",
       "}\n",
       "\n",
       ".important {\n",
       "    background-color: rgba(255, 187, 0, 0.503);\n",
       "}\n",
       "\n",
       "\n",
       "</style>"
      ],
      "text/plain": [
       "<IPython.core.display.HTML object>"
      ]
     },
     "execution_count": 1,
     "metadata": {},
     "output_type": "execute_result"
    }
   ],
   "source": [
    "# Styling notebook\n",
    "\n",
    "# System\n",
    "import os\n",
    "import sys\n",
    "\n",
    "# Import scripts libraries for the project\n",
    "sys.path.append('./src/python')\n",
    "\n",
    "# Import the function to update the notebook style\n",
    "from nbConfig import (css_styling)\n",
    "\n",
    "css_styling()"
   ]
  },
  {
   "cell_type": "markdown",
   "metadata": {},
   "source": [
    "## 0. Import WQP maps production library"
   ]
  },
  {
   "cell_type": "markdown",
   "metadata": {},
   "source": [
    "Import the SNAP-py library and function parameters files for the processing of the WQPs maps."
   ]
  },
  {
   "cell_type": "code",
   "execution_count": 2,
   "metadata": {},
   "outputs": [],
   "source": [
    "import pandas as pd\n",
    "import ipywidgets as wg\n",
    "import wqpSNAPparams_S3 as wqpParams_S3\n",
    "import wqpSNAPparams_L8 as wqpParams_L8\n",
    "import wqpSNAPparams_EUMETSAT as wqpParams_EUMETSAT\n",
    "import wqpSNAPFunctions as wqpSNAP"
   ]
  },
  {
   "cell_type": "markdown",
   "metadata": {},
   "source": [
    "Select the collection of interest for the processing of the data.\n",
    "\n",
    "**Note:** Make sure to have uploaded the files of the satellite imagery in the respective folder for the processing.\n",
    "\n",
    "- Sentinel-3 A/B: `'./in/data/satellite_imagery/S3'`\n",
    "- Landsat-8: `'./in/data/satellite_imagery/L8'`\n",
    "- EUMETSAT: `'./in/data/satellite_imagery/EUMETSAT'`\n",
    "\n",
    "Each product must be uncompressed and stored in an independent folder"
   ]
  },
  {
   "cell_type": "code",
   "execution_count": 3,
   "metadata": {},
   "outputs": [],
   "source": [
    "SENSOR_LIST = ['S3','L8','EUMETSAT']\n",
    "# SENSOR_LIST = ['S3','L8']\n",
    "sensor = wg.Select(\n",
    "    options = SENSOR_LIST,\n",
    "    value = SENSOR_LIST[0],\n",
    "    description = 'Select the sensor:',\n",
    "    disabled = False,\n",
    "    style = {\n",
    "        'description_width': 'auto'\n",
    "    },\n",
    "    layout = wg.Layout(width='50%', height='100px'),\n",
    ")"
   ]
  },
  {
   "cell_type": "code",
   "execution_count": 5,
   "metadata": {},
   "outputs": [
    {
     "data": {
      "application/vnd.jupyter.widget-view+json": {
       "model_id": "ba25758289a749f4828f3c514e047909",
       "version_major": 2,
       "version_minor": 0
      },
      "text/plain": [
       "Select(description='Select the sensor:', index=1, layout=Layout(height='100px', width='50%'), options=('S3', '…"
      ]
     },
     "metadata": {},
     "output_type": "display_data"
    }
   ],
   "source": [
    "sensor"
   ]
  },
  {
   "cell_type": "code",
   "execution_count": 6,
   "metadata": {},
   "outputs": [],
   "source": [
    "in_path = f'./in/satellite_imagery/{sensor.value}'\n",
    "out_path = f'./in/wqp/{sensor.value}'\n",
    "cwd_path = wqpSNAP.inputParameters(in_path,out_path)"
   ]
  },
  {
   "cell_type": "code",
   "execution_count": 7,
   "metadata": {},
   "outputs": [
    {
     "data": {
      "text/plain": [
       "{'in': './in/satellite_imagery/L8',\n",
       " 'out': './in/wqp/L8',\n",
       " 'out_masks': './in/wqp/L8/masks',\n",
       " 'out_wqp': './in/wqp/L8/wqp',\n",
       " 'out_wqp_high_clouds': './in/wqp/L8/wqp_high_clouds',\n",
       " 'out_wqp_mid_high_clouds': './in/wqp/L8/wqp_mid_high_clouds',\n",
       " 'in_parameters': './in/satellite_imagery/wqp_parameters',\n",
       " 'vectorFile': './vector/simile_laghi/simile_laghi.shp'}"
      ]
     },
     "execution_count": 7,
     "metadata": {},
     "output_type": "execute_result"
    }
   ],
   "source": [
    "cwd_path"
   ]
  },
  {
   "cell_type": "markdown",
   "metadata": {},
   "source": [
    "## 1. Define processing parameters"
   ]
  },
  {
   "cell_type": "markdown",
   "metadata": {},
   "source": [
    "Import the additional input parameters used in the processing of the data. For the processing of CHL-a and TSM products using the Sentinel-3 OLCI sensor, it is required the mean temperature in the region of interest. While, for the processing of the LSWT products using the Landsat-8 TIRS sensor, are required some atmospheric correction parameters presented in the [Barsi method](https://www.mdpi.com/2072-4292/6/11/11607) (Barsi, 2014)"
   ]
  },
  {
   "cell_type": "markdown",
   "metadata": {},
   "source": [
    "### 1.1. Temperature Data - ARPA Lombardia\n",
    "\n",
    "The temperature data is retrieved from the `./in/satellite_imagery/wqp_parameters/meteoTemp.csv` file. Make sure to update the temperature measurements to match the satellite images acquisition timestamps to allow the processing.\n",
    "\n",
    "The update of the temperature measurements is possible either by following the procedure presented in the [downloadMeteoARPA](./downloadMeteoARPA.ipynb) notebook, or by requesting the the data from [ARPA Lombardia](https://www.arpalombardia.it/Pages/Meteorologia/Richiesta-dati-misurati.aspx#) by manually updating the **.csv** file."
   ]
  },
  {
   "cell_type": "code",
   "execution_count": 8,
   "metadata": {},
   "outputs": [],
   "source": [
    "#Read the mean temperature file\n",
    "df_t = pd.read_csv(os.path.join(cwd_path['in_parameters'],'meteoTemp.csv'))\n",
    "df_t[\"Data\"] = pd.to_datetime(df_t['Data'])\n",
    "df_t_keys = list(df_t.keys())"
   ]
  },
  {
   "cell_type": "code",
   "execution_count": 9,
   "metadata": {},
   "outputs": [
    {
     "data": {
      "text/html": [
       "<div>\n",
       "<style scoped>\n",
       "    .dataframe tbody tr th:only-of-type {\n",
       "        vertical-align: middle;\n",
       "    }\n",
       "\n",
       "    .dataframe tbody tr th {\n",
       "        vertical-align: top;\n",
       "    }\n",
       "\n",
       "    .dataframe thead th {\n",
       "        text-align: right;\n",
       "    }\n",
       "</style>\n",
       "<table border=\"1\" class=\"dataframe\">\n",
       "  <thead>\n",
       "    <tr style=\"text-align: right;\">\n",
       "      <th></th>\n",
       "      <th>IdSensore</th>\n",
       "      <th>Data</th>\n",
       "      <th>Valore</th>\n",
       "      <th>Stato</th>\n",
       "      <th>idOperatore</th>\n",
       "    </tr>\n",
       "  </thead>\n",
       "  <tbody>\n",
       "    <tr>\n",
       "      <th>0</th>\n",
       "      <td>14606</td>\n",
       "      <td>2019-01-01 00:00:00</td>\n",
       "      <td>5.5</td>\n",
       "      <td>VA</td>\n",
       "      <td>1</td>\n",
       "    </tr>\n",
       "    <tr>\n",
       "      <th>1</th>\n",
       "      <td>14606</td>\n",
       "      <td>2019-01-01 00:10:00</td>\n",
       "      <td>5.5</td>\n",
       "      <td>VA</td>\n",
       "      <td>1</td>\n",
       "    </tr>\n",
       "    <tr>\n",
       "      <th>2</th>\n",
       "      <td>14606</td>\n",
       "      <td>2019-01-01 00:20:00</td>\n",
       "      <td>5.4</td>\n",
       "      <td>VA</td>\n",
       "      <td>1</td>\n",
       "    </tr>\n",
       "    <tr>\n",
       "      <th>3</th>\n",
       "      <td>14606</td>\n",
       "      <td>2019-01-01 00:30:00</td>\n",
       "      <td>5.3</td>\n",
       "      <td>VA</td>\n",
       "      <td>1</td>\n",
       "    </tr>\n",
       "    <tr>\n",
       "      <th>4</th>\n",
       "      <td>14606</td>\n",
       "      <td>2019-01-01 00:40:00</td>\n",
       "      <td>5.3</td>\n",
       "      <td>VA</td>\n",
       "      <td>1</td>\n",
       "    </tr>\n",
       "  </tbody>\n",
       "</table>\n",
       "</div>"
      ],
      "text/plain": [
       "   IdSensore                Data  Valore Stato  idOperatore\n",
       "0      14606 2019-01-01 00:00:00     5.5    VA            1\n",
       "1      14606 2019-01-01 00:10:00     5.5    VA            1\n",
       "2      14606 2019-01-01 00:20:00     5.4    VA            1\n",
       "3      14606 2019-01-01 00:30:00     5.3    VA            1\n",
       "4      14606 2019-01-01 00:40:00     5.3    VA            1"
      ]
     },
     "execution_count": 9,
     "metadata": {},
     "output_type": "execute_result"
    }
   ],
   "source": [
    "# Sample of the temperature dataset\n",
    "df_t.head()"
   ]
  },
  {
   "cell_type": "markdown",
   "metadata": {},
   "source": [
    "Verify that the last available date for the temperature measurement includes the date for the images to be processed. Otherwise, make sure to update the temperature time series (see [Notebook Meteo ARPA](./downloadMeteoARPA.ipynb))."
   ]
  },
  {
   "cell_type": "code",
   "execution_count": 10,
   "metadata": {},
   "outputs": [
    {
     "name": "stdout",
     "output_type": "stream",
     "text": [
      "First timestamp: 2019-01-01 00:00:00\n",
      "Last timestamp: 2022-12-09 23:50:00\n"
     ]
    }
   ],
   "source": [
    "print(f'First timestamp: {min(df_t.Data)}')\n",
    "print(f'Last timestamp: {max(df_t.Data)}')"
   ]
  },
  {
   "cell_type": "markdown",
   "metadata": {},
   "source": [
    "### 1.2. Atmospheric Correction Parameters"
   ]
  },
  {
   "cell_type": "markdown",
   "metadata": {},
   "source": [
    "The atmospheric correction parameters are manually updated by requesting them at the corresponding time of acquisition of the Landsat images. The parameters are computed using the [NASA Atmospheric Correction Calculator](https://atmcorr.gsfc.nasa.gov/atm_corr.html), and are appended into the `./in/satellite_imagery/wqp_parameters/atmCorr.csv` file. \n",
    "\n",
    "Here, we will make an example for the Landsat Image \"*LC08_L1GT_194028_20220506_20220512_02_T2*\", where the date of acquisition corresponds to the 4th string (2022-05-06). The time of acquisition can be found inside the metadata file for the products **'*_MTL.xml'** file. For this products the time is around 10:10 at the center time of the scene. The requests would be carried out as follows:\n",
    "\n",
    "<div style=\"display: inline-flex\">\n",
    "    <div style=\"margin: 10px; width:45%\">\n",
    "        <h5>Atmospheric Correction Parameters Request Module</h5>\n",
    "        <img src='./src/images/sample_form_atmCorr.png' style='width:95%'>\n",
    "    </div> \n",
    "    <div style=\"margin: 10px; width:45%\">\n",
    "        <h5>Atmospheric Correction Parameters Request Output</h5>\n",
    "        <img src='./src/images/sample_output_atmCorr.png' style='width:95%'>\n",
    "    </div> \n",
    "</div>\n",
    "\n",
    "Once the parameters are obtained, it is possible to update the **atmCorr.csv** file with the help of a text editor, or excel, to add a ne line for the new record. Notice that the data must be compiled in the same order as stated in the first line.\n",
    "\n",
    "<div style=\"display: flex; align-items: center; justify-content: center\">\n",
    "    <div style=\"margin: 10px\">\n",
    "        <h5>Atmospheric Correction Parameters File Update</h5>\n",
    "        <img src='./src/images/sample_update_atmCorr.png' style='width:40%'>\n",
    "    </div> \n",
    "</div>"
   ]
  },
  {
   "cell_type": "code",
   "execution_count": 12,
   "metadata": {},
   "outputs": [],
   "source": [
    "# Read the atmospheric correction parameters file\n",
    "df_atm = pd.read_csv(os.path.join(cwd_path['in_parameters'],'atmCorr.csv'))"
   ]
  },
  {
   "cell_type": "code",
   "execution_count": 13,
   "metadata": {},
   "outputs": [],
   "source": [
    "df_atm['DateTime'] = pd.to_datetime(df_atm['DateTime'], format='%Y/%m/%d %H:%M')\n",
    "df_atm['DateTime'] = df_atm['DateTime'].dt.date"
   ]
  },
  {
   "cell_type": "code",
   "execution_count": 14,
   "metadata": {},
   "outputs": [
    {
     "data": {
      "text/html": [
       "<div>\n",
       "<style scoped>\n",
       "    .dataframe tbody tr th:only-of-type {\n",
       "        vertical-align: middle;\n",
       "    }\n",
       "\n",
       "    .dataframe tbody tr th {\n",
       "        vertical-align: top;\n",
       "    }\n",
       "\n",
       "    .dataframe thead th {\n",
       "        text-align: right;\n",
       "    }\n",
       "</style>\n",
       "<table border=\"1\" class=\"dataframe\">\n",
       "  <thead>\n",
       "    <tr style=\"text-align: right;\">\n",
       "      <th></th>\n",
       "      <th>DateTime</th>\n",
       "      <th>Year</th>\n",
       "      <th>Month</th>\n",
       "      <th>Day</th>\n",
       "      <th>GMT Hour</th>\n",
       "      <th>Minute</th>\n",
       "      <th>t</th>\n",
       "      <th>Lu</th>\n",
       "      <th>Ld</th>\n",
       "    </tr>\n",
       "  </thead>\n",
       "  <tbody>\n",
       "    <tr>\n",
       "      <th>0</th>\n",
       "      <td>2019-01-01</td>\n",
       "      <td>2019</td>\n",
       "      <td>1</td>\n",
       "      <td>1</td>\n",
       "      <td>10</td>\n",
       "      <td>10</td>\n",
       "      <td>0.93</td>\n",
       "      <td>0.47</td>\n",
       "      <td>0.80</td>\n",
       "    </tr>\n",
       "    <tr>\n",
       "      <th>1</th>\n",
       "      <td>2019-01-06</td>\n",
       "      <td>2019</td>\n",
       "      <td>1</td>\n",
       "      <td>6</td>\n",
       "      <td>10</td>\n",
       "      <td>10</td>\n",
       "      <td>0.93</td>\n",
       "      <td>0.46</td>\n",
       "      <td>0.79</td>\n",
       "    </tr>\n",
       "    <tr>\n",
       "      <th>2</th>\n",
       "      <td>2019-01-13</td>\n",
       "      <td>2019</td>\n",
       "      <td>1</td>\n",
       "      <td>13</td>\n",
       "      <td>10</td>\n",
       "      <td>10</td>\n",
       "      <td>0.91</td>\n",
       "      <td>0.56</td>\n",
       "      <td>0.96</td>\n",
       "    </tr>\n",
       "    <tr>\n",
       "      <th>3</th>\n",
       "      <td>2019-01-15</td>\n",
       "      <td>2019</td>\n",
       "      <td>1</td>\n",
       "      <td>15</td>\n",
       "      <td>10</td>\n",
       "      <td>10</td>\n",
       "      <td>0.95</td>\n",
       "      <td>0.32</td>\n",
       "      <td>0.55</td>\n",
       "    </tr>\n",
       "    <tr>\n",
       "      <th>4</th>\n",
       "      <td>2019-01-17</td>\n",
       "      <td>2019</td>\n",
       "      <td>1</td>\n",
       "      <td>17</td>\n",
       "      <td>10</td>\n",
       "      <td>10</td>\n",
       "      <td>0.87</td>\n",
       "      <td>0.80</td>\n",
       "      <td>1.34</td>\n",
       "    </tr>\n",
       "  </tbody>\n",
       "</table>\n",
       "</div>"
      ],
      "text/plain": [
       "     DateTime  Year  Month  Day  GMT Hour  Minute     t    Lu    Ld\n",
       "0  2019-01-01  2019      1    1        10      10  0.93  0.47  0.80\n",
       "1  2019-01-06  2019      1    6        10      10  0.93  0.46  0.79\n",
       "2  2019-01-13  2019      1   13        10      10  0.91  0.56  0.96\n",
       "3  2019-01-15  2019      1   15        10      10  0.95  0.32  0.55\n",
       "4  2019-01-17  2019      1   17        10      10  0.87  0.80  1.34"
      ]
     },
     "execution_count": 14,
     "metadata": {},
     "output_type": "execute_result"
    }
   ],
   "source": [
    "df_atm.head()"
   ]
  },
  {
   "cell_type": "markdown",
   "metadata": {},
   "source": [
    "## 2. WQP maps production\n",
    "\n",
    "This section presents the processing of the Water Quality Parameters maps correspongding to the specific product and map typology."
   ]
  },
  {
   "cell_type": "code",
   "execution_count": 15,
   "metadata": {},
   "outputs": [],
   "source": [
    "# Temptative bounding box for the area of interest\n",
    "bbox = {\n",
    "    'minLat' : 45.3,\n",
    "    'maxLat' : 46.65,\n",
    "    'minLon' : 7.9,\n",
    "    'maxLon' : 9.95,\n",
    "}"
   ]
  },
  {
   "cell_type": "code",
   "execution_count": 16,
   "metadata": {},
   "outputs": [],
   "source": [
    "# Format output processed images\n",
    "writeFormat = 'GeoTIFF'"
   ]
  },
  {
   "cell_type": "markdown",
   "metadata": {},
   "source": [
    "### S3 - Chlorophyll-a (CHL-a) and Total Suspended Matter (TSM)"
   ]
  },
  {
   "cell_type": "markdown",
   "metadata": {},
   "source": [
    "Here, the WQP maps using the Sentinel-3A/B images are derived. The retrieval of the sentinel images can be achieved through the procedure described in the notebook [downloadWEkEO](./downloadWEkEO.ipynb) to import the images directly into the processing directory. Alternatively, it is possible to download the images through [Copernicus Access Hub](https://scihub.copernicus.eu/dhus/#/home), add move the images into the `./in/satellite_imagery/S3` folder and unzip the products into separate folders. "
   ]
  },
  {
   "cell_type": "code",
   "execution_count": 42,
   "metadata": {
    "tags": []
   },
   "outputs": [
    {
     "name": "stdout",
     "output_type": "stream",
     "text": [
      "S3A_OL_1_EFR____20221001T093930_20221001T094230_20221002T141306_0179_090_250_2160_MAR_O_NT_002.SEN3\n",
      "Date: 2022-10-01 09:30 \n",
      "Temperature: 4.5°C\n",
      "S3A 20221001T094230\n",
      "S3A_OL_1_EFR____20221002T091319_20221002T091619_20221003T132152_0179_090_264_2160_MAR_O_NT_002.SEN3\n",
      "Date: 2022-10-02 09:10 \n",
      "Temperature: 7.0°C\n",
      "S3A 20221002T091619\n",
      "S3B_OL_1_EFR____20221002T101506_20221002T101806_20221003T154124_0179_071_122_2160_MAR_O_NT_002.SEN3\n",
      "Date: 2022-10-02 10:10 \n",
      "Temperature: 8.9°C\n"
     ]
    }
   ],
   "source": [
    "wqpParams = wqpParams_S3\n",
    "for root, dirs, files in os.walk(in_path):\n",
    "    for d in dirs:\n",
    "        if (d != '.ipynb_checkpoints'):\n",
    "            # 1. Read the product\n",
    "            s3_image = wqpSNAP.snapProduct(os.path.join(root,d,'xfdumanifest.xml'),bbox)\n",
    "            s3_image.readSNAPProduct()\n",
    "            s3_image.name = s3_image.path.split('/')[-2]\n",
    "            print(s3_image.name)\n",
    "            try:\n",
    "                # 2. Update the bounding box for the subset selection\n",
    "                params_subset = s3_image.updateSNAPSubset(wqpParams.params_subset)\n",
    "                subset_product = wqpSNAP.executeSNAPFunction(s3_image.product, params_subset)\n",
    "                # 3. Reproject the subset\n",
    "                reproject_product = wqpSNAP.executeSNAPFunction(subset_product, wqpParams.params_reproject)\n",
    "                # 4. Update the C2RCC temperature value. C2RCC wqp products\n",
    "                params_C2RCC = s3_image.updateSNAPTemperature(df_t, wqpParams.params_C2RCC)\n",
    "                c2rcc_product = wqpSNAP.executeSNAPFunction(reproject_product, params_C2RCC)\n",
    "                # 5. Import vector layer\n",
    "                importVector_product = wqpSNAP.executeSNAPFunction(c2rcc_product, wqpParams.params_importVector)\n",
    "                # 6. Band Maths operations\n",
    "                bandMaths_product_C2RCC = wqpSNAP.executeSNAPFunction(importVector_product, wqpParams.params_bandMaths)\n",
    "                bandMaths_product_oa = wqpSNAP.executeSNAPFunction(reproject_product, wqpParams.params_bandMaths_oa)\n",
    "                bandMaths_product_rrs = wqpSNAP.executeSNAPFunction(importVector_product, wqpParams.params_bandMaths_rrs)  \n",
    "                bandMaths_product_masks = wqpSNAP.executeSNAPFunction(importVector_product, wqpParams.params_bandMaths_masks)\n",
    "                # 7. Extract bands\n",
    "                # Product bands to be extracted\n",
    "                bandExtract_product_chl = wqpSNAP.executeSNAPFunction(bandMaths_product_C2RCC, wqpParams.params_bandExtractor_chl)\n",
    "                bandExtract_product_tsm = wqpSNAP.executeSNAPFunction(bandMaths_product_C2RCC, wqpParams.params_bandExtractor_tsm)\n",
    "                bandExtract_product_chl_no_clip = wqpSNAP.executeSNAPFunction(bandMaths_product_C2RCC, wqpParams.params_bandExtractor_chl_no_clip)\n",
    "                bandExtract_product_tsm_no_clip = wqpSNAP.executeSNAPFunction(bandMaths_product_C2RCC, wqpParams.params_bandExtractor_tsm_no_clip)\n",
    "                bandExtract_product_chl_no_mask = wqpSNAP.executeSNAPFunction(bandMaths_product_C2RCC, wqpParams.params_bandExtractor_chl_no_masks)\n",
    "                bandExtract_product_tsm_no_mask = wqpSNAP.executeSNAPFunction(bandMaths_product_C2RCC, wqpParams.params_bandExtractor_tsm_no_masks)\n",
    "                bandExtract_product_chl_cloud_mask = wqpSNAP.executeSNAPFunction(bandMaths_product_C2RCC, wqpParams.params_bandExtractor_chl_cloud_mask)\n",
    "                bandExtract_product_tsm_cloud_mask = wqpSNAP.executeSNAPFunction(bandMaths_product_C2RCC, wqpParams.params_bandExtractor_tsm_cloud_mask)\n",
    "                bandExtract_product_oa = wqpSNAP.executeSNAPFunction(bandMaths_product_oa, wqpParams.params_bandExtractor_oa)\n",
    "                # bandExtract_product_oa = wqpSNAP.executeSNAPFunction(bandMaths_product_oa, wqpParams.params_bandExtractor_oa_18)\n",
    "                bandExtract_product_rrs = wqpSNAP.executeSNAPFunction(bandMaths_product_rrs, wqpParams.params_bandExtractor_rrs)\n",
    "                bandExtract_product_masks = wqpSNAP.executeSNAPFunction(bandMaths_product_masks, wqpParams.params_bandExtractor_masks)\n",
    "                # 8. Save bands\n",
    "                # Define output paths\n",
    "                sensorName = s3_image.name.split('_')[0]\n",
    "                sensorDate = s3_image.name.split('_')[8]\n",
    "                print(sensorName, sensorDate)\n",
    "                out_path_chl = os.path.join(cwd_path['out_wqp'],'chl',sensorName+'_CHL_IT_'+sensorDate+'_L1')\n",
    "                out_path_tsm = os.path.join(cwd_path['out_wqp'],'tsm',sensorName+'_TSM_IT_'+sensorDate+'_L1')\n",
    "                out_path_chl_no_clip = os.path.join(cwd_path['out_wqp_no_clip'],'chl',sensorName+'_CHL_IT_'+sensorDate+'_L1')\n",
    "                out_path_tsm_no_clip = os.path.join(cwd_path['out_wqp_no_clip'],'tsm',sensorName+'_TSM_IT_'+sensorDate+'_L1')\n",
    "                out_path_chl_no_mask = os.path.join(cwd_path['out_wqp_no_mask'],'chl',sensorName+'_CHL_IT_'+sensorDate+'_L1')\n",
    "                out_path_tsm_no_mask = os.path.join(cwd_path['out_wqp_no_mask'],'tsm',sensorName+'_TSM_IT_'+sensorDate+'_L1')\n",
    "                out_path_chl_cloud_mask = os.path.join(cwd_path['out_wqp_cloud'],'chl',sensorName+'_CHL_IT_'+sensorDate+'_L1')\n",
    "                out_path_tsm_cloud_mask = os.path.join(cwd_path['out_wqp_cloud'],'tsm',sensorName+'_TSM_IT_'+sensorDate+'_L1')\n",
    "                out_path_mask = os.path.join(cwd_path['out_masks'],sensorName+'_IT_'+sensorDate+'_L1')\n",
    "                out_path_oa = os.path.join(cwd_path['out_oa'],sensorName+'_IT_'+sensorDate+'_L1')\n",
    "                out_path_rrs = os.path.join(cwd_path['out_rrs'],sensorName+'_IT_'+sensorDate+'_L1')\n",
    "                # Save Bands\n",
    "                wqpSNAP.exportProductBands(bandExtract_product_chl, out_path_chl, writeFormat)\n",
    "                wqpSNAP.exportProductBands(bandExtract_product_tsm, out_path_tsm, writeFormat)\n",
    "                wqpSNAP.exportProductBands(bandExtract_product_chl_no_clip, out_path_chl_no_clip, writeFormat)\n",
    "                wqpSNAP.exportProductBands(bandExtract_product_tsm_no_clip, out_path_tsm_no_clip, writeFormat)\n",
    "                wqpSNAP.exportProductBands(bandExtract_product_chl_no_mask, out_path_chl_no_mask, writeFormat)\n",
    "                wqpSNAP.exportProductBands(bandExtract_product_tsm_no_mask, out_path_tsm_no_mask, writeFormat)\n",
    "                wqpSNAP.exportProductBands(bandExtract_product_chl_cloud_mask, out_path_chl_cloud_mask, writeFormat)\n",
    "                wqpSNAP.exportProductBands(bandExtract_product_tsm_cloud_mask, out_path_tsm_cloud_mask, writeFormat)\n",
    "                wqpSNAP.exportProductBands(bandExtract_product_masks, out_path_mask, writeFormat)\n",
    "                wqpSNAP.exportProductBands(bandExtract_product_oa, out_path_oa, writeFormat)\n",
    "                wqpSNAP.exportProductBands(bandExtract_product_rrs, out_path_rrs, writeFormat)\n",
    "                # Clean environment\n",
    "                subset_product.dispose() \n",
    "                reproject_product.dispose()\n",
    "                c2rcc_product.dispose()\n",
    "                importVector_product.dispose()\n",
    "                bandExtract_product_chl.dispose()\n",
    "                bandExtract_product_tsm.dispose()\n",
    "                bandExtract_product_chl_no_mask.dispose()\n",
    "                bandExtract_product_tsm_no_mask.dispose()\n",
    "                bandExtract_product_chl_cloud_mask.dispose()\n",
    "                bandExtract_product_tsm_cloud_mask.dispose()\n",
    "                bandExtract_product_rrs.dispose()\n",
    "                bandExtract_product_oa.dispose()\n",
    "                bandExtract_product_masks.dispose()\n",
    "                del s3_image\n",
    "                del subset_product\n",
    "                del reproject_product\n",
    "                del c2rcc_product\n",
    "                del importVector_product\n",
    "                del bandExtract_product_chl\n",
    "                del bandExtract_product_tsm\n",
    "                del bandExtract_product_chl_no_mask\n",
    "                del bandExtract_product_tsm_no_mask\n",
    "                del bandExtract_product_chl_cloud_mask\n",
    "                del bandExtract_product_tsm_cloud_mask\n",
    "                del bandExtract_product_rrs\n",
    "                del bandExtract_product_oa\n",
    "                del bandExtract_product_masks\n",
    "            except:\n",
    "                # Open a file with access mode 'a'\n",
    "                file_object = open(os.path.join(cwd_path['out'],f'error_images_{sensor.value}.txt'), 'a')\n",
    "                # Append 'hello' at the end of file\n",
    "                file_object.write(s3_image.name)\n",
    "                file_object.write(\"\\n\")\n",
    "                # Close the file\n",
    "                file_object.close()"
   ]
  },
  {
   "cell_type": "markdown",
   "metadata": {},
   "source": [
    "**Note:** There are several products that you can extract from the outputs of the WQP processing. Depending on your needs you can uncomment the different lines in the code to produce them. Here, we focus in the production of the WQP maps and the extraction of the reference bands used for the coregistration of the images. In this case, the reference band used for the images coregistration of the images correspond to Band 18 of the S3-OLCI images ([Sentinel-3 OLCI bands reference](https://sentinels.copernicus.eu/web/sentinel/user-guides/sentinel-3-olci/resolutions/radiometric))."
   ]
  },
  {
   "cell_type": "markdown",
   "metadata": {
    "tags": []
   },
   "source": [
    "### L8 - Land Surface Water Temperature (LSWT)"
   ]
  },
  {
   "cell_type": "markdown",
   "metadata": {},
   "source": [
    "Here, the WQP maps using the Landsat-8 images are derived. It is possible to download the images through [USGS Earth explorer](https://earthexplorer.usgs.gov/), add move the images into the `./in/satellite_imagery/L8` folder and unzip the products into separate folders."
   ]
  },
  {
   "cell_type": "code",
   "execution_count": 17,
   "metadata": {
    "scrolled": true,
    "tags": []
   },
   "outputs": [
    {
     "name": "stdout",
     "output_type": "stream",
     "text": [
      "Date: 2022-09-11 00:00:00 \n",
      " Lu: 1.3, t: 0.83, Ld: 2.15\n",
      "./in/wqp/L8/wqp_high_clouds/lswt/L8_LSWT_IT_20220911_L1\n"
     ]
    }
   ],
   "source": [
    "wqpParams = wqpParams_L8\n",
    "for root, dirs, files in os.walk(in_path):\n",
    "    for f in files:\n",
    "        if f.endswith('MTL.txt'):\n",
    "            # 1. Read the product\n",
    "            l8_image = wqpSNAP.snapProduct(os.path.join(root,f),bbox)\n",
    "            l8_image.readSNAPProduct()\n",
    "            l8_image.name = l8_image.path.split('/')[-2].split('.')[0]\n",
    "            params_bandMaths = l8_image.updateSNAPAtmCorr(df_atm,wqpParams.params_bandMaths)\n",
    "            try:\n",
    "                # 2. Update the bounding box for the subset selection\n",
    "                params_subset = l8_image.updateSNAPSubset(wqpParams.params_subset)\n",
    "                subset_product = wqpSNAP.executeSNAPFunction(l8_image.product, params_subset)\n",
    "                # 3. Reproject the subset\n",
    "    #                 reproject_product = wqpSNAP.executeSNAPFunction(subset_product, wqpParams.params_reproject) \n",
    "                # 4. Resample\n",
    "                resample_product = wqpSNAP.executeSNAPFunction(subset_product, wqpParams.params_resample)\n",
    "                # 5. Import-Vector\n",
    "                importVector_product = wqpSNAP.executeSNAPFunction(resample_product, wqpParams.params_importVector)\n",
    "                # 6. BandMaths\n",
    "                bandMaths_product = wqpSNAP.executeSNAPFunction(importVector_product, params_bandMaths)\n",
    "                bandMaths_product_masks = wqpSNAP.executeSNAPFunction(importVector_product, wqpParams.params_bandMaths_masks)\n",
    "                # 7. BandExtract\n",
    "                bandExtract_product_lswt = wqpSNAP.executeSNAPFunction(bandMaths_product, wqpParams.params_bandExtractor_lswt)\n",
    "                bandExtract_product_lswt_mid_high = wqpSNAP.executeSNAPFunction(bandMaths_product, wqpParams.params_bandExtractor_lswt_mid_high)\n",
    "                bandExtract_product_lswt_high = wqpSNAP.executeSNAPFunction(bandMaths_product, wqpParams.params_bandExtractor_lswt_high)\n",
    "                bandExtract_product_masks = wqpSNAP.executeSNAPFunction(bandMaths_product_masks, wqpParams.params_bandExtractor_masks)\n",
    "                # 8. Export bands\n",
    "                # Output paths\n",
    "                sensorDate = l8_image.name.split('_')[3]\n",
    "                out_path_lswt = os.path.join(cwd_path['out_wqp'],'lswt',sensor.value+'_LSWT_IT_'+sensorDate+'_L1')\n",
    "                out_path_lswt_mid_high = os.path.join(cwd_path['out_wqp_mid_high_clouds'],'lswt',sensor.value+'_LSWT_IT_'+sensorDate+'_L1')\n",
    "                out_path_lswt_high = os.path.join(cwd_path['out_wqp_high_clouds'],'lswt',sensor.value+'_LSWT_IT_'+sensorDate+'_L1')\n",
    "                out_path_mask = os.path.join(cwd_path['out_masks'],sensor.value+'_LSWT_IT_'+sensorDate+'_L1')\n",
    "                print(out_path_lswt_high)\n",
    "                #Save Bands\n",
    "                wqpSNAP.exportProductBands(bandExtract_product_lswt, out_path_lswt, writeFormat)\n",
    "                wqpSNAP.exportProductBands(bandExtract_product_lswt_mid_high, out_path_lswt_mid_high, writeFormat)\n",
    "                wqpSNAP.exportProductBands(bandExtract_product_lswt_high, out_path_lswt_high, writeFormat)\n",
    "                wqpSNAP.exportProductBands(bandExtract_product_masks, out_path_mask, writeFormat)\n",
    "                \n",
    "                subset_product.dispose() \n",
    "                importVector_product.dispose()\n",
    "                resample_product.dispose()\n",
    "                bandMaths_product.dispose()\n",
    "                bandMaths_product_masks.dispose()\n",
    "                bandExtract_product_lswt.dispose()\n",
    "                bandExtract_product_lswt_mid_high.dispose()\n",
    "                bandExtract_product_lswt_high.dispose()\n",
    "                bandExtract_product_masks.dispose()\n",
    "                \n",
    "                del subset_product\n",
    "                del importVector_product\n",
    "                del resample_product\n",
    "                del bandExtract_product_lswt\n",
    "                del bandExtract_product_lswt_mid_high\n",
    "                del bandExtract_product_lswt_high\n",
    "                del bandExtract_product_masks\n",
    "                del bandMaths_product\n",
    "                del bandMaths_product_masks\n",
    "            except:\n",
    "                # Open a file with access mode 'a'\n",
    "                file_object = open(os.path.join(cwd_path['out'],f'error_images_{sensor.value}.txt'), 'a')\n",
    "                file_object.write(l8_image.name)\n",
    "                file_object.write(\"\\n\")\n",
    "                # Close the file\n",
    "                file_object.close()"
   ]
  },
  {
   "cell_type": "markdown",
   "metadata": {
    "tags": []
   },
   "source": [
    "### EUMETSAT products extract"
   ]
  },
  {
   "cell_type": "code",
   "execution_count": 11,
   "metadata": {},
   "outputs": [
    {
     "name": "stdout",
     "output_type": "stream",
     "text": [
      "S3A_OL_2_WFR____20220701T092437_20220701T092737_20220702T201506_0179_087_093_2160_MAR_O_NT_003\n",
      "S3A_OL_2_WFR____20220703T101314_20220703T101614_20220705T000632_0179_087_122_2160_MAR_O_NT_003\n",
      "S3A_OL_2_WFR____20220704T094703_20220704T095003_20220705T230027_0180_087_136_2160_MAR_O_NT_003\n",
      "S3A_OL_2_WFR____20220705T092052_20220705T092352_20220706T214020_0179_087_150_2160_MAR_O_NT_003\n",
      "S3A_OL_2_WFR____20220707T100929_20220707T101229_20220708T230203_0179_087_179_2160_MAR_O_NT_003\n",
      "S3A_OL_2_WFR____20220708T094318_20220708T094618_20220709T204831_0179_087_193_2160_MAR_O_NT_003\n",
      "S3A_OL_2_WFR____20220709T091707_20220709T092007_20220710T204859_0179_087_207_2160_MAR_O_NT_003\n",
      "S3A_OL_2_WFR____20220711T100544_20220711T100844_20220712T222557_0179_087_236_2160_MAR_O_NT_003\n",
      "S3A_OL_2_WFR____20220712T093933_20220712T094233_20220713T204247_0179_087_250_2160_MAR_O_NT_003\n",
      "S3A_OL_2_WFR____20220713T091322_20220713T091622_20220714T213637_0180_087_264_2160_MAR_O_NT_003\n",
      "S3A_OL_2_WFR____20220715T100159_20220715T100459_20220716T204050_0179_087_293_2160_MAR_O_NT_003\n",
      "S3A_OL_2_WFR____20220716T093548_20220716T093848_20220717T215237_0179_087_307_2160_MAR_O_NT_003\n",
      "S3A_OL_2_WFR____20220717T090937_20220717T091237_20220718T202406_0179_087_321_2160_MAR_O_NT_003\n",
      "S3A_OL_2_WFR____20220719T095813_20220719T100113_20220721T003312_0179_087_350_2160_MAR_O_NT_003\n",
      "S3A_OL_2_WFR____20220720T093202_20220720T093502_20220721T220614_0179_087_364_2160_MAR_O_NT_003\n",
      "S3A_OL_2_WFR____20220721T090551_20220721T090851_20220722T212205_0179_087_378_2160_MAR_O_NT_003\n",
      "S3A_OL_2_WFR____20220723T095429_20220723T095729_20220724T214231_0179_088_022_2160_MAR_O_NT_003\n",
      "S3A_OL_2_WFR____20220724T092818_20220724T093118_20220725T211718_0179_088_036_2160_MAR_O_NT_003\n",
      "S3A_OL_2_WFR____20220726T101655_20220726T101955_20220727T232304_0179_088_065_2160_MAR_O_NT_003\n",
      "S3A_OL_2_WFR____20220727T095044_20220727T095344_20220728T210552_0179_088_079_2160_MAR_O_NT_003\n",
      "S3A_OL_2_WFR____20220728T092433_20220728T092733_20220729T221124_0180_088_093_2160_MAR_O_NT_003\n",
      "S3A_OL_2_WFR____20220730T101311_20220730T101611_20220731T203224_0179_088_122_2160_MAR_O_NT_003\n",
      "S3A_OL_2_WFR____20220731T094700_20220731T095000_20220801T194449_0179_088_136_2160_MAR_O_NT_003\n",
      "S3A_OL_2_WFR____20220801T092049_20220801T092349_20220802T230224_0179_088_150_2160_MAR_O_NT_003\n",
      "S3A_OL_2_WFR____20220803T100926_20220803T101226_20220804T223840_0180_088_179_2160_MAR_O_NT_003\n",
      "S3A_OL_2_WFR____20220804T094315_20220804T094615_20220805T223134_0179_088_193_2160_MAR_O_NT_003\n",
      "S3A_OL_2_WFR____20220805T091704_20220805T092004_20220806T210224_0180_088_207_2160_MAR_O_NT_003\n",
      "S3A_OL_2_WFR____20220807T100541_20220807T100841_20220808T195946_0179_088_236_2160_MAR_O_NT_003\n",
      "S3A_OL_2_WFR____20220808T093930_20220808T094230_20220809T205504_0180_088_250_2160_MAR_O_NT_003\n",
      "S3A_OL_2_WFR____20220809T091319_20220809T091619_20220810T213723_0180_088_264_2160_MAR_O_NT_003\n",
      "S3A_OL_2_WFR____20220811T100156_20220811T100456_20220812T220532_0179_088_293_2160_MAR_O_NT_003\n",
      "S3A_OL_2_WFR____20220812T093545_20220812T093845_20220813T210909_0179_088_307_2160_MAR_O_NT_003\n",
      "S3A_OL_2_WFR____20220813T090934_20220813T091234_20220814T205851_0179_088_321_2160_MAR_O_NT_003\n",
      "S3A_OL_2_WFR____20220815T095811_20220815T100111_20220816T225249_0179_088_350_2160_MAR_O_NT_003\n",
      "S3A_OL_2_WFR____20220816T093200_20220816T093500_20220817T220431_0179_088_364_2160_MAR_O_NT_003\n",
      "S3A_OL_2_WFR____20220817T090549_20220817T090849_20220818T205931_0179_088_378_2160_MAR_O_NT_003\n",
      "S3A_OL_2_WFR____20220819T095426_20220819T095726_20220820T220050_0179_089_022_2160_MAR_O_NT_003\n",
      "S3A_OL_2_WFR____20220820T092815_20220820T093115_20220821T203539_0179_089_036_2160_MAR_O_NT_003\n",
      "S3A_OL_2_WFR____20220822T101652_20220822T101952_20220823T220439_0179_089_065_2160_MAR_O_NT_003\n",
      "S3A_OL_2_WFR____20220823T095041_20220823T095341_20220824T221708_0179_089_079_2160_MAR_O_NT_003\n",
      "S3A_OL_2_WFR____20220824T092429_20220824T092729_20220825T214952_0179_089_093_2160_MAR_O_NT_003\n",
      "S3A_OL_2_WFR____20220826T101307_20220826T101607_20220827T223211_0179_089_122_2160_MAR_O_NT_003\n",
      "S3A_OL_2_WFR____20220827T094656_20220827T094956_20220828T215412_0179_089_136_2160_MAR_O_NT_003\n",
      "S3B_OL_2_WFR____20210701T094849_20210701T095149_20210702T221059_0179_054_136_2160_MAR_O_NT_003\n",
      "S3B_OL_2_WFR____20210702T092238_20210702T092538_20210703T230355_0179_054_150_2160_MAR_O_NT_003\n",
      "S3B_OL_2_WFR____20210704T101116_20210704T101416_20210705T231858_0180_054_179_2160_MAR_O_NT_003\n",
      "S3B_OL_2_WFR____20210705T094505_20210705T094805_20210706T220633_0179_054_193_2160_MAR_O_NT_003\n",
      "S3B_OL_2_WFR____20210706T091854_20210706T092154_20210707T215130_0180_054_207_2160_MAR_O_NT_003\n",
      "S3B_OL_2_WFR____20210708T100731_20210708T101031_20210709T220401_0179_054_236_2160_MAR_O_NT_003\n",
      "S3B_OL_2_WFR____20210709T094120_20210709T094420_20210710T213851_0180_054_250_2160_MAR_O_NT_003\n",
      "S3B_OL_2_WFR____20210710T091510_20210710T091810_20210711T222147_0179_054_264_2160_MAR_O_NT_003\n",
      "S3B_OL_2_WFR____20210712T100347_20210712T100647_20210713T212410_0179_054_293_2160_MAR_O_NT_003\n",
      "S3B_OL_2_WFR____20210713T093736_20210713T094036_20210714T213731_0179_054_307_2160_MAR_O_NT_003\n",
      "S3B_OL_2_WFR____20210714T091125_20210714T091425_20210715T210934_0179_054_321_2160_MAR_O_NT_003\n",
      "S3B_OL_2_WFR____20210716T100002_20210716T100302_20210717T221502_0179_054_350_2160_MAR_O_NT_003\n",
      "S3B_OL_2_WFR____20210717T093351_20210717T093651_20210718T215306_0179_054_364_2160_MAR_O_NT_003\n",
      "S3B_OL_2_WFR____20210718T090740_20210718T091040_20210719T214953_0179_054_378_2160_MAR_O_NT_003\n",
      "S3B_OL_2_WFR____20210720T095618_20210720T095918_20210721T222432_0179_055_022_2160_MAR_O_NT_003\n",
      "S3B_OL_2_WFR____20210721T093007_20210721T093307_20210722T210749_0179_055_036_2160_MAR_O_NT_003\n",
      "S3B_OL_2_WFR____20210722T090356_20210722T090656_20210723T180251_0179_055_050_2160_MAR_O_NT_003\n",
      "S3B_OL_2_WFR____20210723T101845_20210723T102145_20210724T235230_0179_055_065_2160_MAR_O_NT_003\n",
      "S3B_OL_2_WFR____20210724T095234_20210724T095534_20210725T225857_0179_055_079_2160_MAR_O_NT_003\n",
      "S3B_OL_2_WFR____20210725T092623_20210725T092923_20210726T225143_0179_055_093_2160_MAR_O_NT_003\n",
      "S3B_OL_2_WFR____20210727T101501_20210727T101801_20210728T223341_0179_055_122_2160_MAR_O_NT_003\n",
      "S3B_OL_2_WFR____20210728T094850_20210728T095150_20210729T211044_0180_055_136_2160_MAR_O_NT_003\n",
      "S3B_OL_2_WFR____20210729T092239_20210729T092539_20210730T210511_0180_055_150_2160_MAR_O_NT_003\n",
      "S3B_OL_2_WFR____20210731T101117_20210731T101417_20210801T232907_0179_055_179_2160_MAR_O_NT_003\n",
      "S3B_OL_2_WFR____20210801T094506_20210801T094806_20210802T222643_0179_055_193_2160_MAR_O_NT_003\n",
      "S3B_OL_2_WFR____20210802T091855_20210802T092155_20210803T221706_0179_055_207_2160_MAR_O_NT_003\n",
      "S3B_OL_2_WFR____20210804T100733_20210804T101033_20210805T222842_0179_055_236_2160_MAR_O_NT_003\n",
      "S3B_OL_2_WFR____20210805T094122_20210805T094422_20210806T204556_0179_055_250_2160_MAR_O_NT_003\n",
      "S3B_OL_2_WFR____20210806T091511_20210806T091811_20210807T211122_0179_055_264_2160_MAR_O_NT_003\n",
      "S3B_OL_2_WFR____20210808T100349_20210808T100649_20210809T222052_0180_055_293_2160_MAR_O_NT_003\n",
      "S3B_OL_2_WFR____20210809T093738_20210809T094038_20210810T220329_0179_055_307_2160_MAR_O_NT_003\n",
      "S3B_OL_2_WFR____20210810T091127_20210810T091427_20210811T211650_0179_055_321_2160_MAR_O_NT_003\n",
      "S3B_OL_2_WFR____20210812T100004_20210812T100304_20210813T190418_0179_055_350_2160_MAR_O_NT_003\n",
      "S3B_OL_2_WFR____20210813T093353_20210813T093653_20210814T211026_0179_055_364_2160_MAR_O_NT_003\n",
      "S3B_OL_2_WFR____20210814T090743_20210814T091043_20210815T210320_0179_055_378_2160_MAR_O_NT_003\n",
      "S3B_OL_2_WFR____20210816T095620_20210816T095920_20210817T204300_0179_056_022_2160_MAR_O_NT_003\n",
      "S3B_OL_2_WFR____20210817T093009_20210817T093309_20210818T204035_0179_056_036_2160_MAR_O_NT_003\n",
      "S3B_OL_2_WFR____20210818T090358_20210818T090658_20210819T210543_0179_056_050_2160_MAR_O_NT_003\n",
      "S3B_OL_2_WFR____20210819T101847_20210819T102147_20210820T210437_0179_056_065_2160_MAR_O_NT_003\n",
      "S3B_OL_2_WFR____20210820T095236_20210820T095536_20210821T230711_0179_056_079_2160_MAR_O_NT_003\n",
      "S3B_OL_2_WFR____20210821T092625_20210821T092925_20210822T211310_0179_056_093_2160_MAR_O_NT_003\n",
      "S3B_OL_2_WFR____20210823T101502_20210823T101802_20210824T225722_0179_056_122_2160_MAR_O_NT_003\n",
      "S3B_OL_2_WFR____20210824T094851_20210824T095151_20210825T214349_0179_056_136_2160_MAR_O_NT_003\n",
      "S3B_OL_2_WFR____20210825T092240_20210825T092540_20210826T205804_0179_056_150_2160_MAR_O_NT_003\n",
      "S3B_OL_2_WFR____20210827T101118_20210827T101418_20210828T202019_0180_056_179_2160_MAR_O_NT_003\n",
      "S3B_OL_2_WFR____20210828T094507_20210828T094807_20210829T221807_0179_056_193_2160_MAR_O_NT_003\n",
      "S3B_OL_2_WFR____20210829T091856_20210829T092156_20210830T201906_0179_056_207_2160_MAR_O_NT_003\n",
      "S3B_OL_2_WFR____20210831T100733_20210831T101033_20210901T194849_0179_056_236_2160_MAR_O_NT_003\n"
     ]
    }
   ],
   "source": [
    "wqpParams = wqpParams_EUMETSAT\n",
    "#Image processing of the files in the input folder\n",
    "for root, directories, files in os.walk(cwd_path['in'], topdown=False):\n",
    "    for f in files:\n",
    "        if (f.endswith('.xml')):\n",
    "            try:\n",
    "                # 1. Read the product\n",
    "                EUMETSAT_image = wqpSNAP.snapProduct(os.path.join(root,f),bbox)\n",
    "                EUMETSAT_image.readSNAPProduct()\n",
    "                EUMETSAT_image.name = EUMETSAT_image.path.split('/')[-2].split('.')[0]\n",
    "                print(EUMETSAT_image.name)\n",
    "                # 2. Update the bounding box for the subset selection\n",
    "                params_subset = EUMETSAT_image.updateSNAPSubset(wqpParams.params_subset)\n",
    "                subset_product = wqpSNAP.executeSNAPFunction(EUMETSAT_image.product, params_subset)\n",
    "                # 3. Reproject\n",
    "                reproject_product = wqpSNAP.executeSNAPFunction(subset_product, wqpParams.params_reproject)\n",
    "                # 4. Import-Vector\n",
    "                importVector_product = wqpSNAP.executeSNAPFunction(reproject_product, wqpParams.params_importVector)\n",
    "                # 5. BandMaths\n",
    "                bandMaths_product = wqpSNAP.executeSNAPFunction(importVector_product, wqpParams.params_bandMaths)\n",
    "                # 6. BandExtract+\n",
    "                bandExtract_product_chl_nn = wqpSNAP.executeSNAPFunction(bandMaths_product, wqpParams.params_bandExtractor_chl_nn)\n",
    "                bandExtract_product_chl_oc4me = wqpSNAP.executeSNAPFunction(bandMaths_product, wqpParams.params_bandExtractor_chl_oc4me)\n",
    "                bandExtract_product_tsm_nn = wqpSNAP.executeSNAPFunction(bandMaths_product, wqpParams.params_bandExtractor_tsm_nn)\n",
    "                # 7. Write Subset test\n",
    "                sensor_date = EUMETSAT_image.name.split('_')[7]\n",
    "                sensor_value = EUMETSAT_image.name.split('_')[0]\n",
    "                wqpSNAP.exportProductBands(bandExtract_product_chl_nn ,os.path.join(cwd_path['out_chl_nn'],sensor_value+'_CHL_IT_'+sensor_date+'_L1'), writeFormat)\n",
    "                wqpSNAP.exportProductBands(bandExtract_product_chl_oc4me,os.path.join(cwd_path['out_chl_oc4me'],sensor_value+'_CHL_IT_'+sensor_date+'_L1'), writeFormat)\n",
    "                wqpSNAP.exportProductBands(bandExtract_product_tsm_nn,os.path.join(cwd_path['out_tsm_nn'],sensor_value+'_TSM_IT_'+sensor_date+'_L1'), writeFormat)\n",
    "                \n",
    "                subset_product.dispose() \n",
    "                importVector_product.dispose()\n",
    "                bandMaths_product.dispose()\n",
    "                bandExtract_product_chl_nn.dispose()\n",
    "                bandExtract_product_chl_oc4me.dispose()\n",
    "                bandExtract_product_tsm_nn.dispose()\n",
    "                del subset_product\n",
    "                del importVector_product\n",
    "                del bandExtract_product_chl_nn\n",
    "                del bandExtract_product_chl_oc4me\n",
    "                del bandExtract_product_tsm_nn\n",
    "            except:\n",
    "                # Open a file with access mode 'a'\n",
    "                file_object = open(os.path.join('./in/satellite_imagery',f'error_images_{sensor.value}.txt'), 'a')\n",
    "                # Append 'hello' at the end of file\n",
    "                file_object.write(EUMETSAT_image.name)\n",
    "                file_object.write(\"\\n\")\n",
    "                # Close the file\n",
    "                file_object.close()"
   ]
  },
  {
   "cell_type": "code",
   "execution_count": null,
   "metadata": {},
   "outputs": [],
   "source": []
  }
 ],
 "metadata": {
  "kernelspec": {
   "display_name": "snapEnv (Python)",
   "language": "python",
   "name": "snapenv"
  },
  "language_info": {
   "codemirror_mode": {
    "name": "ipython",
    "version": 3
   },
   "file_extension": ".py",
   "mimetype": "text/x-python",
   "name": "python",
   "nbconvert_exporter": "python",
   "pygments_lexer": "ipython3",
   "version": "3.6.15"
  }
 },
 "nbformat": 4,
 "nbformat_minor": 4
}
