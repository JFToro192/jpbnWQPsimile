{
 "cells": [
  {
   "cell_type": "markdown",
   "metadata": {},
   "source": [
    "# Water Quality Parameters Maps - Production"
   ]
  },
  {
   "cell_type": "markdown",
   "metadata": {},
   "source": [
    "Import the necessary packages to run the processing of the files."
   ]
  },
  {
   "cell_type": "code",
   "execution_count": null,
   "metadata": {},
   "outputs": [],
   "source": [
    "# Styling notebook\n",
    "\n",
    "# System\n",
    "import os\n",
    "import sys\n",
    "\n",
    "# Import scripts libraries for the project\n",
    "sys.path.append('./src/python')\n",
    "\n",
    "# Import the function to update the notebook style\n",
    "from nbConfig import (css_styling)\n",
    "\n",
    "css_styling()"
   ]
  },
  {
   "cell_type": "markdown",
   "metadata": {},
   "source": [
    "## 0. Import WQP maps production library"
   ]
  },
  {
   "cell_type": "markdown",
   "metadata": {},
   "source": [
    "Import the SNAP-py library and function parameters files for the processing of the WQPs maps."
   ]
  },
  {
   "cell_type": "code",
   "execution_count": null,
   "metadata": {},
   "outputs": [],
   "source": [
    "import pandas as pd\n",
    "import ipywidgets as wg\n",
    "import wqpSNAPparams_S3 as wqpParams_S3\n",
    "import wqpSNAPparams_L8 as wqpParams_L8\n",
    "import wqpSNAPparams_EUMETSAT as wqpParams_EUMETSAT\n",
    "import wqpSNAPFunctions as wqpSNAP"
   ]
  },
  {
   "cell_type": "markdown",
   "metadata": {},
   "source": [
    "Select the collection of interest for the processing of the data.\n",
    "\n",
    "**Note:** Make sure to have uploaded the files of the satellite imagery in the respective folder for the processing.\n",
    "\n",
    "- Sentinel-3 A/B: `'./in/data/satellite_imagery/S3'`\n",
    "- Landsat-8: `'./in/data/satellite_imagery/L8'`\n",
    "- EUMETSAT: `'./in/data/satellite_imagery/EUMETSAT'`\n",
    "\n",
    "Each product must be uncompressed and stored in an independent folder"
   ]
  },
  {
   "cell_type": "code",
   "execution_count": null,
   "metadata": {},
   "outputs": [],
   "source": [
    "SENSOR_LIST = ['S3','L8','EUMETSAT']\n",
    "sensor = wg.Select(\n",
    "    options = SENSOR_LIST,\n",
    "    value = SENSOR_LIST[0],\n",
    "    description = 'Select the sensor:',\n",
    "    disabled = False,\n",
    "    style = {\n",
    "        'description_width': 'auto'\n",
    "    },\n",
    "    layout = wg.Layout(width='50%', height='100px'),\n",
    ")"
   ]
  },
  {
   "cell_type": "code",
   "execution_count": null,
   "metadata": {},
   "outputs": [],
   "source": [
    "sensor"
   ]
  },
  {
   "cell_type": "code",
   "execution_count": null,
   "metadata": {},
   "outputs": [],
   "source": [
    "in_path = f'./in/satellite_imagery/{sensor.value}'\n",
    "out_path = f'./in/wqp/{sensor.value}'\n",
    "cwd_path = wqpSNAP.inputParameters(in_path,out_path)"
   ]
  },
  {
   "cell_type": "code",
   "execution_count": null,
   "metadata": {},
   "outputs": [],
   "source": [
    "cwd_path"
   ]
  },
  {
   "cell_type": "markdown",
   "metadata": {},
   "source": [
    "## 1. Define processing parameters"
   ]
  },
  {
   "cell_type": "markdown",
   "metadata": {},
   "source": [
    "Import the additional input parameters used in the processing of the data. For the processing of CHL-a and TSM products using the Sentinel-3 OLCI sensor, it is required the mean temperature in the region of interest. While, for the processing of the LSWT products using the Landsat-8 TIRS sensor, are required some atmospheric correction parameters presented in the [Barsi method](https://www.mdpi.com/2072-4292/6/11/11607) (Barsi, 2014)"
   ]
  },
  {
   "cell_type": "markdown",
   "metadata": {},
   "source": [
    "### 1.1. Temperature Data - ARPA Lombardia\n",
    "\n",
    "The temperature data is retrieved from the `./in/satellite_imagery/wqp_parameters/meteoTemp.csv` file. Make sure to update the temperature measurements to match the satellite images acquisition timestamps to allow the processing.\n",
    "\n",
    "The update of the temperature measurements is possible either by following the procedure presented in the [downloadMeteoARPA](./downloadMeteoARPA.ipynb) notebook, or by requesting the the data from [ARPA Lombardia](https://www.arpalombardia.it/Pages/Meteorologia/Richiesta-dati-misurati.aspx#) by manually updating the **.csv** file."
   ]
  },
  {
   "cell_type": "code",
   "execution_count": null,
   "metadata": {},
   "outputs": [],
   "source": [
    "#Read the mean temperature file\n",
    "df_t = pd.read_csv(os.path.join(cwd_path['in_parameters'],'meteoTemp.csv'))\n",
    "df_t[\"Data\"] = pd.to_datetime(df_t['Data'])\n",
    "df_t_keys = list(df_t.keys())"
   ]
  },
  {
   "cell_type": "code",
   "execution_count": null,
   "metadata": {},
   "outputs": [],
   "source": [
    "# Sample of the temperature dataset\n",
    "df_t.head()"
   ]
  },
  {
   "cell_type": "markdown",
   "metadata": {},
   "source": [
    "### 1.2. Atmospheric Correction Parameters"
   ]
  },
  {
   "cell_type": "markdown",
   "metadata": {},
   "source": [
    "The atmospheric correction parameters are manually updated by requesting them at the corresponding time of acquisition of the Landsat images. The parameters are computed using the [NASA Atmospheric Correction Calculator](https://atmcorr.gsfc.nasa.gov/atm_corr.html), and are appended into the `./in/satellite_imagery/wqp_parameters/atmCorr.csv` file. \n",
    "\n",
    "Here, we will make an example for the Landsat Image \"*LC08_L1GT_194028_20220506_20220512_02_T2*\", where the date of acquisition corresponds to the 4th string (2022-05-06). The time of acquisition can be found inside the metadata file for the products **'*_MTL.xml'** file. For this products the time is around 10:10 at the center time of the scene. The requests would be carried out as follows:\n",
    "\n",
    "<div style=\"display: inline-flex\">\n",
    "    <div style=\"margin: 10px; width:45%\">\n",
    "        <h5>Atmospheric Correction Parameters Request Module</h5>\n",
    "        <img src='./src/images/sample_form_atmCorr.png' style='width:95%'>\n",
    "    </div> \n",
    "    <div style=\"margin: 10px; width:45%\">\n",
    "        <h5>Atmospheric Correction Parameters Request Output</h5>\n",
    "        <img src='./src/images/sample_output_atmCorr.png' style='width:95%'>\n",
    "    </div> \n",
    "</div>\n",
    "\n",
    "Once the parameters are obtained, it is possible to update the **atmCorr.csv** file with the help of a text editor, or excel, to add a ne line for the new record. Notice that the data must be compiled in the same order as stated in the first line.\n",
    "\n",
    "<div style=\"display: flex; align-items: center; justify-content: center\">\n",
    "    <div style=\"margin: 10px\">\n",
    "        <h5>Atmospheric Correction Parameters File Update</h5>\n",
    "        <img src='./src/images/sample_update_atmCorr.png' style='width:40%'>\n",
    "    </div> \n",
    "</div>"
   ]
  },
  {
   "cell_type": "code",
   "execution_count": null,
   "metadata": {},
   "outputs": [],
   "source": [
    "# Read the atmospheric correction parameters file\n",
    "df_atm = pd.read_csv(os.path.join(cwd_path['in_parameters'],'atmCorr.csv'))\n",
    "df_atm_keys = list(df_t.keys())"
   ]
  },
  {
   "cell_type": "code",
   "execution_count": null,
   "metadata": {},
   "outputs": [],
   "source": [
    "df_atm['DateTime'] = pd.to_datetime(df_atm['DateTime'], format='%Y/%m/%d %H:%M')\n",
    "df_atm['DateTime'] = df_atm['DateTime'].dt.date"
   ]
  },
  {
   "cell_type": "code",
   "execution_count": null,
   "metadata": {},
   "outputs": [],
   "source": [
    "df_atm.head()"
   ]
  },
  {
   "cell_type": "markdown",
   "metadata": {},
   "source": [
    "## 2. WQP maps production\n",
    "\n",
    "This section presents the processing of the Water Quality Parameters maps correspongding to the specific product and map typology."
   ]
  },
  {
   "cell_type": "code",
   "execution_count": null,
   "metadata": {},
   "outputs": [],
   "source": [
    "# Temptative bounding box for the area of interest\n",
    "bbox = {\n",
    "    'minLat' : 45.3,\n",
    "    'maxLat' : 46.65,\n",
    "    'minLon' : 7.9,\n",
    "    'maxLon' : 9.95,\n",
    "}"
   ]
  },
  {
   "cell_type": "code",
   "execution_count": null,
   "metadata": {},
   "outputs": [],
   "source": [
    "# Format output processed images\n",
    "writeFormat = 'GeoTIFF'"
   ]
  },
  {
   "cell_type": "markdown",
   "metadata": {},
   "source": [
    "### S3 - Chlorophyll-a (CHL-a) and Total Suspended Matter (TSM)"
   ]
  },
  {
   "cell_type": "markdown",
   "metadata": {},
   "source": [
    "Here, the WQP maps using the Sentinel-3A/B images are derived. The retrieval of the sentinel images can be achieved through the procedure described in the notebook [downloadWEkEO](./downloadWEkEO.ipynb) to import the images directly into the processing directory. Alternatively, it is possible to download the images through [Copernicus Access Hub](https://scihub.copernicus.eu/dhus/#/home), add move the images into the `./in/satellite_imagery/S3` folder and unzip the products into separate folders. "
   ]
  },
  {
   "cell_type": "code",
   "execution_count": null,
   "metadata": {
    "tags": []
   },
   "outputs": [],
   "source": [
    "wqpParams = wqpParams_S3\n",
    "for root, dirs, files in os.walk(in_path):\n",
    "    for d in dirs:\n",
    "        if (d != '.ipynb_checkpoints'):\n",
    "            # 1. Read the product\n",
    "            s3_image = wqpSNAP.snapProduct(os.path.join(root,d,'xfdumanifest.xml'),bbox)\n",
    "            s3_image.readSNAPProduct()\n",
    "            s3_image.name = s3_image.path.split('/')[-2]\n",
    "            print(s3_image.name)\n",
    "            try:\n",
    "                # 2. Update the bounding box for the subset selection\n",
    "                params_subset = s3_image.updateSNAPSubset(wqpParams.params_subset)\n",
    "                subset_product = wqpSNAP.executeSNAPFunction(s3_image.product, params_subset)\n",
    "                # 3. Reproject the subset\n",
    "                reproject_product = wqpSNAP.executeSNAPFunction(subset_product, wqpParams.params_reproject)\n",
    "                # 4. Update the C2RCC temperature value. C2RCC wqp products\n",
    "                params_C2RCC = s3_image.updateSNAPTemperature(df_t, wqpParams.params_C2RCC)\n",
    "                c2rcc_product = wqpSNAP.executeSNAPFunction(reproject_product, params_C2RCC)\n",
    "                # 5. Import vector layer\n",
    "                importVector_product = wqpSNAP.executeSNAPFunction(c2rcc_product, wqpParams.params_importVector)\n",
    "                # 6. Band Maths operations\n",
    "                bandMaths_product_C2RCC = wqpSNAP.executeSNAPFunction(importVector_product, wqpParams.params_bandMaths)\n",
    "                # bandMaths_product_oa = wqpSNAP.executeSNAPFunction(reproject_product, wqpParams.params_bandMaths_oa)\n",
    "                # bandMaths_product_rrs = wqpSNAP.executeSNAPFunction(importVector_product, wqpParams.params_bandMaths_rrs)  \n",
    "                # bandMaths_product_masks = wqpSNAP.executeSNAPFunction(importVector_product, wqpParams.params_bandMaths_masks)\n",
    "                print('bandmaths')\n",
    "                # 7. Extract bands\n",
    "                # Product bands to be extracted\n",
    "                bandExtract_product_chl = wqpSNAP.executeSNAPFunction(bandMaths_product_C2RCC, wqpParams.params_bandExtractor_chl)\n",
    "                bandExtract_product_tsm = wqpSNAP.executeSNAPFunction(bandMaths_product_C2RCC, wqpParams.params_bandExtractor_tsm)\n",
    "                # bandExtract_product_chl_no_clip = wqpSNAP.executeSNAPFunction(bandMaths_product_C2RCC, wqpParams.params_bandExtractor_chl_no_clip)\n",
    "                # bandExtract_product_tsm_no_clip = wqpSNAP.executeSNAPFunction(bandMaths_product_C2RCC, wqpParams.params_bandExtractor_tsm_no_clip)\n",
    "                # bandExtract_product_chl_no_mask = wqpSNAP.executeSNAPFunction(bandMaths_product_C2RCC, wqpParams.params_bandExtractor_chl_no_masks)\n",
    "                # bandExtract_product_tsm_no_mask = wqpSNAP.executeSNAPFunction(bandMaths_product_C2RCC, wqpParams.params_bandExtractor_tsm_no_masks)\n",
    "                # bandExtract_product_chl_cloud_mask = wqpSNAP.executeSNAPFunction(bandMaths_product_C2RCC, wqpParams.params_bandExtractor_chl_cloud_mask)\n",
    "                # bandExtract_product_tsm_cloud_mask = wqpSNAP.executeSNAPFunction(bandMaths_product_C2RCC, wqpParams.params_bandExtractor_tsm_cloud_mask)\n",
    "                # bandExtract_product_oa = wqpSNAP.executeSNAPFunction(bandMaths_product_oa, wqpParams.params_bandExtractor_oa)\n",
    "                # bandExtract_product_rrs = wqpSNAP.executeSNAPFunction(bandMaths_product_rrs, wqpParams.params_bandExtractor_rrs)\n",
    "                # bandExtract_product_masks = wqpSNAP.executeSNAPFunction(bandMaths_product_masks, wqpParams.params_bandExtractor_masks)\n",
    "                print('extract')\n",
    "                # 8. Save bands\n",
    "                # Define output paths\n",
    "                sensorName = s3_image.name.split('_')[0]\n",
    "                sensorDate = s3_image.name.split('_')[8]\n",
    "                print(sensorName, sensorDate)\n",
    "                out_path_chl = os.path.join(cwd_path['out_wqp']+'/chl/'+sensorName+'_CHL_IT_'+sensorDate+'_L1')\n",
    "                out_path_tsm = os.path.join(cwd_path['out_wqp']+'/tsm/'+sensorName+'_TSM_IT_'+sensorDate+'_L1')\n",
    "                # out_path_chl_no_clip = os.path.join(cwd_path['out_wqp_no_clip']+'\\\\chl\\\\'+sensorName+'_CHL_IT_'+sensorDate+'_L1')\n",
    "                # out_path_tsm_no_clip = os.path.join(cwd_path['out_wqp_no_clip']+'\\\\tsm\\\\'+sensorName+'_TSM_IT_'+sensorDate+'_L1')\n",
    "                # out_path_chl_no_mask = os.path.join(cwd_path['out_wqp_no_mask']+'\\\\chl\\\\'+sensorName+'_CHL_IT_'+sensorDate+'_L1')\n",
    "                # out_path_tsm_no_mask = os.path.join(cwd_path['out_wqp_no_mask']+'\\\\tsm\\\\'+sensorName+'_TSM_IT_'+sensorDate+'_L1')\n",
    "                # out_path_chl_cloud_mask = os.path.join(cwd_path['out_wqp_cloud']+'\\\\chl\\\\'+sensorName+'_CHL_IT_'+sensorDate+'_L1')\n",
    "                # out_path_tsm_cloud_mask = os.path.join(cwd_path['out_wqp_cloud']+'\\\\tsm\\\\'+sensorName+'_TSM_IT_'+sensorDate+'_L1')\n",
    "                # out_path_mask = os.path.join(cwd_path['out_masks']+'\\\\'+sensorName+'_IT_'+sensor_date+'_L1')\n",
    "                # out_path_oa = os.path.join(cwd_path['out_oa']+'\\\\'+sensorName+'_IT_'+sensorDate+'_L1')\n",
    "                # out_path_rrs = os.path.join(cwd_path['out_rrs']+'\\\\'+sensorName+'_IT_'+sensorDate+'_L1')\n",
    "                # Save Bands\n",
    "                wqpSNAP.exportProductBands(bandExtract_product_chl, out_path_chl, writeFormat)\n",
    "                wqpSNAP.exportProductBands(bandExtract_product_tsm, out_path_tsm, writeFormat)\n",
    "                # wqpSNAP.exportProductBands(bandExtract_product_chl_no_clip, out_path_chl_no_clip, writeFormat)\n",
    "                # wqpSNAP.exportProductBands(bandExtract_product_tsm_no_clip, out_path_tsm_no_clip, writeFormat)\n",
    "                # wqpSNAP.exportProductBands(bandExtract_product_chl_no_mask, out_path_chl_no_mask, writeFormat)\n",
    "                # wqpSNAP.exportProductBands(bandExtract_product_tsm_no_mask, out_path_tsm_no_mask, writeFormat)\n",
    "                # wqpSNAP.exportProductBands(bandExtract_product_chl_cloud_mask, out_path_chl_cloud_mask, writeFormat)\n",
    "                # wqpSNAP.exportProductBands(bandExtract_product_tsm_cloud_mask, out_path_tsm_cloud_mask, writeFormat)\n",
    "                # wqpSNAP.exportProductBands(bandExtract_product_masks, out_path_mask, writeFormat)\n",
    "                # wqpSNAP.exportProductBands(bandExtract_product_oa, out_path_oa, writeFormat)\n",
    "                # wqpSNAP.exportProductBands(bandExtract_product_rrs, out_path_rrs, writeFormat)\n",
    "                # Clean environment\n",
    "                subset_product.dispose() \n",
    "                reproject_product.dispose()\n",
    "                c2rcc_product.dispose()\n",
    "                importVector_product.dispose()\n",
    "                bandExtract_product_chl.dispose()\n",
    "                bandExtract_product_tsm.dispose()\n",
    "                # bandExtract_product_chl_no_mask.dispose()\n",
    "                # bandExtract_product_tsm_no_mask.dispose()\n",
    "                # bandExtract_product_chl_cloud_mask.dispose()\n",
    "                # bandExtract_product_tsm_cloud_mask.dispose()\n",
    "                # bandExtract_product_rrs.dispose()\n",
    "                # bandExtract_product_oa.dispose()\n",
    "                # bandExtract_product_masks.dispose()\n",
    "                del s3_image\n",
    "                del subset_product\n",
    "                del reproject_product\n",
    "                del c2rcc_product\n",
    "                del importVector_product\n",
    "                del bandExtract_product_chl\n",
    "                del bandExtract_product_tsm\n",
    "                # del bandExtract_product_chl_no_mask\n",
    "                # del bandExtract_product_tsm_no_mask\n",
    "                # del bandExtract_product_chl_cloud_mask\n",
    "                # del bandExtract_product_tsm_cloud_mask\n",
    "                # del bandExtract_product_rrs\n",
    "                # del bandExtract_product_oa\n",
    "                # del bandExtract_product_masks\n",
    "            except:\n",
    "                # Open a file with access mode 'a'\n",
    "                file_object = open(os.path.join(cwd_path['out'],f'error_images_{sensor.value}.txt'), 'a')\n",
    "                # Append 'hello' at the end of file\n",
    "                file_object.write(s3_image.name)\n",
    "                file_object.write(\"\\n\")\n",
    "                # Close the file\n",
    "                file_object.close()"
   ]
  },
  {
   "cell_type": "markdown",
   "metadata": {},
   "source": [
    "### L8 - Land Surface Water Temperature (LSWT)"
   ]
  },
  {
   "cell_type": "markdown",
   "metadata": {},
   "source": [
    "Here, the WQP maps using the Landsat-8 images are derived. It is possible to download the images through [USGS Earth explorer](https://earthexplorer.usgs.gov/), add move the images into the `./in/satellite_imagery/L8` folder and unzip the products into separate folders."
   ]
  },
  {
   "cell_type": "code",
   "execution_count": null,
   "metadata": {
    "scrolled": true,
    "tags": []
   },
   "outputs": [],
   "source": [
    "wqpParams = wqpParams_L8\n",
    "for root, dirs, files in os.walk(in_path):\n",
    "    for f in files:\n",
    "        if f.endswith('MTL.txt'):\n",
    "            print(os.path.join(root,f),bbox)\n",
    "            # 1. Read the product\n",
    "            l8_image = wqpSNAP.snapProduct(os.path.join(root,f),bbox)\n",
    "            l8_image.readSNAPProduct()\n",
    "            l8_image.name = l8_image.path.split('/')[-2].split('.')[0]\n",
    "            params_bandMaths = l8_image.updateSNAPAtmCorr(df_atm,wqpParams.params_bandMaths)\n",
    "            try:\n",
    "                # 2. Update the bounding box for the subset selection\n",
    "                params_subset = l8_image.updateSNAPSubset(wqpParams.params_subset)\n",
    "                subset_product = wqpSNAP.executeSNAPFunction(l8_image.product, params_subset)\n",
    "                # 3. Reproject the subset\n",
    "    #                 reproject_product = wqpSNAP.executeSNAPFunction(subset_product, wqpParams.params_reproject) \n",
    "                # 4. Resample\n",
    "                resample_product = wqpSNAP.executeSNAPFunction(subset_product, wqpParams.params_resample)\n",
    "                # 5. Import-Vector\n",
    "                importVector_product = wqpSNAP.executeSNAPFunction(resample_product, wqpParams.params_importVector)\n",
    "                # 6. BandMaths\n",
    "                bandMaths_product = wqpSNAP.executeSNAPFunction(importVector_product, params_bandMaths)\n",
    "                # bandMaths_product_masks = wqpSNAP.executeSNAPFunction(importVector_product, wqpParams.params_bandMaths_masks)\n",
    "                # 7. BandExtract\n",
    "                # bandExtract_product_lswt = wqpSNAP.executeSNAPFunction(bandMaths_product, wqpParams.params_bandExtractor_lswt)\n",
    "                # bandExtract_product_lswt_mid_high = wqpSNAP.executeSNAPFunction(bandMaths_product, wqpParams.params_bandExtractor_lswt_mid_high)\n",
    "                bandExtract_product_lswt_high = wqpSNAP.executeSNAPFunction(bandMaths_product, wqpParams.params_bandExtractor_lswt_high)\n",
    "                # bandExtract_product_masks = wqpSNAP.executeSNAPFunction(bandMaths_product_masks, wqpParams.params_bandExtractor_masks)\n",
    "                # 8. Export bands\n",
    "                # Output paths\n",
    "                sensor_date = l8_image.name.split('_')[3]\n",
    "                # out_path_lswt = os.path.join(out_path,'wqp','lswt',sensor.value+'_LSWT_IT_'+sensor_date+'_L1')\n",
    "                # out_path_lswt_mid_high = os.path.join(out_path,'wqp_mid_high_clouds','lswt',sensor.value+'_LSWT_IT_'+sensor_date+'_L1')\n",
    "                out_path_lswt_high = os.path.join(out_path,'wqp','lswt',sensor.value+'_LSWT_IT_'+sensor_date+'_L1')\n",
    "                # out_path_mask = os.path.join(out_path,'masks',sensor.value+'_LSWT_IT_'+sensor_date+'_L1')\n",
    "                #Save Bands\n",
    "                # wqpSNAP.exportProductBands(bandExtract_product_lswt, out_path_lswt, writeFormat)\n",
    "                # wqpSNAP.exportProductBands(bandExtract_product_lswt_mid_high, out_path_lswt_mid_high, writeFormat)\n",
    "                wqpSNAP.exportProductBands(bandExtract_product_lswt_high, out_path_lswt_high, writeFormat)\n",
    "                # wqpSNAP.exportProductBands(bandExtract_product_masks, out_path_mask, writeFormat)\n",
    "                \n",
    "                subset_product.dispose() \n",
    "                importVector_product.dispose()\n",
    "                resample_product.dispose()\n",
    "                bandMaths_product.dispose()\n",
    "                bandMaths_product_masks.dispose()\n",
    "                bandExtract_product_lswt.dispose()\n",
    "                bandExtract_product_lswt_mid_high.dispose()\n",
    "                bandExtract_product_lswt_high.dispose()\n",
    "                bandExtract_product_masks.dispose()\n",
    "#                 del l8_image\n",
    "                del subset_product\n",
    "                del importVector_product\n",
    "                del resample_product\n",
    "                # del bandExtract_product_lswt\n",
    "                # del bandExtract_product_lswt_mid_high\n",
    "                del bandExtract_product_lswt_high\n",
    "                # del bandExtract_product_masks\n",
    "                del bandMaths_product\n",
    "                # del bandMaths_product_masks\n",
    "            except:\n",
    "                # Open a file with access mode 'a'\n",
    "                file_object = open(os.path.join(cwd_path['out'],f'error_images_{sensor.value}.txt'), 'a')\n",
    "                file_object.write(l8_image.name)\n",
    "                file_object.write(\"\\n\")\n",
    "                # Close the file\n",
    "                file_object.close()"
   ]
  },
  {
   "cell_type": "markdown",
   "metadata": {},
   "source": [
    "### EUMETSAT products extract"
   ]
  },
  {
   "cell_type": "code",
   "execution_count": null,
   "metadata": {},
   "outputs": [],
   "source": [
    "wqpParams = wqpParams_EUMETSAT\n",
    "print(in_path)\n",
    "#Image processing of the files in the input folder\n",
    "for root, directories, files in os.walk(in_path, topdown=False):\n",
    "    for f in files:\n",
    "        if (f.endswith('.xml')):\n",
    "            try:\n",
    "                # 1. Read the product\n",
    "                EUMETSAT_image = wqpSNAP.snapProduct(os.path.join(root,f),bbox)\n",
    "                EUMETSAT_image.readSNAPProduct()\n",
    "                EUMETSAT_image.name = EUMETSAT_image.path.split('\\\\')[-2].split('.')[0]\n",
    "                print(EUMETSAT_image.name)\n",
    "                # 2. Update the bounding box for the subset selection\n",
    "                params_subset = EUMETSAT_image.updateSNAPSubset(wqpParams.params_subset)\n",
    "                subset_product = wqpSNAP.executeSNAPFunction(EUMETSAT_image.product, params_subset)\n",
    "                # 3. Reproject\n",
    "                reproject_product = wqpSNAP.executeSNAPFunction(subset_product, wqpParams.params_reproject)\n",
    "                # 4. Import-Vector\n",
    "                importVector_product = wqpSNAP.executeSNAPFunction(reproject_product, wqpParams.params_importVector)\n",
    "                # 5. BandMaths\n",
    "                bandMaths_product = wqpSNAP.executeSNAPFunction(importVector_product, wqpParams.params_bandMaths)\n",
    "                # 6. BandExtract+\n",
    "                bandExtract_product_chl_nn = wqpSNAP.executeSNAPFunction(bandMaths_product, wqpParams.params_bandExtractor_chl_nn)\n",
    "                bandExtract_product_chl_oc4me = wqpSNAP.executeSNAPFunction(bandMaths_product, wqpParams.params_bandExtractor_chl_oc4me)\n",
    "                bandExtract_product_tsm_nn = wqpSNAP.executeSNAPFunction(bandMaths_product, wqpParams.params_bandExtractor_tsm_nn)\n",
    "                # 7. Write Subset test\n",
    "                sensor_date = EUMETSAT_image.name.split('_')[7]\n",
    "                sensor_value = EUMETSAT_image.name.split('_')[0]\n",
    "                out_path_chl_nn = os.path.join(out_path,'out_chl_nn')\n",
    "                out_chl_oc4me = os.path.join(out_path,'out_chl_oc4me')\n",
    "#                 out_tsm_nn = os.path.join(out_path,'out_tsm_nn')\n",
    "                wqpSNAP.exportProductBands(bandExtract_product_chl_nn ,os.path.join(out_path_chl_nn,sensor_value+'_CHL_IT_'+sensor_date+'_L1'), writeFormat)\n",
    "                wqpSNAP.exportProductBands(bandExtract_product_chl_oc4me,os.path.join(out_chl_oc4me,sensor_value+'_CHL_IT_'+sensor_date+'_L1'), writeFormat)\n",
    "                wqpSNAP.exportProductBands(bandExtract_product_tsm_nn,os.path.join(out_tsm_nn,sensor_value+'_TSM_IT_'+sensor_date+'_L1'), writeFormat)\n",
    "                \n",
    "                subset_product.dispose() \n",
    "                importVector_product.dispose()\n",
    "                bandMaths_product.dispose()\n",
    "                bandExtract_product_chl_nn.dispose()\n",
    "                bandExtract_product_chl_oc4me.dispose()\n",
    "                bandExtract_product_tsm_nn.dispose()\n",
    "#                 del l8_image\n",
    "                del subset_product\n",
    "                del importVector_product\n",
    "                del bandExtract_product_chl_nn\n",
    "                del bandExtract_product_chl_oc4me\n",
    "                del bandExtract_product_tsm_nn\n",
    "            except:\n",
    "                # Open a file with access mode 'a'\n",
    "                file_object = open(os.path.join('./in/data/satellite_imagery',f'error_images_{sensor.value}.txt'), 'a')\n",
    "                # Append 'hello' at the end of file\n",
    "                file_object.write(EUMETSAT_image.name)\n",
    "                file_object.write(\"\\n\")\n",
    "                # Close the file\n",
    "                file_object.close()"
   ]
  }
 ],
 "metadata": {
  "kernelspec": {
   "display_name": "snapEnv (Python)",
   "language": "python",
   "name": "snapenv"
  },
  "language_info": {
   "codemirror_mode": {
    "name": "ipython",
    "version": 3
   },
   "file_extension": ".py",
   "mimetype": "text/x-python",
   "name": "python",
   "nbconvert_exporter": "python",
   "pygments_lexer": "ipython3",
   "version": "3.6.15"
  }
 },
 "nbformat": 4,
 "nbformat_minor": 4
}
